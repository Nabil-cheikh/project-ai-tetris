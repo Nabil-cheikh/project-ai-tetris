{
 "cells": [
  {
   "cell_type": "markdown",
   "metadata": {},
   "source": [
    "# Here is my notebook"
   ]
  },
  {
   "cell_type": "code",
   "execution_count": 3,
   "metadata": {},
   "outputs": [
    {
     "name": "stderr",
     "output_type": "stream",
     "text": [
      "UserWarning: Using SDL2 binaries from pysdl2-dll 2.30.2\n"
     ]
    }
   ],
   "source": [
    "# Emulation\n",
    "from pyboy import PyBoy\n",
    "from pyboy.utils import WindowEvent\n",
    "import time\n",
    "import numpy as np"
   ]
  },
  {
   "cell_type": "code",
   "execution_count": 4,
   "metadata": {},
   "outputs": [],
   "source": [
    "import os\n",
    "\n",
    "rom_path = os.path.join('..', 'data', 'rom', 'Tetris.gb')"
   ]
  },
  {
   "cell_type": "code",
   "execution_count": 11,
   "metadata": {},
   "outputs": [],
   "source": [
    "pyboy = PyBoy(rom_path)\n",
    "\n",
    "pyboy.set_emulation_speed() # No speed limit\n",
    "assert pyboy.cartridge_title == \"TETRIS\"\n",
    "\n",
    "tetris = pyboy.game_wrapper\n",
    "tetris.game_area_mapping(tetris.mapping_compressed, 0)\n",
    "tetris.start_game(timer_div=0x00) # The timer_div works like a random seed in Tetris\n",
    "pyboy.tick() # To render screen after `.start_game`\n",
    "\n",
    "pyboy.send_input(WindowEvent.SCREEN_RECORDING_TOGGLE)\n",
    "\n",
    "blank_tile = 0\n",
    "first_brick = False\n",
    "\n",
    "while pyboy.tick(1, True):\n",
    "    pass\n",
    "\n",
    "pyboy.screen.image.save(\"Tetris2.png\")\n",
    "pyboy.send_input(WindowEvent.SCREEN_RECORDING_TOGGLE)\n",
    "\n",
    "pyboy.stop()"
   ]
  },
  {
   "cell_type": "code",
   "execution_count": 6,
   "metadata": {},
   "outputs": [],
   "source": []
  }
 ],
 "metadata": {
  "kernelspec": {
   "display_name": "lewagon",
   "language": "python",
   "name": "python3"
  },
  "language_info": {
   "codemirror_mode": {
    "name": "ipython",
    "version": 3
   },
   "file_extension": ".py",
   "mimetype": "text/x-python",
   "name": "python",
   "nbconvert_exporter": "python",
   "pygments_lexer": "ipython3",
   "version": "3.10.6"
  }
 },
 "nbformat": 4,
 "nbformat_minor": 2
}

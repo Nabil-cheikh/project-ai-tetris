{
 "cells": [
  {
   "cell_type": "markdown",
   "id": "328c6797",
   "metadata": {},
   "source": [
    "# Test Reinforcement Learning in PyBoy (Tetris)"
   ]
  },
  {
   "cell_type": "markdown",
   "id": "3738d8d9",
   "metadata": {},
   "source": [
    "## Imports"
   ]
  },
  {
   "cell_type": "markdown",
   "id": "0a517801",
   "metadata": {},
   "source": [
    "### Installations"
   ]
  },
  {
   "cell_type": "code",
   "execution_count": 2,
   "id": "59e7f5e8",
   "metadata": {
    "collapsed": true
   },
   "outputs": [
    {
     "name": "stdout",
     "output_type": "stream",
     "text": [
      "Requirement already satisfied: pyboy in /Users/julienbellande/.pyenv/versions/3.10.6/envs/IA-Tetris/lib/python3.10/site-packages (2.2.2)\n",
      "Requirement already satisfied: numpy in /Users/julienbellande/.pyenv/versions/3.10.6/envs/IA-Tetris/lib/python3.10/site-packages (from pyboy) (2.1.0)\n",
      "Requirement already satisfied: pysdl2 in /Users/julienbellande/.pyenv/versions/3.10.6/envs/IA-Tetris/lib/python3.10/site-packages (from pyboy) (0.9.16)\n",
      "Requirement already satisfied: pysdl2-dll in /Users/julienbellande/.pyenv/versions/3.10.6/envs/IA-Tetris/lib/python3.10/site-packages (from pyboy) (2.30.2)\n"
     ]
    }
   ],
   "source": [
    "!pip install pyboy"
   ]
  },
  {
   "cell_type": "code",
   "execution_count": 4,
   "id": "d1e71e2c",
   "metadata": {},
   "outputs": [
    {
     "name": "stdout",
     "output_type": "stream",
     "text": [
      "Collecting stable-baselines3[extra]\n",
      "  Using cached stable_baselines3-2.3.2-py3-none-any.whl.metadata (5.1 kB)\n",
      "Collecting gymnasium<0.30,>=0.28.1 (from stable-baselines3[extra])\n",
      "  Using cached gymnasium-0.29.1-py3-none-any.whl.metadata (10 kB)\n",
      "Requirement already satisfied: numpy>=1.20 in /Users/julienbellande/.pyenv/versions/3.10.6/envs/IA-Tetris/lib/python3.10/site-packages (from stable-baselines3[extra]) (2.1.0)\n",
      "Collecting torch>=1.13 (from stable-baselines3[extra])\n",
      "  Using cached torch-2.4.0-cp310-none-macosx_11_0_arm64.whl.metadata (26 kB)\n",
      "Collecting cloudpickle (from stable-baselines3[extra])\n",
      "  Using cached cloudpickle-3.0.0-py3-none-any.whl.metadata (7.0 kB)\n",
      "Requirement already satisfied: pandas in /Users/julienbellande/.pyenv/versions/3.10.6/envs/IA-Tetris/lib/python3.10/site-packages (from stable-baselines3[extra]) (2.2.2)\n",
      "Requirement already satisfied: matplotlib in /Users/julienbellande/.pyenv/versions/3.10.6/envs/IA-Tetris/lib/python3.10/site-packages (from stable-baselines3[extra]) (3.9.2)\n",
      "Collecting opencv-python (from stable-baselines3[extra])\n",
      "  Using cached opencv_python-4.10.0.84-cp37-abi3-macosx_11_0_arm64.whl.metadata (20 kB)\n",
      "Collecting pygame (from stable-baselines3[extra])\n",
      "  Using cached pygame-2.6.0-cp310-cp310-macosx_11_0_arm64.whl.metadata (12 kB)\n",
      "Collecting tensorboard>=2.9.1 (from stable-baselines3[extra])\n",
      "  Using cached tensorboard-2.17.1-py3-none-any.whl.metadata (1.6 kB)\n",
      "Requirement already satisfied: psutil in /Users/julienbellande/.pyenv/versions/3.10.6/envs/IA-Tetris/lib/python3.10/site-packages (from stable-baselines3[extra]) (6.0.0)\n",
      "Collecting tqdm (from stable-baselines3[extra])\n",
      "  Using cached tqdm-4.66.5-py3-none-any.whl.metadata (57 kB)\n",
      "Collecting rich (from stable-baselines3[extra])\n",
      "  Using cached rich-13.7.1-py3-none-any.whl.metadata (18 kB)\n",
      "Collecting shimmy~=1.3.0 (from shimmy[atari]~=1.3.0; extra == \"extra\"->stable-baselines3[extra])\n",
      "  Using cached Shimmy-1.3.0-py3-none-any.whl.metadata (3.7 kB)\n",
      "Requirement already satisfied: pillow in /Users/julienbellande/.pyenv/versions/3.10.6/envs/IA-Tetris/lib/python3.10/site-packages (from stable-baselines3[extra]) (10.4.0)\n",
      "Collecting autorom~=0.6.1 (from autorom[accept-rom-license]~=0.6.1; extra == \"extra\"->stable-baselines3[extra])\n",
      "  Using cached AutoROM-0.6.1-py3-none-any.whl.metadata (2.4 kB)\n",
      "Collecting click (from autorom~=0.6.1->autorom[accept-rom-license]~=0.6.1; extra == \"extra\"->stable-baselines3[extra])\n",
      "  Using cached click-8.1.7-py3-none-any.whl.metadata (3.0 kB)\n",
      "Requirement already satisfied: requests in /Users/julienbellande/.pyenv/versions/3.10.6/envs/IA-Tetris/lib/python3.10/site-packages (from autorom~=0.6.1->autorom[accept-rom-license]~=0.6.1; extra == \"extra\"->stable-baselines3[extra]) (2.32.3)\n",
      "Collecting AutoROM.accept-rom-license (from autorom[accept-rom-license]~=0.6.1; extra == \"extra\"->stable-baselines3[extra])\n",
      "  Using cached AutoROM.accept-rom-license-0.6.1.tar.gz (434 kB)\n",
      "  Installing build dependencies ... \u001b[?25ldone\n",
      "\u001b[?25h  Getting requirements to build wheel ... \u001b[?25ldone\n",
      "\u001b[?25h  Preparing metadata (pyproject.toml) ... \u001b[?25ldone\n",
      "\u001b[?25hRequirement already satisfied: typing-extensions>=4.3.0 in /Users/julienbellande/.pyenv/versions/3.10.6/envs/IA-Tetris/lib/python3.10/site-packages (from gymnasium<0.30,>=0.28.1->stable-baselines3[extra]) (4.12.2)\n",
      "Collecting farama-notifications>=0.0.1 (from gymnasium<0.30,>=0.28.1->stable-baselines3[extra])\n",
      "  Using cached Farama_Notifications-0.0.4-py3-none-any.whl.metadata (558 bytes)\n",
      "Collecting ale-py~=0.8.1 (from shimmy[atari]~=1.3.0; extra == \"extra\"->stable-baselines3[extra])\n",
      "  Using cached ale_py-0.8.1-cp310-cp310-macosx_11_0_arm64.whl.metadata (8.1 kB)\n",
      "Collecting absl-py>=0.4 (from tensorboard>=2.9.1->stable-baselines3[extra])\n",
      "  Using cached absl_py-2.1.0-py3-none-any.whl.metadata (2.3 kB)\n",
      "Collecting grpcio>=1.48.2 (from tensorboard>=2.9.1->stable-baselines3[extra])\n",
      "  Using cached grpcio-1.65.5-cp310-cp310-macosx_12_0_universal2.whl.metadata (3.3 kB)\n",
      "Collecting markdown>=2.6.8 (from tensorboard>=2.9.1->stable-baselines3[extra])\n",
      "  Using cached Markdown-3.7-py3-none-any.whl.metadata (7.0 kB)\n",
      "Requirement already satisfied: packaging in /Users/julienbellande/.pyenv/versions/3.10.6/envs/IA-Tetris/lib/python3.10/site-packages (from tensorboard>=2.9.1->stable-baselines3[extra]) (24.1)\n",
      "Collecting protobuf!=4.24.0,>=3.19.6 (from tensorboard>=2.9.1->stable-baselines3[extra])\n",
      "  Using cached protobuf-5.27.3-cp38-abi3-macosx_10_9_universal2.whl.metadata (592 bytes)\n",
      "Requirement already satisfied: setuptools>=41.0.0 in /Users/julienbellande/.pyenv/versions/3.10.6/envs/IA-Tetris/lib/python3.10/site-packages (from tensorboard>=2.9.1->stable-baselines3[extra]) (63.2.0)\n",
      "Requirement already satisfied: six>1.9 in /Users/julienbellande/.pyenv/versions/3.10.6/envs/IA-Tetris/lib/python3.10/site-packages (from tensorboard>=2.9.1->stable-baselines3[extra]) (1.16.0)\n",
      "Collecting tensorboard-data-server<0.8.0,>=0.7.0 (from tensorboard>=2.9.1->stable-baselines3[extra])\n",
      "  Using cached tensorboard_data_server-0.7.2-py3-none-any.whl.metadata (1.1 kB)\n",
      "Collecting werkzeug>=1.0.1 (from tensorboard>=2.9.1->stable-baselines3[extra])\n",
      "  Using cached werkzeug-3.0.3-py3-none-any.whl.metadata (3.7 kB)\n",
      "Collecting filelock (from torch>=1.13->stable-baselines3[extra])\n",
      "  Using cached filelock-3.15.4-py3-none-any.whl.metadata (2.9 kB)\n",
      "Collecting sympy (from torch>=1.13->stable-baselines3[extra])\n",
      "  Using cached sympy-1.13.2-py3-none-any.whl.metadata (12 kB)\n",
      "Collecting networkx (from torch>=1.13->stable-baselines3[extra])\n",
      "  Using cached networkx-3.3-py3-none-any.whl.metadata (5.1 kB)\n",
      "Requirement already satisfied: jinja2 in /Users/julienbellande/.pyenv/versions/3.10.6/envs/IA-Tetris/lib/python3.10/site-packages (from torch>=1.13->stable-baselines3[extra]) (3.1.4)\n",
      "Collecting fsspec (from torch>=1.13->stable-baselines3[extra])\n",
      "  Using cached fsspec-2024.6.1-py3-none-any.whl.metadata (11 kB)\n",
      "Requirement already satisfied: contourpy>=1.0.1 in /Users/julienbellande/.pyenv/versions/3.10.6/envs/IA-Tetris/lib/python3.10/site-packages (from matplotlib->stable-baselines3[extra]) (1.2.1)\n",
      "Requirement already satisfied: cycler>=0.10 in /Users/julienbellande/.pyenv/versions/3.10.6/envs/IA-Tetris/lib/python3.10/site-packages (from matplotlib->stable-baselines3[extra]) (0.12.1)\n",
      "Requirement already satisfied: fonttools>=4.22.0 in /Users/julienbellande/.pyenv/versions/3.10.6/envs/IA-Tetris/lib/python3.10/site-packages (from matplotlib->stable-baselines3[extra]) (4.53.1)\n",
      "Requirement already satisfied: kiwisolver>=1.3.1 in /Users/julienbellande/.pyenv/versions/3.10.6/envs/IA-Tetris/lib/python3.10/site-packages (from matplotlib->stable-baselines3[extra]) (1.4.5)\n",
      "Requirement already satisfied: pyparsing>=2.3.1 in /Users/julienbellande/.pyenv/versions/3.10.6/envs/IA-Tetris/lib/python3.10/site-packages (from matplotlib->stable-baselines3[extra]) (3.1.2)\n",
      "Requirement already satisfied: python-dateutil>=2.7 in /Users/julienbellande/.pyenv/versions/3.10.6/envs/IA-Tetris/lib/python3.10/site-packages (from matplotlib->stable-baselines3[extra]) (2.9.0.post0)\n",
      "Requirement already satisfied: pytz>=2020.1 in /Users/julienbellande/.pyenv/versions/3.10.6/envs/IA-Tetris/lib/python3.10/site-packages (from pandas->stable-baselines3[extra]) (2024.1)\n",
      "Requirement already satisfied: tzdata>=2022.7 in /Users/julienbellande/.pyenv/versions/3.10.6/envs/IA-Tetris/lib/python3.10/site-packages (from pandas->stable-baselines3[extra]) (2024.1)\n",
      "Collecting markdown-it-py>=2.2.0 (from rich->stable-baselines3[extra])\n",
      "  Using cached markdown_it_py-3.0.0-py3-none-any.whl.metadata (6.9 kB)\n",
      "Requirement already satisfied: pygments<3.0.0,>=2.13.0 in /Users/julienbellande/.pyenv/versions/3.10.6/envs/IA-Tetris/lib/python3.10/site-packages (from rich->stable-baselines3[extra]) (2.18.0)\n",
      "Collecting importlib-resources (from ale-py~=0.8.1->shimmy[atari]~=1.3.0; extra == \"extra\"->stable-baselines3[extra])\n",
      "  Using cached importlib_resources-6.4.3-py3-none-any.whl.metadata (3.9 kB)\n",
      "Collecting mdurl~=0.1 (from markdown-it-py>=2.2.0->rich->stable-baselines3[extra])\n",
      "  Using cached mdurl-0.1.2-py3-none-any.whl.metadata (1.6 kB)\n",
      "Requirement already satisfied: MarkupSafe>=2.1.1 in /Users/julienbellande/.pyenv/versions/3.10.6/envs/IA-Tetris/lib/python3.10/site-packages (from werkzeug>=1.0.1->tensorboard>=2.9.1->stable-baselines3[extra]) (2.1.5)\n",
      "Requirement already satisfied: charset-normalizer<4,>=2 in /Users/julienbellande/.pyenv/versions/3.10.6/envs/IA-Tetris/lib/python3.10/site-packages (from requests->autorom~=0.6.1->autorom[accept-rom-license]~=0.6.1; extra == \"extra\"->stable-baselines3[extra]) (3.3.2)\n",
      "Requirement already satisfied: idna<4,>=2.5 in /Users/julienbellande/.pyenv/versions/3.10.6/envs/IA-Tetris/lib/python3.10/site-packages (from requests->autorom~=0.6.1->autorom[accept-rom-license]~=0.6.1; extra == \"extra\"->stable-baselines3[extra]) (3.7)\n",
      "Requirement already satisfied: urllib3<3,>=1.21.1 in /Users/julienbellande/.pyenv/versions/3.10.6/envs/IA-Tetris/lib/python3.10/site-packages (from requests->autorom~=0.6.1->autorom[accept-rom-license]~=0.6.1; extra == \"extra\"->stable-baselines3[extra]) (2.2.2)\n",
      "Requirement already satisfied: certifi>=2017.4.17 in /Users/julienbellande/.pyenv/versions/3.10.6/envs/IA-Tetris/lib/python3.10/site-packages (from requests->autorom~=0.6.1->autorom[accept-rom-license]~=0.6.1; extra == \"extra\"->stable-baselines3[extra]) (2024.7.4)\n",
      "Collecting mpmath<1.4,>=1.1.0 (from sympy->torch>=1.13->stable-baselines3[extra])\n",
      "  Using cached mpmath-1.3.0-py3-none-any.whl.metadata (8.6 kB)\n",
      "Using cached AutoROM-0.6.1-py3-none-any.whl (9.4 kB)\n",
      "Using cached gymnasium-0.29.1-py3-none-any.whl (953 kB)\n",
      "Using cached cloudpickle-3.0.0-py3-none-any.whl (20 kB)\n",
      "Using cached Shimmy-1.3.0-py3-none-any.whl (37 kB)\n",
      "Using cached tensorboard-2.17.1-py3-none-any.whl (5.5 MB)\n",
      "Downloading torch-2.4.0-cp310-none-macosx_11_0_arm64.whl (62.1 MB)\n",
      "\u001b[2K   \u001b[90m━━━━━━━━━━━━━━━━━━━━━━━━━━━━━━━━━━━━━━━━\u001b[0m \u001b[32m62.1/62.1 MB\u001b[0m \u001b[31m3.9 MB/s\u001b[0m eta \u001b[36m0:00:00\u001b[0m00:01\u001b[0m00:01\u001b[0m\n",
      "\u001b[?25hDownloading opencv_python-4.10.0.84-cp37-abi3-macosx_11_0_arm64.whl (54.8 MB)\n",
      "\u001b[2K   \u001b[90m━━━━━━━━━━━━━━━━━━━━━━━━━━━━━━━━━━━━━━━━\u001b[0m \u001b[32m54.8/54.8 MB\u001b[0m \u001b[31m4.4 MB/s\u001b[0m eta \u001b[36m0:00:00\u001b[0m00:01\u001b[0m00:01\u001b[0m\n",
      "\u001b[?25hDownloading pygame-2.6.0-cp310-cp310-macosx_11_0_arm64.whl (12.4 MB)\n",
      "\u001b[2K   \u001b[90m━━━━━━━━━━━━━━━━━━━━━━━━━━━━━━━━━━━━━━━━\u001b[0m \u001b[32m12.4/12.4 MB\u001b[0m \u001b[31m4.2 MB/s\u001b[0m eta \u001b[36m0:00:00\u001b[0ma \u001b[36m0:00:01\u001b[0m\n",
      "\u001b[?25hUsing cached rich-13.7.1-py3-none-any.whl (240 kB)\n",
      "Downloading stable_baselines3-2.3.2-py3-none-any.whl (182 kB)\n",
      "Using cached tqdm-4.66.5-py3-none-any.whl (78 kB)\n",
      "Using cached absl_py-2.1.0-py3-none-any.whl (133 kB)\n",
      "Downloading ale_py-0.8.1-cp310-cp310-macosx_11_0_arm64.whl (1.0 MB)\n",
      "\u001b[2K   \u001b[90m━━━━━━━━━━━━━━━━━━━━━━━━━━━━━━━━━━━━━━━━\u001b[0m \u001b[32m1.0/1.0 MB\u001b[0m \u001b[31m4.5 MB/s\u001b[0m eta \u001b[36m0:00:00\u001b[0ma \u001b[36m0:00:01\u001b[0m\n",
      "\u001b[?25hUsing cached Farama_Notifications-0.0.4-py3-none-any.whl (2.5 kB)\n",
      "Downloading grpcio-1.65.5-cp310-cp310-macosx_12_0_universal2.whl (10.4 MB)\n",
      "\u001b[2K   \u001b[90m━━━━━━━━━━━━━━━━━━━━━━━━━━━━━━━━━━━━━━━━\u001b[0m \u001b[32m10.4/10.4 MB\u001b[0m \u001b[31m4.9 MB/s\u001b[0m eta \u001b[36m0:00:00\u001b[0m \u001b[36m0:00:01\u001b[0m\n",
      "\u001b[?25hDownloading Markdown-3.7-py3-none-any.whl (106 kB)\n",
      "Using cached markdown_it_py-3.0.0-py3-none-any.whl (87 kB)\n",
      "Downloading protobuf-5.27.3-cp38-abi3-macosx_10_9_universal2.whl (412 kB)\n",
      "Downloading tensorboard_data_server-0.7.2-py3-none-any.whl (2.4 kB)\n",
      "Using cached werkzeug-3.0.3-py3-none-any.whl (227 kB)\n",
      "Using cached click-8.1.7-py3-none-any.whl (97 kB)\n",
      "Downloading filelock-3.15.4-py3-none-any.whl (16 kB)\n",
      "Using cached fsspec-2024.6.1-py3-none-any.whl (177 kB)\n",
      "Downloading networkx-3.3-py3-none-any.whl (1.7 MB)\n",
      "\u001b[2K   \u001b[90m━━━━━━━━━━━━━━━━━━━━━━━━━━━━━━━━━━━━━━━━\u001b[0m \u001b[32m1.7/1.7 MB\u001b[0m \u001b[31m5.3 MB/s\u001b[0m eta \u001b[36m0:00:00\u001b[0ma \u001b[36m0:00:01\u001b[0m\n",
      "\u001b[?25hDownloading sympy-1.13.2-py3-none-any.whl (6.2 MB)\n",
      "\u001b[2K   \u001b[90m━━━━━━━━━━━━━━━━━━━━━━━━━━━━━━━━━━━━━━━━\u001b[0m \u001b[32m6.2/6.2 MB\u001b[0m \u001b[31m4.3 MB/s\u001b[0m eta \u001b[36m0:00:00\u001b[0ma \u001b[36m0:00:01\u001b[0m\n",
      "\u001b[?25hUsing cached mdurl-0.1.2-py3-none-any.whl (10.0 kB)\n",
      "Using cached mpmath-1.3.0-py3-none-any.whl (536 kB)\n",
      "Downloading importlib_resources-6.4.3-py3-none-any.whl (35 kB)\n",
      "Building wheels for collected packages: AutoROM.accept-rom-license\n",
      "  Building wheel for AutoROM.accept-rom-license (pyproject.toml) ... \u001b[?25ldone\n",
      "\u001b[?25h  Created wheel for AutoROM.accept-rom-license: filename=AutoROM.accept_rom_license-0.6.1-py3-none-any.whl size=446660 sha256=aa8220d760d42cbe5c4e852474d36433b62e7b5261b81e041a9d005ab3a68a06\n",
      "  Stored in directory: /Users/julienbellande/Library/Caches/pip/wheels/6b/1b/ef/a43ff1a2f1736d5711faa1ba4c1f61be1131b8899e6a057811\n",
      "Successfully built AutoROM.accept-rom-license\n",
      "Installing collected packages: mpmath, farama-notifications, werkzeug, tqdm, tensorboard-data-server, sympy, pygame, protobuf, opencv-python, networkx, mdurl, markdown, importlib-resources, grpcio, fsspec, filelock, cloudpickle, click, absl-py, torch, tensorboard, markdown-it-py, gymnasium, AutoROM.accept-rom-license, autorom, ale-py, stable-baselines3, shimmy, rich\n",
      "Successfully installed AutoROM.accept-rom-license-0.6.1 absl-py-2.1.0 ale-py-0.8.1 autorom-0.6.1 click-8.1.7 cloudpickle-3.0.0 farama-notifications-0.0.4 filelock-3.15.4 fsspec-2024.6.1 grpcio-1.65.5 gymnasium-0.29.1 importlib-resources-6.4.3 markdown-3.7 markdown-it-py-3.0.0 mdurl-0.1.2 mpmath-1.3.0 networkx-3.3 opencv-python-4.10.0.84 protobuf-5.27.3 pygame-2.6.0 rich-13.7.1 shimmy-1.3.0 stable-baselines3-2.3.2 sympy-1.13.2 tensorboard-2.17.1 tensorboard-data-server-0.7.2 torch-2.4.0 tqdm-4.66.5 werkzeug-3.0.3\n"
     ]
    }
   ],
   "source": [
    "!pip install 'stable-baselines3[extra]'"
   ]
  },
  {
   "cell_type": "markdown",
   "id": "7861b5b4",
   "metadata": {},
   "source": [
    "Tetris rom: https://www.emulatorgames.net/roms/gameboy-color/tetris/"
   ]
  },
  {
   "cell_type": "markdown",
   "id": "2a5416a0",
   "metadata": {},
   "source": [
    "PyBoy github: https://github.com/Baekalfen/PyBoy"
   ]
  },
  {
   "cell_type": "markdown",
   "id": "35620a05",
   "metadata": {},
   "source": [
    "Stable Baseline3 documentation: https://stable-baselines3.readthedocs.io/en/master/"
   ]
  },
  {
   "cell_type": "markdown",
   "id": "cfeedbf2",
   "metadata": {},
   "source": [
    "### Imports"
   ]
  },
  {
   "cell_type": "code",
   "execution_count": 1,
   "id": "107ba882",
   "metadata": {},
   "outputs": [
    {
     "name": "stderr",
     "output_type": "stream",
     "text": [
      "UserWarning: Using SDL2 binaries from pysdl2-dll 2.30.2\n",
      "2024-08-19 00:43:26.518333: I tensorflow/core/platform/cpu_feature_guard.cc:193] This TensorFlow binary is optimized with oneAPI Deep Neural Network Library (oneDNN) to use the following CPU instructions in performance-critical operations:  AVX2 FMA\n",
      "To enable them in other operations, rebuild TensorFlow with the appropriate compiler flags.\n"
     ]
    }
   ],
   "source": [
    "# Emulation\n",
    "from pyboy import PyBoy\n",
    "from pyboy.utils import WindowEvent\n",
    "import time\n",
    "import numpy as np\n",
    "\n",
    "# CNN\n",
    "from tensorflow.keras.utils import to_categorical\n",
    "from tensorflow.keras import Sequential, layers, optimizers\n",
    "from tensorflow.keras.callbacks import EarlyStopping\n",
    "\n",
    "# RL\n",
    "import gymnasium as gym # openAI simulated environment\n",
    "from stable_baselines3 import PPO # RL model\n",
    "from stable_baselines3.common.vec_env import DummyVecEnv\n",
    "from stable_baselines3.common.evaluation import evaluate_policy"
   ]
  },
  {
   "cell_type": "markdown",
   "id": "4bfbe995",
   "metadata": {},
   "source": [
    "## PyBoy setup"
   ]
  },
  {
   "cell_type": "markdown",
   "id": "f72c26ef",
   "metadata": {},
   "source": [
    "### Tips"
   ]
  },
  {
   "cell_type": "markdown",
   "id": "56bc1a2b",
   "metadata": {},
   "source": [
    "#### About PyBoy"
   ]
  },
  {
   "cell_type": "markdown",
   "id": "2861d0fd",
   "metadata": {},
   "source": [
    "Installation: https://github.com/Baekalfen/PyBoy/wiki/Installation"
   ]
  },
  {
   "cell_type": "markdown",
   "id": "9c007ddb",
   "metadata": {},
   "source": [
    "PyBoy API Documentation: https://docs.pyboy.dk/index.html"
   ]
  },
  {
   "cell_type": "markdown",
   "id": "5e6b9662",
   "metadata": {},
   "source": [
    "<pre>Inputs :\n",
    "                     \n",
    "| GameBoy | Keyboard  | Value for     |\n",
    "|         |           | pyboy button  |\n",
    "| ------- | --------- | ------------- |\n",
    "| Up      | Up        | 'up'          |\n",
    "| Down    | Down      | 'down'        |\n",
    "| Left    | Left      | 'left'        |\n",
    "| Right   | Right     | 'right'       |\n",
    "| A       | A         | 'a'           |\n",
    "| B       | B         | 'b'           |\n",
    "| Start   | Return    | 'start'       |\n",
    "| Select  | Backspace | 'select'      |</pre>"
   ]
  },
  {
   "cell_type": "markdown",
   "id": "39ce96dc",
   "metadata": {},
   "source": [
    "<pre>Other keyboard inputs :\n",
    "-Esc : Quit\n",
    "-D : Debug\n",
    "-Space : Toggle unlimited FPS\n",
    "-Z : Save state\n",
    "-X : Load state\n",
    "-I : Toggle screen recording (as gif)\n",
    "-, : Rewind backwards\n",
    "-. : Rewind forward</pre>"
   ]
  },
  {
   "cell_type": "markdown",
   "id": "8dcf7869",
   "metadata": {},
   "source": [
    "<pre>PyBoy inputs :\n",
    "-pyboy.button('a') : simple press 'A' for 1 frame, released after next 'pyboy.tick()'\n",
    "-pyboy.button('a', 3) : simple press 'A' for 3 frames, released after 3 'pyboy.tick()'\n",
    "-pyboy.button_pess('a') : hold input 'A' until 'pyboy.button_release('a')' or 'pyboy.send_input()'</pre>"
   ]
  },
  {
   "cell_type": "markdown",
   "id": "02eb2b1e",
   "metadata": {},
   "source": [
    "<pre>Other :\n",
    "-pyboy.tick() : Let the game going to the next frame\n",
    "-pyboy.tick(X, True) : Let the game going X frames forward, and show the last frame\n",
    "-pyboy.tick(X, False) : Let the game going X frames forward, without rendering frames\n",
    "-pyboy.set_emulation_speed(0) : Set emulation speed. 0 is no speed limit\n",
    "-pyboy.screen.image : Current screen image</pre>"
   ]
  },
  {
   "cell_type": "markdown",
   "id": "ad34d974",
   "metadata": {},
   "source": [
    "#### About Tetris"
   ]
  },
  {
   "cell_type": "markdown",
   "id": "cd8a8d85",
   "metadata": {},
   "source": [
    "##### In PyBoy"
   ]
  },
  {
   "cell_type": "markdown",
   "id": "f7148382",
   "metadata": {},
   "source": [
    "<pre>Get Tetris infos:\n",
    "-tetris = pyboy.game_wrapper\n",
    "-tetris.score : Score\n",
    "-tetris.level : Level\n",
    "-tetris.lines : Lines\n",
    "-tetris.next_tetromino() : Get next tetromino type (O, Z, S, L, J, T, I)\n",
    "-tetris.game_area() : current game tiles as array\n",
    "\n",
    "We can print 'tetris' to have some informations :\n",
    "-Score, Level and Lines\n",
    "-Sprites on current screen : IDs, positions, shapes, tiles (?), on screen or not\n",
    "-A representation of the current game screen</pre>"
   ]
  },
  {
   "cell_type": "markdown",
   "id": "4fa85dca",
   "metadata": {},
   "source": [
    "<pre>Tiles values (in 'tetris.game_area()' or when we print 'tetris'):\n",
    "0 : empty tile\n",
    "1 : tile occupied by a 'J' tetromino\n",
    "2 : tile occupied by a 'Z' tetromino\n",
    "3 : tile occupied by a 'O' tetromino\n",
    "4 : tile occupied by a 'L' tetromino\n",
    "5 : tile occupied by a 'T' tetromino\n",
    "6 : tile occupied by a 'S' tetromino\n",
    "7 : tile occupied by a 'I' tetromino\n",
    "8 : tile occupied by the Game Over wall</pre>"
   ]
  },
  {
   "cell_type": "markdown",
   "id": "5defc286",
   "metadata": {},
   "source": [
    "##### Tetris rules"
   ]
  },
  {
   "cell_type": "markdown",
   "id": "5b78154f",
   "metadata": {},
   "source": [
    "https://harddrop.com/wiki/Tetris_(Game_Boy)\n",
    "<pre>\n",
    "Base Scoring:\n",
    "-slow drop bloc              = +0 pt\n",
    "-fast drop bloc (down arrow) = +1 pt * drop distance\n",
    "-1 line                      = +40 pts\n",
    "-2 lines                     = +100 pts\n",
    "-3 lines                     = +300 pts\n",
    "-4 lines                     = +1200 pts\n",
    "\n",
    "10 lines = 1 level\n",
    "\n",
    "After level 0:\n",
    "Score = base score * (level+1)\n",
    "\n",
    "The goal of the game is to reach the 100th line.\n",
    "The ending screen is shown after losing if we had reached at least 100 lines.\n",
    "The ending is different depending on the party type, score, and lines:\n",
    "> In A-Type\n",
    "  -100 000 to 149 999 points: small missile launch\n",
    "  -150 000 to 199 999 points: medium-sized missile launch\n",
    "  -200 000 or more points: big missile launch\n",
    "> In B-Type\n",
    "  -25 lines on level 9: Russian musicians and dancers\n",
    "  -25 lines on level 9 + height 5: Russian musicians and dancers + Buran shuttle launch</pre>"
   ]
  },
  {
   "cell_type": "markdown",
   "id": "9d740eae",
   "metadata": {},
   "source": [
    "### Start emulation"
   ]
  },
  {
   "cell_type": "code",
   "execution_count": 2,
   "id": "a0634835",
   "metadata": {},
   "outputs": [],
   "source": [
    "rom_path = 'ROMs/GameBoy/Tetris.gb'"
   ]
  },
  {
   "cell_type": "markdown",
   "id": "74469766",
   "metadata": {
    "heading_collapsed": true
   },
   "source": [
    "#### Tuto Tetris emulation"
   ]
  },
  {
   "cell_type": "markdown",
   "id": "1e3253d0",
   "metadata": {
    "hidden": true
   },
   "source": [
    "https://github.com/Baekalfen/PyBoy/wiki/Example-Tetris"
   ]
  },
  {
   "cell_type": "markdown",
   "id": "4aee6524",
   "metadata": {
    "hidden": true
   },
   "source": [
    ">1.Start game (skip Title screen and go directly in game) with a random seed to have always the same tetrominos\\\n",
    "2.Take a screenshot and start recording as gif\\\n",
    "3.Play during 1000 frames\\\n",
    "4.Auto play the first tetromino (go to the right)\\\n",
    "5.Take an other screenshot and end recording\\\n",
    "6.Close the game"
   ]
  },
  {
   "cell_type": "code",
   "execution_count": 33,
   "id": "eedfa777",
   "metadata": {
    "hidden": true
   },
   "outputs": [
    {
     "name": "stdout",
     "output_type": "stream",
     "text": [
      "First brick touched the bottom!\n",
      "Tetris:\n",
      "Score: 0\n",
      "Level: 0\n",
      "Lines: 0\n",
      "Sprites on screen:\n",
      "Sprite [4]: Position: (72, 128), Shape: (8, 8), Tiles: (Tile: 129), On screen: True\n",
      "Sprite [5]: Position: (80, 128), Shape: (8, 8), Tiles: (Tile: 129), On screen: True\n",
      "Sprite [6]: Position: (88, 128), Shape: (8, 8), Tiles: (Tile: 129), On screen: True\n",
      "Sprite [7]: Position: (88, 136), Shape: (8, 8), Tiles: (Tile: 129), On screen: True\n",
      "Sprite [8]: Position: (120, 112), Shape: (8, 8), Tiles: (Tile: 130), On screen: True\n",
      "Sprite [9]: Position: (128, 112), Shape: (8, 8), Tiles: (Tile: 130), On screen: True\n",
      "Sprite [10]: Position: (128, 120), Shape: (8, 8), Tiles: (Tile: 130), On screen: True\n",
      "Sprite [11]: Position: (136, 120), Shape: (8, 8), Tiles: (Tile: 130), On screen: True\n",
      "Tiles on screen:\n",
      "       0   1   2   3   4   5   6   7   8   9\n",
      "____________________________________________\n",
      "0  |   0   0   0   0   0   0   0   0   0   0\n",
      "1  |   0   0   0   0   0   0   0   0   0   0\n",
      "2  |   0   0   0   0   0   0   0   0   0   0\n",
      "3  |   0   0   0   0   0   0   0   0   0   0\n",
      "4  |   0   0   0   0   0   0   0   0   0   0\n",
      "5  |   0   0   0   0   0   0   0   0   0   0\n",
      "6  |   0   0   0   0   0   0   0   0   0   0\n",
      "7  |   0   0   0   0   0   0   0   0   0   0\n",
      "8  |   0   0   0   0   0   0   0   0   0   0\n",
      "9  |   0   0   0   0   0   0   0   0   0   0\n",
      "10 |   0   0   0   0   0   0   0   0   0   0\n",
      "11 |   0   0   0   0   0   0   0   0   0   0\n",
      "12 |   0   0   0   0   0   0   0   0   0   0\n",
      "13 |   0   0   0   0   0   0   0   0   0   0\n",
      "14 |   0   0   0   0   0   0   0   0   0   0\n",
      "15 |   0   0   0   0   0   0   0   0   0   0\n",
      "16 |   0   0   0   0   0   0   0   1   1   1\n",
      "17 |   0   0   0   0   0   0   0   0   0   1\n",
      "Tetris:\n",
      "Score: 0\n",
      "Level: 0\n",
      "Lines: 0\n",
      "Sprites on screen:\n",
      "Sprite [4]: Position: (72, 24), Shape: (8, 8), Tiles: (Tile: 130), On screen: True\n",
      "Sprite [5]: Position: (80, 24), Shape: (8, 8), Tiles: (Tile: 130), On screen: True\n",
      "Sprite [6]: Position: (80, 32), Shape: (8, 8), Tiles: (Tile: 130), On screen: True\n",
      "Sprite [7]: Position: (88, 32), Shape: (8, 8), Tiles: (Tile: 130), On screen: True\n",
      "Sprite [8]: Position: (120, 112), Shape: (8, 8), Tiles: (Tile: 133), On screen: True\n",
      "Sprite [9]: Position: (128, 112), Shape: (8, 8), Tiles: (Tile: 133), On screen: True\n",
      "Sprite [10]: Position: (136, 112), Shape: (8, 8), Tiles: (Tile: 133), On screen: True\n",
      "Sprite [11]: Position: (128, 120), Shape: (8, 8), Tiles: (Tile: 133), On screen: True\n",
      "Tiles on screen:\n",
      "       0   1   2   3   4   5   6   7   8   9\n",
      "____________________________________________\n",
      "0  |   0   0   0   0   0   0   0   0   0   0\n",
      "1  |   0   0   0   0   0   0   0   0   0   0\n",
      "2  |   0   0   0   0   0   0   0   0   0   0\n",
      "3  |   0   0   0   0   0   0   0   2   2   0\n",
      "4  |   0   0   0   0   0   0   0   0   2   2\n",
      "5  |   0   0   0   0   0   0   0   0   0   0\n",
      "6  |   0   0   0   0   0   0   0   0   0   0\n",
      "7  |   0   0   0   0   0   0   0   0   0   0\n",
      "8  |   0   0   0   0   0   0   0   0   0   0\n",
      "9  |   0   0   0   0   0   0   0   0   0   0\n",
      "10 |   0   0   0   0   0   0   0   0   0   0\n",
      "11 |   0   0   0   0   0   0   0   0   0   0\n",
      "12 |   0   0   0   0   0   0   0   0   0   0\n",
      "13 |   0   0   0   0   0   0   0   0   0   0\n",
      "14 |   0   0   0   0   0   0   0   0   0   0\n",
      "15 |   0   0   0   0   0   0   0   0   0   0\n",
      "16 |   0   0   0   0   0   0   0   1   1   1\n",
      "17 |   0   0   0   0   0   0   0   0   0   1\n"
     ]
    }
   ],
   "source": [
    "pyboy = PyBoy(rom_path)\n",
    "\n",
    "pyboy.set_emulation_speed(0) # No speed limit\n",
    "assert pyboy.cartridge_title == \"TETRIS\"\n",
    "\n",
    "tetris = pyboy.game_wrapper\n",
    "tetris.game_area_mapping(tetris.mapping_compressed, 0)\n",
    "tetris.start_game(timer_div=0x00) # The timer_div works like a random seed in Tetris\n",
    "pyboy.tick() # To render screen after `.start_game`\n",
    "\n",
    "pyboy.screen.image.save(\"Tetris1.png\")\n",
    "\n",
    "pyboy.send_input(WindowEvent.SCREEN_RECORDING_TOGGLE)\n",
    "\n",
    "tetromino_at_0x00 = tetris.next_tetromino()\n",
    "assert tetromino_at_0x00 == \"Z\", tetris.next_tetromino()\n",
    "assert tetris.score == 0\n",
    "assert tetris.level == 0\n",
    "assert tetris.lines == 0\n",
    "\n",
    "# Checking that a reset on the same `timer_div` results in the same Tetromino\n",
    "tetris.reset_game(timer_div=0x00)\n",
    "assert tetris.next_tetromino() == tetromino_at_0x00, tetris.next_tetromino()\n",
    "\n",
    "blank_tile = 0\n",
    "first_brick = False\n",
    "\n",
    "for frame in range(1000):\n",
    "    pyboy.tick(1, True)\n",
    "\n",
    "    # The playing \"technique\" is just to move the Tetromino to the right.\n",
    "    if frame % 2 == 0: # Even frames to let PyBoy release the button on odd frames\n",
    "        pyboy.button(\"right\")\n",
    "\n",
    "    # Illustrating how we can extract the game board quite simply. This can be used to read the tile identifiers.\n",
    "    game_area = tetris.game_area()\n",
    "    # game_area is accessed as [<row>, <column>].\n",
    "    # 'game_area[-1,:]' is asking for all (:) the columns in the last row (-1)\n",
    "    if not first_brick and any(filter(lambda x: x != blank_tile, game_area[-1, :])):\n",
    "        first_brick = True\n",
    "        print(\"First brick touched the bottom!\")\n",
    "        print(tetris)\n",
    "\n",
    "# Final game board:\n",
    "print(tetris)\n",
    "\n",
    "pyboy.screen.image.save(\"Tetris2.png\")\n",
    "pyboy.send_input(WindowEvent.SCREEN_RECORDING_TOGGLE)\n",
    "\n",
    "# We shouldn't have made any progress with the moves we made\n",
    "assert tetris.score == 0\n",
    "assert tetris.level == 0\n",
    "assert tetris.lines == 0\n",
    "\n",
    "# Assert there is something on the bottom of the game area\n",
    "assert any(filter(lambda x: x != blank_tile, game_area[-1, :]))\n",
    "tetris.reset_game(timer_div=0x00)\n",
    "assert tetris.next_tetromino() == tetromino_at_0x00, tetris.next_tetromino()\n",
    "\n",
    "tetris.reset_game(timer_div=0x00)\n",
    "assert tetris.next_tetromino() == tetromino_at_0x00, tetris.next_tetromino()\n",
    "# After reseting, we should have a clean game area\n",
    "assert all(filter(lambda x: x != blank_tile, game_area[-1, :]))\n",
    "\n",
    "tetris.reset_game(timer_div=0x55) # The timer_div works like a random seed in Tetris\n",
    "assert tetris.next_tetromino() != tetromino_at_0x00, tetris.next_tetromino()\n",
    "\n",
    "# Testing that it defaults to random Tetrominos\n",
    "selection = set()\n",
    "for _ in range(10):\n",
    "    tetris.reset_game()\n",
    "    selection.add(tetris.next_tetromino())\n",
    "assert len(selection) > 1 # If it's random, we will see more than one kind\n",
    "\n",
    "pyboy.stop()"
   ]
  },
  {
   "cell_type": "markdown",
   "id": "06ad1da4",
   "metadata": {},
   "source": [
    "#### Custom functions"
   ]
  },
  {
   "cell_type": "markdown",
   "id": "39089b80",
   "metadata": {},
   "source": [
    "Print() with some colors:"
   ]
  },
  {
   "cell_type": "code",
   "execution_count": 3,
   "id": "aa09926a",
   "metadata": {},
   "outputs": [],
   "source": [
    "def cstr(s):\n",
    "    if s == ' 0 ': # empty\n",
    "        return cstr_with_arg(s=s, fg_color='white', bold=False)\n",
    "    elif s == ' 1 ': # J\n",
    "        return cstr_with_arg(s=s, fg_color='pure white', bg_color='bright red', bold=True)\n",
    "    elif s == ' 2 ': # Z\n",
    "        return cstr_with_arg(s=s, fg_color='pure white', bg_color='bright blue', bold=True)\n",
    "    elif s == ' 3 ': # O\n",
    "        return cstr_with_arg(s=s, fg_color='pure white', bg_color='bright green', bold=True)\n",
    "    elif s == ' 4 ': # L\n",
    "        return cstr_with_arg(s=s, fg_color='pure white', bg_color='magenta', bold=True)\n",
    "    elif s == ' 5 ': # T\n",
    "        return cstr_with_arg(s=s, fg_color='pure white', bg_color='yellow', bold=True)\n",
    "    elif s == ' 6 ': # S\n",
    "        return cstr_with_arg(s=s, fg_color='pure white', bg_color='cyan', bold=True)\n",
    "    elif s == ' 7 ': # I\n",
    "        return cstr_with_arg(s=s, fg_color='pure white', bg_color='grey', bold=True)\n",
    "    elif s == ' 8 ': # I\n",
    "        return cstr_with_arg(s=s, fg_color='black', bg_color='pure red', bold=True)\n",
    "\n",
    "    return cstr_with_arg(s=s, fg_color='black', bold=False)"
   ]
  },
  {
   "cell_type": "code",
   "execution_count": 4,
   "id": "84283674",
   "metadata": {},
   "outputs": [],
   "source": [
    "def get_color_id(color, is_fg):\n",
    "    # ANSI color codes : https://en.wikipedia.org/wiki/ANSI_escape_code#Colors\n",
    "    # RGB values : https://g.co/kgs/K5ciwD1\n",
    "\n",
    "    if color is str:\n",
    "        color = color.lower()\n",
    "\n",
    "    if color == 'black':\n",
    "        return 30 if is_fg else 40\n",
    "    elif color == 'red':\n",
    "        return 31 if is_fg else 41\n",
    "    elif color == 'green':\n",
    "        return 32 if is_fg else 42\n",
    "    elif color == 'yellow':\n",
    "        return 33 if is_fg else 43\n",
    "    elif color == 'blue':\n",
    "        return 34 if is_fg else 44\n",
    "    elif color == 'magenta':\n",
    "        return 35 if is_fg else 45\n",
    "    elif color == 'cyan':\n",
    "        return 36 if is_fg else 46\n",
    "    elif color == 'white':\n",
    "        return 37 if is_fg else 47\n",
    "    elif color == 'gray' or color == 'grey':\n",
    "        return 90 if is_fg else 100\n",
    "    elif color == 'bright red':\n",
    "        return 91 if is_fg else 101\n",
    "    elif color == 'bright green':\n",
    "        return 92 if is_fg else 102\n",
    "    elif color == 'bright yellow':\n",
    "        return 93 if is_fg else 103\n",
    "    elif color == 'bright blue':\n",
    "        return 94 if is_fg else 104\n",
    "    elif color == 'bright magenta':\n",
    "        return 95 if is_fg else 105\n",
    "    elif color == 'bright cyan':\n",
    "        return 96 if is_fg else 106\n",
    "    elif color == 'bright white':\n",
    "        return 97 if is_fg else 107\n",
    "    elif color == 'pure white':\n",
    "        return '38;2;255;255;255' if is_fg else '48;2;255;255;255'\n",
    "    elif color == 'pure red':\n",
    "        return '38;2;255;0;0' if is_fg else '48;2;255;0;0'\n",
    "    elif color == 'pure green':\n",
    "        return '38;2;64;192;64' if is_fg else '48;2;64;192;64'\n",
    "    elif color == 'pure blue':\n",
    "        return '38;2;0;0;255' if is_fg else '48;2;0;0;255'\n",
    "\n",
    "    return 30 if is_fg else 40 # black by default"
   ]
  },
  {
   "cell_type": "code",
   "execution_count": 5,
   "id": "fbfdfead",
   "metadata": {},
   "outputs": [],
   "source": [
    "def cstr_with_arg(s, fg_color, bold, bg_color=None):\n",
    "    fg_color_id = get_color_id(fg_color, True)\n",
    "    bg_color_id = get_color_id(bg_color, False)\n",
    "    bold_id = 1 if bold else 0\n",
    "\n",
    "    color = f'{fg_color_id};{bg_color_id}' if bg_color != None else fg_color_id\n",
    "\n",
    "    return f\"\\x1b[{bold_id}m\\x1b[{color}m{s}\\x1b[0m\""
   ]
  },
  {
   "cell_type": "code",
   "execution_count": 6,
   "id": "e0180f23",
   "metadata": {},
   "outputs": [
    {
     "name": "stdout",
     "output_type": "stream",
     "text": [
      "     |   |   |   |   |   |   |   |Game|Not      \n",
      "empty| J | Z | O | L | T | S | I |Over|used      \n",
      "  \u001b[0m\u001b[37m 0 \u001b[0m \u001b[1m\u001b[38;2;255;255;255;101m 1 \u001b[0m \u001b[1m\u001b[38;2;255;255;255;104m 2 \u001b[0m \u001b[1m\u001b[38;2;255;255;255;102m 3 \u001b[0m \u001b[1m\u001b[38;2;255;255;255;45m 4 \u001b[0m \u001b[1m\u001b[38;2;255;255;255;43m 5 \u001b[0m \u001b[1m\u001b[38;2;255;255;255;46m 6 \u001b[0m \u001b[1m\u001b[38;2;255;255;255;100m 7 \u001b[0m \u001b[1m\u001b[30;48;2;255;0;0m 8 \u001b[0m \u001b[0m\u001b[30m 9 \u001b[0m\n"
     ]
    }
   ],
   "source": [
    "# TEST\n",
    "print(f\"     |   |   |   |   |   |   |   |Game|Not\\\n",
    "      \\nempty| J | Z | O | L | T | S | I |Over|used\\\n",
    "      \\n  {' '.join([cstr(f' {n} ') for n in range(0, 10)])}\")"
   ]
  },
  {
   "cell_type": "markdown",
   "id": "ce0bc46e",
   "metadata": {},
   "source": [
    "Custom print Game Area:"
   ]
  },
  {
   "cell_type": "code",
   "execution_count": 7,
   "id": "f4c3dab6",
   "metadata": {},
   "outputs": [],
   "source": [
    "def better_game_area(game_area, with_indexes=True):\n",
    "    colored_game_area = ''\n",
    "    if with_indexes:\n",
    "        colored_game_area = '      0  1  2  3  4  5  6  7  8  9\\n-----------------------------------\\n'\n",
    "\n",
    "    for x, row in enumerate(game_area):\n",
    "        if with_indexes:\n",
    "            colored_game_area += f\"{'{:02d}'.format(x)} | \"\n",
    "        for y, tile in enumerate(row):\n",
    "            colored_game_area += cstr(f' {tile} ')\n",
    "        colored_game_area += '\\n'\n",
    "\n",
    "    return colored_game_area"
   ]
  },
  {
   "cell_type": "markdown",
   "id": "f20a93e1",
   "metadata": {},
   "source": [
    "Get Tetromino form/id:"
   ]
  },
  {
   "cell_type": "code",
   "execution_count": 8,
   "id": "12ed46af",
   "metadata": {},
   "outputs": [],
   "source": [
    "def get_tetromino_form(tetromino_id):\n",
    "    if tetromino_id == 0:\n",
    "        return 'empty'\n",
    "    if tetromino_id == 1:\n",
    "        return 'J'\n",
    "    if tetromino_id == 2:\n",
    "        return 'Z'\n",
    "    if tetromino_id == 3:\n",
    "        return 'O'\n",
    "    if tetromino_id == 4:\n",
    "        return 'L'\n",
    "    if tetromino_id == 5:\n",
    "        return 'T'\n",
    "    if tetromino_id == 6:\n",
    "        return 'S'\n",
    "    if tetromino_id == 7:\n",
    "        return 'I'\n",
    "    if tetromino_id == 8:\n",
    "        return 'Game Over Wall'\n",
    "    return None"
   ]
  },
  {
   "cell_type": "code",
   "execution_count": 9,
   "id": "e6f30915",
   "metadata": {},
   "outputs": [],
   "source": [
    "def get_tetromino_id(tetromino_form):\n",
    "    if tetromino_form == 'empty':\n",
    "        return 0\n",
    "    if tetromino_form == 'J':\n",
    "        return 1\n",
    "    if tetromino_form == 'Z':\n",
    "        return 2\n",
    "    if tetromino_form == 'O':\n",
    "        return 3\n",
    "    if tetromino_form == 'L':\n",
    "        return 4\n",
    "    if tetromino_form == 'T':\n",
    "        return 5\n",
    "    if tetromino_form == 'S':\n",
    "        return 6\n",
    "    if tetromino_form == 'I':\n",
    "        return 7\n",
    "    if tetromino_form == 'Game Over Wall':\n",
    "        return 8\n",
    "    return -1"
   ]
  },
  {
   "cell_type": "markdown",
   "id": "ab4c0899",
   "metadata": {},
   "source": [
    "In Game functions:"
   ]
  },
  {
   "cell_type": "code",
   "execution_count": 13,
   "id": "214a3ad3",
   "metadata": {},
   "outputs": [],
   "source": [
    "def reset_values():\n",
    "    reward = 0\n",
    "    start_time = time.time()\n",
    "    play_time = 0\n",
    "    tetromino = tetris.next_tetromino()\n",
    "    last_second = 0\n",
    "    time_without_scoring = 0\n",
    "    no_scoring_timer_decr = no_scoring_timer\n",
    "    last_lines = 0\n",
    "    last_levels = 0\n",
    "    last_spawner_area = np.zeros((2, 4), dtype='int8')\n",
    "    nb_tetromino_used_at_game_over = 1\n",
    "    return reward, start_time, play_time, tetromino, last_second, time_without_scoring, no_scoring_timer_decr, \\\n",
    "            last_lines, last_levels, last_spawner_area, nb_tetromino_used_at_game_over"
   ]
  },
  {
   "cell_type": "code",
   "execution_count": 14,
   "id": "e3c06544",
   "metadata": {},
   "outputs": [],
   "source": [
    "def game_over(play_time, reward, score, lines, nb_tetrominos_used):\n",
    "    # TODO: Values we have to saved on a DataFrame\n",
    "    print(cstr_with_arg('GAME OVER', 'pure red', True))\n",
    "    minutes = int(play_time // 60)\n",
    "    seconds = int(play_time - minutes * 60)\n",
    "    milliseconds = int((play_time - minutes * 60 - seconds)*1000)\n",
    "    print(f\"Game Infos:\\\n",
    "                \\n-Total Rewards:{cstr_with_arg(reward, 'pure green' if reward > 0 else 'pure red', True)}\\\n",
    "                \\n-Game Score:{cstr_with_arg(tetris.score, 'pure green' if tetris.score > 0 else 'pure red', True)}\\\n",
    "                \\n-Lines:{cstr_with_arg(tetris.lines, 'pure green' if tetris.lines >= 100 else 'pure red', True)}\\\n",
    "                \\n-Time:{'{:02d}:{:02d}.{:03d}'.format(minutes, seconds, milliseconds)}\\\n",
    "                \\n-Tetrominos used:{nb_tetromino_used_at_game_over}\")"
   ]
  },
  {
   "cell_type": "markdown",
   "id": "5000a030",
   "metadata": {},
   "source": [
    "#### Custom Tetris emulation"
   ]
  },
  {
   "cell_type": "code",
   "execution_count": 10,
   "id": "5684ca4d",
   "metadata": {},
   "outputs": [],
   "source": [
    "# \\ Constant values: /\n",
    "#  ------------------\n",
    "normal_fps = 59.73 # Game Boy runs at 59.73 frames per second"
   ]
  },
  {
   "cell_type": "code",
   "execution_count": 23,
   "id": "3317c836",
   "metadata": {},
   "outputs": [],
   "source": [
    "# \\ Configuration: /\n",
    "#  ----------------\n",
    "skip_title_screen = True\n",
    "print_fps = False\n",
    "print_spawner = False\n",
    "print_game_area = True\n",
    "auto_restart_at_game_over = True\n",
    "auto_restart_at_100_lines = True\n",
    "game_random_seed = None\n",
    "game_speed = 0 # 0 = No speed limit\n",
    "\n",
    "# Rewards balancing:\n",
    "base_scoring_multiplier = 1\n",
    "no_scoring_timer = 10\n",
    "no_scoring_penalty = -10\n",
    "other_screen_timer = 5\n",
    "other_screen_penalty = -10"
   ]
  },
  {
   "cell_type": "code",
   "execution_count": 12,
   "id": "e0e0b47d",
   "metadata": {},
   "outputs": [],
   "source": [
    "# \\ Values to save: /\n",
    "#  -----------------\n",
    "# TODO\n",
    "nb_lines_at_game_over = 0\n",
    "score_at_game_over = 0\n",
    "reward_at_game_over = 0\n",
    "time_at_game_over = 0\n",
    "nb_tetromino_used_at_game_over = 1\n",
    "inputs_at_time = {} # ex: {1.2sec : Left, 2.5sec : Down} but maybe we can use \"experience replay\"?"
   ]
  },
  {
   "cell_type": "code",
   "execution_count": 25,
   "id": "62d6ff80",
   "metadata": {
    "scrolled": true
   },
   "outputs": [
    {
     "name": "stdout",
     "output_type": "stream",
     "text": [
      "\u001b[1m\u001b[38;2;64;192;64mAdd new tetromino S\u001b[0m\n",
      "Level: 0 | Lines: 0\n",
      "Reward=\u001b[1m\u001b[38;2;255;0;0m0\u001b[0m\n",
      "      0  1  2  3  4  5  6  7  8  9\n",
      "-----------------------------------\n",
      "00 | \u001b[0m\u001b[37m 0 \u001b[0m\u001b[0m\u001b[37m 0 \u001b[0m\u001b[0m\u001b[37m 0 \u001b[0m\u001b[0m\u001b[37m 0 \u001b[0m\u001b[0m\u001b[37m 0 \u001b[0m\u001b[0m\u001b[37m 0 \u001b[0m\u001b[0m\u001b[37m 0 \u001b[0m\u001b[0m\u001b[37m 0 \u001b[0m\u001b[0m\u001b[37m 0 \u001b[0m\u001b[0m\u001b[37m 0 \u001b[0m\n",
      "01 | \u001b[0m\u001b[37m 0 \u001b[0m\u001b[0m\u001b[37m 0 \u001b[0m\u001b[0m\u001b[37m 0 \u001b[0m\u001b[0m\u001b[37m 0 \u001b[0m\u001b[1m\u001b[38;2;255;255;255;46m 6 \u001b[0m\u001b[1m\u001b[38;2;255;255;255;46m 6 \u001b[0m\u001b[0m\u001b[37m 0 \u001b[0m\u001b[0m\u001b[37m 0 \u001b[0m\u001b[0m\u001b[37m 0 \u001b[0m\u001b[0m\u001b[37m 0 \u001b[0m\n",
      "02 | \u001b[0m\u001b[37m 0 \u001b[0m\u001b[0m\u001b[37m 0 \u001b[0m\u001b[0m\u001b[37m 0 \u001b[0m\u001b[1m\u001b[38;2;255;255;255;46m 6 \u001b[0m\u001b[1m\u001b[38;2;255;255;255;46m 6 \u001b[0m\u001b[0m\u001b[37m 0 \u001b[0m\u001b[0m\u001b[37m 0 \u001b[0m\u001b[0m\u001b[37m 0 \u001b[0m\u001b[0m\u001b[37m 0 \u001b[0m\u001b[0m\u001b[37m 0 \u001b[0m\n",
      "03 | \u001b[0m\u001b[37m 0 \u001b[0m\u001b[0m\u001b[37m 0 \u001b[0m\u001b[0m\u001b[37m 0 \u001b[0m\u001b[0m\u001b[37m 0 \u001b[0m\u001b[0m\u001b[37m 0 \u001b[0m\u001b[0m\u001b[37m 0 \u001b[0m\u001b[0m\u001b[37m 0 \u001b[0m\u001b[0m\u001b[37m 0 \u001b[0m\u001b[0m\u001b[37m 0 \u001b[0m\u001b[0m\u001b[37m 0 \u001b[0m\n",
      "04 | \u001b[0m\u001b[37m 0 \u001b[0m\u001b[0m\u001b[37m 0 \u001b[0m\u001b[0m\u001b[37m 0 \u001b[0m\u001b[0m\u001b[37m 0 \u001b[0m\u001b[0m\u001b[37m 0 \u001b[0m\u001b[0m\u001b[37m 0 \u001b[0m\u001b[0m\u001b[37m 0 \u001b[0m\u001b[0m\u001b[37m 0 \u001b[0m\u001b[0m\u001b[37m 0 \u001b[0m\u001b[0m\u001b[37m 0 \u001b[0m\n",
      "05 | \u001b[0m\u001b[37m 0 \u001b[0m\u001b[0m\u001b[37m 0 \u001b[0m\u001b[0m\u001b[37m 0 \u001b[0m\u001b[0m\u001b[37m 0 \u001b[0m\u001b[0m\u001b[37m 0 \u001b[0m\u001b[0m\u001b[37m 0 \u001b[0m\u001b[0m\u001b[37m 0 \u001b[0m\u001b[0m\u001b[37m 0 \u001b[0m\u001b[0m\u001b[37m 0 \u001b[0m\u001b[0m\u001b[37m 0 \u001b[0m\n",
      "06 | \u001b[0m\u001b[37m 0 \u001b[0m\u001b[0m\u001b[37m 0 \u001b[0m\u001b[0m\u001b[37m 0 \u001b[0m\u001b[0m\u001b[37m 0 \u001b[0m\u001b[0m\u001b[37m 0 \u001b[0m\u001b[0m\u001b[37m 0 \u001b[0m\u001b[0m\u001b[37m 0 \u001b[0m\u001b[0m\u001b[37m 0 \u001b[0m\u001b[0m\u001b[37m 0 \u001b[0m\u001b[0m\u001b[37m 0 \u001b[0m\n",
      "07 | \u001b[0m\u001b[37m 0 \u001b[0m\u001b[0m\u001b[37m 0 \u001b[0m\u001b[0m\u001b[37m 0 \u001b[0m\u001b[0m\u001b[37m 0 \u001b[0m\u001b[0m\u001b[37m 0 \u001b[0m\u001b[0m\u001b[37m 0 \u001b[0m\u001b[0m\u001b[37m 0 \u001b[0m\u001b[0m\u001b[37m 0 \u001b[0m\u001b[0m\u001b[37m 0 \u001b[0m\u001b[0m\u001b[37m 0 \u001b[0m\n",
      "08 | \u001b[0m\u001b[37m 0 \u001b[0m\u001b[0m\u001b[37m 0 \u001b[0m\u001b[0m\u001b[37m 0 \u001b[0m\u001b[0m\u001b[37m 0 \u001b[0m\u001b[0m\u001b[37m 0 \u001b[0m\u001b[0m\u001b[37m 0 \u001b[0m\u001b[0m\u001b[37m 0 \u001b[0m\u001b[0m\u001b[37m 0 \u001b[0m\u001b[0m\u001b[37m 0 \u001b[0m\u001b[0m\u001b[37m 0 \u001b[0m\n",
      "09 | \u001b[0m\u001b[37m 0 \u001b[0m\u001b[0m\u001b[37m 0 \u001b[0m\u001b[0m\u001b[37m 0 \u001b[0m\u001b[0m\u001b[37m 0 \u001b[0m\u001b[0m\u001b[37m 0 \u001b[0m\u001b[0m\u001b[37m 0 \u001b[0m\u001b[0m\u001b[37m 0 \u001b[0m\u001b[0m\u001b[37m 0 \u001b[0m\u001b[0m\u001b[37m 0 \u001b[0m\u001b[0m\u001b[37m 0 \u001b[0m\n",
      "10 | \u001b[0m\u001b[37m 0 \u001b[0m\u001b[0m\u001b[37m 0 \u001b[0m\u001b[0m\u001b[37m 0 \u001b[0m\u001b[0m\u001b[37m 0 \u001b[0m\u001b[0m\u001b[37m 0 \u001b[0m\u001b[0m\u001b[37m 0 \u001b[0m\u001b[0m\u001b[37m 0 \u001b[0m\u001b[0m\u001b[37m 0 \u001b[0m\u001b[0m\u001b[37m 0 \u001b[0m\u001b[0m\u001b[37m 0 \u001b[0m\n",
      "11 | \u001b[0m\u001b[37m 0 \u001b[0m\u001b[0m\u001b[37m 0 \u001b[0m\u001b[0m\u001b[37m 0 \u001b[0m\u001b[0m\u001b[37m 0 \u001b[0m\u001b[0m\u001b[37m 0 \u001b[0m\u001b[0m\u001b[37m 0 \u001b[0m\u001b[0m\u001b[37m 0 \u001b[0m\u001b[0m\u001b[37m 0 \u001b[0m\u001b[0m\u001b[37m 0 \u001b[0m\u001b[0m\u001b[37m 0 \u001b[0m\n",
      "12 | \u001b[0m\u001b[37m 0 \u001b[0m\u001b[0m\u001b[37m 0 \u001b[0m\u001b[0m\u001b[37m 0 \u001b[0m\u001b[0m\u001b[37m 0 \u001b[0m\u001b[0m\u001b[37m 0 \u001b[0m\u001b[0m\u001b[37m 0 \u001b[0m\u001b[0m\u001b[37m 0 \u001b[0m\u001b[0m\u001b[37m 0 \u001b[0m\u001b[0m\u001b[37m 0 \u001b[0m\u001b[0m\u001b[37m 0 \u001b[0m\n",
      "13 | \u001b[0m\u001b[37m 0 \u001b[0m\u001b[0m\u001b[37m 0 \u001b[0m\u001b[0m\u001b[37m 0 \u001b[0m\u001b[0m\u001b[37m 0 \u001b[0m\u001b[0m\u001b[37m 0 \u001b[0m\u001b[0m\u001b[37m 0 \u001b[0m\u001b[0m\u001b[37m 0 \u001b[0m\u001b[0m\u001b[37m 0 \u001b[0m\u001b[0m\u001b[37m 0 \u001b[0m\u001b[0m\u001b[37m 0 \u001b[0m\n",
      "14 | \u001b[0m\u001b[37m 0 \u001b[0m\u001b[0m\u001b[37m 0 \u001b[0m\u001b[0m\u001b[37m 0 \u001b[0m\u001b[0m\u001b[37m 0 \u001b[0m\u001b[0m\u001b[37m 0 \u001b[0m\u001b[0m\u001b[37m 0 \u001b[0m\u001b[0m\u001b[37m 0 \u001b[0m\u001b[0m\u001b[37m 0 \u001b[0m\u001b[0m\u001b[37m 0 \u001b[0m\u001b[0m\u001b[37m 0 \u001b[0m\n",
      "15 | \u001b[0m\u001b[37m 0 \u001b[0m\u001b[0m\u001b[37m 0 \u001b[0m\u001b[0m\u001b[37m 0 \u001b[0m\u001b[0m\u001b[37m 0 \u001b[0m\u001b[0m\u001b[37m 0 \u001b[0m\u001b[0m\u001b[37m 0 \u001b[0m\u001b[0m\u001b[37m 0 \u001b[0m\u001b[0m\u001b[37m 0 \u001b[0m\u001b[0m\u001b[37m 0 \u001b[0m\u001b[0m\u001b[37m 0 \u001b[0m\n",
      "16 | \u001b[0m\u001b[37m 0 \u001b[0m\u001b[0m\u001b[37m 0 \u001b[0m\u001b[0m\u001b[37m 0 \u001b[0m\u001b[0m\u001b[37m 0 \u001b[0m\u001b[0m\u001b[37m 0 \u001b[0m\u001b[0m\u001b[37m 0 \u001b[0m\u001b[0m\u001b[37m 0 \u001b[0m\u001b[0m\u001b[37m 0 \u001b[0m\u001b[0m\u001b[37m 0 \u001b[0m\u001b[0m\u001b[37m 0 \u001b[0m\n",
      "17 | \u001b[0m\u001b[37m 0 \u001b[0m\u001b[0m\u001b[37m 0 \u001b[0m\u001b[0m\u001b[37m 0 \u001b[0m\u001b[0m\u001b[37m 0 \u001b[0m\u001b[0m\u001b[37m 0 \u001b[0m\u001b[0m\u001b[37m 0 \u001b[0m\u001b[0m\u001b[37m 0 \u001b[0m\u001b[0m\u001b[37m 0 \u001b[0m\u001b[0m\u001b[37m 0 \u001b[0m\u001b[0m\u001b[37m 0 \u001b[0m\n",
      "\n",
      "\u001b[1m\u001b[38;2;255;0;0m-10pts because 10sec passed without scoring !\u001b[0m\n",
      "  Reward=\u001b[1m\u001b[38;2;255;0;0m-10\u001b[0m\n",
      "\u001b[1m\u001b[38;2;64;192;64mAdd new tetromino O\u001b[0m\n",
      "Level: 0 | Lines: 0\n",
      "Reward=\u001b[1m\u001b[38;2;255;0;0m-10\u001b[0m\n",
      "      0  1  2  3  4  5  6  7  8  9\n",
      "-----------------------------------\n",
      "00 | \u001b[0m\u001b[37m 0 \u001b[0m\u001b[0m\u001b[37m 0 \u001b[0m\u001b[0m\u001b[37m 0 \u001b[0m\u001b[0m\u001b[37m 0 \u001b[0m\u001b[0m\u001b[37m 0 \u001b[0m\u001b[0m\u001b[37m 0 \u001b[0m\u001b[0m\u001b[37m 0 \u001b[0m\u001b[0m\u001b[37m 0 \u001b[0m\u001b[0m\u001b[37m 0 \u001b[0m\u001b[0m\u001b[37m 0 \u001b[0m\n",
      "01 | \u001b[0m\u001b[37m 0 \u001b[0m\u001b[0m\u001b[37m 0 \u001b[0m\u001b[0m\u001b[37m 0 \u001b[0m\u001b[0m\u001b[37m 0 \u001b[0m\u001b[1m\u001b[38;2;255;255;255;102m 3 \u001b[0m\u001b[1m\u001b[38;2;255;255;255;102m 3 \u001b[0m\u001b[0m\u001b[37m 0 \u001b[0m\u001b[0m\u001b[37m 0 \u001b[0m\u001b[0m\u001b[37m 0 \u001b[0m\u001b[0m\u001b[37m 0 \u001b[0m\n",
      "02 | \u001b[0m\u001b[37m 0 \u001b[0m\u001b[0m\u001b[37m 0 \u001b[0m\u001b[0m\u001b[37m 0 \u001b[0m\u001b[0m\u001b[37m 0 \u001b[0m\u001b[1m\u001b[38;2;255;255;255;102m 3 \u001b[0m\u001b[1m\u001b[38;2;255;255;255;102m 3 \u001b[0m\u001b[0m\u001b[37m 0 \u001b[0m\u001b[0m\u001b[37m 0 \u001b[0m\u001b[0m\u001b[37m 0 \u001b[0m\u001b[0m\u001b[37m 0 \u001b[0m\n",
      "03 | \u001b[0m\u001b[37m 0 \u001b[0m\u001b[0m\u001b[37m 0 \u001b[0m\u001b[0m\u001b[37m 0 \u001b[0m\u001b[0m\u001b[37m 0 \u001b[0m\u001b[0m\u001b[37m 0 \u001b[0m\u001b[0m\u001b[37m 0 \u001b[0m\u001b[0m\u001b[37m 0 \u001b[0m\u001b[0m\u001b[37m 0 \u001b[0m\u001b[0m\u001b[37m 0 \u001b[0m\u001b[0m\u001b[37m 0 \u001b[0m\n",
      "04 | \u001b[0m\u001b[37m 0 \u001b[0m\u001b[0m\u001b[37m 0 \u001b[0m\u001b[0m\u001b[37m 0 \u001b[0m\u001b[0m\u001b[37m 0 \u001b[0m\u001b[0m\u001b[37m 0 \u001b[0m\u001b[0m\u001b[37m 0 \u001b[0m\u001b[0m\u001b[37m 0 \u001b[0m\u001b[0m\u001b[37m 0 \u001b[0m\u001b[0m\u001b[37m 0 \u001b[0m\u001b[0m\u001b[37m 0 \u001b[0m\n",
      "05 | \u001b[0m\u001b[37m 0 \u001b[0m\u001b[0m\u001b[37m 0 \u001b[0m\u001b[0m\u001b[37m 0 \u001b[0m\u001b[0m\u001b[37m 0 \u001b[0m\u001b[0m\u001b[37m 0 \u001b[0m\u001b[0m\u001b[37m 0 \u001b[0m\u001b[0m\u001b[37m 0 \u001b[0m\u001b[0m\u001b[37m 0 \u001b[0m\u001b[0m\u001b[37m 0 \u001b[0m\u001b[0m\u001b[37m 0 \u001b[0m\n",
      "06 | \u001b[0m\u001b[37m 0 \u001b[0m\u001b[0m\u001b[37m 0 \u001b[0m\u001b[0m\u001b[37m 0 \u001b[0m\u001b[0m\u001b[37m 0 \u001b[0m\u001b[0m\u001b[37m 0 \u001b[0m\u001b[0m\u001b[37m 0 \u001b[0m\u001b[0m\u001b[37m 0 \u001b[0m\u001b[0m\u001b[37m 0 \u001b[0m\u001b[0m\u001b[37m 0 \u001b[0m\u001b[0m\u001b[37m 0 \u001b[0m\n",
      "07 | \u001b[0m\u001b[37m 0 \u001b[0m\u001b[0m\u001b[37m 0 \u001b[0m\u001b[0m\u001b[37m 0 \u001b[0m\u001b[0m\u001b[37m 0 \u001b[0m\u001b[0m\u001b[37m 0 \u001b[0m\u001b[0m\u001b[37m 0 \u001b[0m\u001b[0m\u001b[37m 0 \u001b[0m\u001b[0m\u001b[37m 0 \u001b[0m\u001b[0m\u001b[37m 0 \u001b[0m\u001b[0m\u001b[37m 0 \u001b[0m\n",
      "08 | \u001b[0m\u001b[37m 0 \u001b[0m\u001b[0m\u001b[37m 0 \u001b[0m\u001b[0m\u001b[37m 0 \u001b[0m\u001b[0m\u001b[37m 0 \u001b[0m\u001b[0m\u001b[37m 0 \u001b[0m\u001b[0m\u001b[37m 0 \u001b[0m\u001b[0m\u001b[37m 0 \u001b[0m\u001b[0m\u001b[37m 0 \u001b[0m\u001b[0m\u001b[37m 0 \u001b[0m\u001b[0m\u001b[37m 0 \u001b[0m\n",
      "09 | \u001b[0m\u001b[37m 0 \u001b[0m\u001b[0m\u001b[37m 0 \u001b[0m\u001b[0m\u001b[37m 0 \u001b[0m\u001b[0m\u001b[37m 0 \u001b[0m\u001b[0m\u001b[37m 0 \u001b[0m\u001b[0m\u001b[37m 0 \u001b[0m\u001b[0m\u001b[37m 0 \u001b[0m\u001b[0m\u001b[37m 0 \u001b[0m\u001b[0m\u001b[37m 0 \u001b[0m\u001b[0m\u001b[37m 0 \u001b[0m\n",
      "10 | \u001b[0m\u001b[37m 0 \u001b[0m\u001b[0m\u001b[37m 0 \u001b[0m\u001b[0m\u001b[37m 0 \u001b[0m\u001b[0m\u001b[37m 0 \u001b[0m\u001b[0m\u001b[37m 0 \u001b[0m\u001b[0m\u001b[37m 0 \u001b[0m\u001b[0m\u001b[37m 0 \u001b[0m\u001b[0m\u001b[37m 0 \u001b[0m\u001b[0m\u001b[37m 0 \u001b[0m\u001b[0m\u001b[37m 0 \u001b[0m\n",
      "11 | \u001b[0m\u001b[37m 0 \u001b[0m\u001b[0m\u001b[37m 0 \u001b[0m\u001b[0m\u001b[37m 0 \u001b[0m\u001b[0m\u001b[37m 0 \u001b[0m\u001b[0m\u001b[37m 0 \u001b[0m\u001b[0m\u001b[37m 0 \u001b[0m\u001b[0m\u001b[37m 0 \u001b[0m\u001b[0m\u001b[37m 0 \u001b[0m\u001b[0m\u001b[37m 0 \u001b[0m\u001b[0m\u001b[37m 0 \u001b[0m\n",
      "12 | \u001b[0m\u001b[37m 0 \u001b[0m\u001b[0m\u001b[37m 0 \u001b[0m\u001b[0m\u001b[37m 0 \u001b[0m\u001b[0m\u001b[37m 0 \u001b[0m\u001b[0m\u001b[37m 0 \u001b[0m\u001b[0m\u001b[37m 0 \u001b[0m\u001b[0m\u001b[37m 0 \u001b[0m\u001b[0m\u001b[37m 0 \u001b[0m\u001b[0m\u001b[37m 0 \u001b[0m\u001b[0m\u001b[37m 0 \u001b[0m\n",
      "13 | \u001b[0m\u001b[37m 0 \u001b[0m\u001b[0m\u001b[37m 0 \u001b[0m\u001b[0m\u001b[37m 0 \u001b[0m\u001b[0m\u001b[37m 0 \u001b[0m\u001b[0m\u001b[37m 0 \u001b[0m\u001b[0m\u001b[37m 0 \u001b[0m\u001b[0m\u001b[37m 0 \u001b[0m\u001b[0m\u001b[37m 0 \u001b[0m\u001b[0m\u001b[37m 0 \u001b[0m\u001b[0m\u001b[37m 0 \u001b[0m\n",
      "14 | \u001b[0m\u001b[37m 0 \u001b[0m\u001b[0m\u001b[37m 0 \u001b[0m\u001b[0m\u001b[37m 0 \u001b[0m\u001b[0m\u001b[37m 0 \u001b[0m\u001b[0m\u001b[37m 0 \u001b[0m\u001b[0m\u001b[37m 0 \u001b[0m\u001b[0m\u001b[37m 0 \u001b[0m\u001b[0m\u001b[37m 0 \u001b[0m\u001b[0m\u001b[37m 0 \u001b[0m\u001b[0m\u001b[37m 0 \u001b[0m\n",
      "15 | \u001b[0m\u001b[37m 0 \u001b[0m\u001b[0m\u001b[37m 0 \u001b[0m\u001b[0m\u001b[37m 0 \u001b[0m\u001b[0m\u001b[37m 0 \u001b[0m\u001b[0m\u001b[37m 0 \u001b[0m\u001b[0m\u001b[37m 0 \u001b[0m\u001b[0m\u001b[37m 0 \u001b[0m\u001b[0m\u001b[37m 0 \u001b[0m\u001b[0m\u001b[37m 0 \u001b[0m\u001b[0m\u001b[37m 0 \u001b[0m\n",
      "16 | \u001b[0m\u001b[37m 0 \u001b[0m\u001b[0m\u001b[37m 0 \u001b[0m\u001b[0m\u001b[37m 0 \u001b[0m\u001b[0m\u001b[37m 0 \u001b[0m\u001b[1m\u001b[38;2;255;255;255;46m 6 \u001b[0m\u001b[1m\u001b[38;2;255;255;255;46m 6 \u001b[0m\u001b[0m\u001b[37m 0 \u001b[0m\u001b[0m\u001b[37m 0 \u001b[0m\u001b[0m\u001b[37m 0 \u001b[0m\u001b[0m\u001b[37m 0 \u001b[0m\n",
      "17 | \u001b[0m\u001b[37m 0 \u001b[0m\u001b[0m\u001b[37m 0 \u001b[0m\u001b[0m\u001b[37m 0 \u001b[0m\u001b[1m\u001b[38;2;255;255;255;46m 6 \u001b[0m\u001b[1m\u001b[38;2;255;255;255;46m 6 \u001b[0m\u001b[0m\u001b[37m 0 \u001b[0m\u001b[0m\u001b[37m 0 \u001b[0m\u001b[0m\u001b[37m 0 \u001b[0m\u001b[0m\u001b[37m 0 \u001b[0m\u001b[0m\u001b[37m 0 \u001b[0m\n",
      "\n",
      "\u001b[1m\u001b[38;2;255;0;0m-10pts because 9sec passed without scoring !\u001b[0m\n",
      "  Reward=\u001b[1m\u001b[38;2;255;0;0m-20\u001b[0m\n",
      "\u001b[1m\u001b[38;2;64;192;64mAdd new tetromino J\u001b[0m\n",
      "Level: 0 | Lines: 0\n",
      "Reward=\u001b[1m\u001b[38;2;255;0;0m-20\u001b[0m\n",
      "      0  1  2  3  4  5  6  7  8  9\n",
      "-----------------------------------\n",
      "00 | \u001b[0m\u001b[37m 0 \u001b[0m\u001b[0m\u001b[37m 0 \u001b[0m\u001b[0m\u001b[37m 0 \u001b[0m\u001b[0m\u001b[37m 0 \u001b[0m\u001b[0m\u001b[37m 0 \u001b[0m\u001b[0m\u001b[37m 0 \u001b[0m\u001b[0m\u001b[37m 0 \u001b[0m\u001b[0m\u001b[37m 0 \u001b[0m\u001b[0m\u001b[37m 0 \u001b[0m\u001b[0m\u001b[37m 0 \u001b[0m\n",
      "01 | \u001b[0m\u001b[37m 0 \u001b[0m\u001b[0m\u001b[37m 0 \u001b[0m\u001b[0m\u001b[37m 0 \u001b[0m\u001b[1m\u001b[38;2;255;255;255;101m 1 \u001b[0m\u001b[1m\u001b[38;2;255;255;255;101m 1 \u001b[0m\u001b[1m\u001b[38;2;255;255;255;101m 1 \u001b[0m\u001b[0m\u001b[37m 0 \u001b[0m\u001b[0m\u001b[37m 0 \u001b[0m\u001b[0m\u001b[37m 0 \u001b[0m\u001b[0m\u001b[37m 0 \u001b[0m\n",
      "02 | \u001b[0m\u001b[37m 0 \u001b[0m\u001b[0m\u001b[37m 0 \u001b[0m\u001b[0m\u001b[37m 0 \u001b[0m\u001b[0m\u001b[37m 0 \u001b[0m\u001b[0m\u001b[37m 0 \u001b[0m\u001b[1m\u001b[38;2;255;255;255;101m 1 \u001b[0m\u001b[0m\u001b[37m 0 \u001b[0m\u001b[0m\u001b[37m 0 \u001b[0m\u001b[0m\u001b[37m 0 \u001b[0m\u001b[0m\u001b[37m 0 \u001b[0m\n",
      "03 | \u001b[0m\u001b[37m 0 \u001b[0m\u001b[0m\u001b[37m 0 \u001b[0m\u001b[0m\u001b[37m 0 \u001b[0m\u001b[0m\u001b[37m 0 \u001b[0m\u001b[0m\u001b[37m 0 \u001b[0m\u001b[0m\u001b[37m 0 \u001b[0m\u001b[0m\u001b[37m 0 \u001b[0m\u001b[0m\u001b[37m 0 \u001b[0m\u001b[0m\u001b[37m 0 \u001b[0m\u001b[0m\u001b[37m 0 \u001b[0m\n",
      "04 | \u001b[0m\u001b[37m 0 \u001b[0m\u001b[0m\u001b[37m 0 \u001b[0m\u001b[0m\u001b[37m 0 \u001b[0m\u001b[0m\u001b[37m 0 \u001b[0m\u001b[0m\u001b[37m 0 \u001b[0m\u001b[0m\u001b[37m 0 \u001b[0m\u001b[0m\u001b[37m 0 \u001b[0m\u001b[0m\u001b[37m 0 \u001b[0m\u001b[0m\u001b[37m 0 \u001b[0m\u001b[0m\u001b[37m 0 \u001b[0m\n",
      "05 | \u001b[0m\u001b[37m 0 \u001b[0m\u001b[0m\u001b[37m 0 \u001b[0m\u001b[0m\u001b[37m 0 \u001b[0m\u001b[0m\u001b[37m 0 \u001b[0m\u001b[0m\u001b[37m 0 \u001b[0m\u001b[0m\u001b[37m 0 \u001b[0m\u001b[0m\u001b[37m 0 \u001b[0m\u001b[0m\u001b[37m 0 \u001b[0m\u001b[0m\u001b[37m 0 \u001b[0m\u001b[0m\u001b[37m 0 \u001b[0m\n",
      "06 | \u001b[0m\u001b[37m 0 \u001b[0m\u001b[0m\u001b[37m 0 \u001b[0m\u001b[0m\u001b[37m 0 \u001b[0m\u001b[0m\u001b[37m 0 \u001b[0m\u001b[0m\u001b[37m 0 \u001b[0m\u001b[0m\u001b[37m 0 \u001b[0m\u001b[0m\u001b[37m 0 \u001b[0m\u001b[0m\u001b[37m 0 \u001b[0m\u001b[0m\u001b[37m 0 \u001b[0m\u001b[0m\u001b[37m 0 \u001b[0m\n",
      "07 | \u001b[0m\u001b[37m 0 \u001b[0m\u001b[0m\u001b[37m 0 \u001b[0m\u001b[0m\u001b[37m 0 \u001b[0m\u001b[0m\u001b[37m 0 \u001b[0m\u001b[0m\u001b[37m 0 \u001b[0m\u001b[0m\u001b[37m 0 \u001b[0m\u001b[0m\u001b[37m 0 \u001b[0m\u001b[0m\u001b[37m 0 \u001b[0m\u001b[0m\u001b[37m 0 \u001b[0m\u001b[0m\u001b[37m 0 \u001b[0m\n",
      "08 | \u001b[0m\u001b[37m 0 \u001b[0m\u001b[0m\u001b[37m 0 \u001b[0m\u001b[0m\u001b[37m 0 \u001b[0m\u001b[0m\u001b[37m 0 \u001b[0m\u001b[0m\u001b[37m 0 \u001b[0m\u001b[0m\u001b[37m 0 \u001b[0m\u001b[0m\u001b[37m 0 \u001b[0m\u001b[0m\u001b[37m 0 \u001b[0m\u001b[0m\u001b[37m 0 \u001b[0m\u001b[0m\u001b[37m 0 \u001b[0m\n",
      "09 | \u001b[0m\u001b[37m 0 \u001b[0m\u001b[0m\u001b[37m 0 \u001b[0m\u001b[0m\u001b[37m 0 \u001b[0m\u001b[0m\u001b[37m 0 \u001b[0m\u001b[0m\u001b[37m 0 \u001b[0m\u001b[0m\u001b[37m 0 \u001b[0m\u001b[0m\u001b[37m 0 \u001b[0m\u001b[0m\u001b[37m 0 \u001b[0m\u001b[0m\u001b[37m 0 \u001b[0m\u001b[0m\u001b[37m 0 \u001b[0m\n",
      "10 | \u001b[0m\u001b[37m 0 \u001b[0m\u001b[0m\u001b[37m 0 \u001b[0m\u001b[0m\u001b[37m 0 \u001b[0m\u001b[0m\u001b[37m 0 \u001b[0m\u001b[0m\u001b[37m 0 \u001b[0m\u001b[0m\u001b[37m 0 \u001b[0m\u001b[0m\u001b[37m 0 \u001b[0m\u001b[0m\u001b[37m 0 \u001b[0m\u001b[0m\u001b[37m 0 \u001b[0m\u001b[0m\u001b[37m 0 \u001b[0m\n",
      "11 | \u001b[0m\u001b[37m 0 \u001b[0m\u001b[0m\u001b[37m 0 \u001b[0m\u001b[0m\u001b[37m 0 \u001b[0m\u001b[0m\u001b[37m 0 \u001b[0m\u001b[0m\u001b[37m 0 \u001b[0m\u001b[0m\u001b[37m 0 \u001b[0m\u001b[0m\u001b[37m 0 \u001b[0m\u001b[0m\u001b[37m 0 \u001b[0m\u001b[0m\u001b[37m 0 \u001b[0m\u001b[0m\u001b[37m 0 \u001b[0m\n",
      "12 | \u001b[0m\u001b[37m 0 \u001b[0m\u001b[0m\u001b[37m 0 \u001b[0m\u001b[0m\u001b[37m 0 \u001b[0m\u001b[0m\u001b[37m 0 \u001b[0m\u001b[0m\u001b[37m 0 \u001b[0m\u001b[0m\u001b[37m 0 \u001b[0m\u001b[0m\u001b[37m 0 \u001b[0m\u001b[0m\u001b[37m 0 \u001b[0m\u001b[0m\u001b[37m 0 \u001b[0m\u001b[0m\u001b[37m 0 \u001b[0m\n",
      "13 | \u001b[0m\u001b[37m 0 \u001b[0m\u001b[0m\u001b[37m 0 \u001b[0m\u001b[0m\u001b[37m 0 \u001b[0m\u001b[0m\u001b[37m 0 \u001b[0m\u001b[0m\u001b[37m 0 \u001b[0m\u001b[0m\u001b[37m 0 \u001b[0m\u001b[0m\u001b[37m 0 \u001b[0m\u001b[0m\u001b[37m 0 \u001b[0m\u001b[0m\u001b[37m 0 \u001b[0m\u001b[0m\u001b[37m 0 \u001b[0m\n",
      "14 | \u001b[0m\u001b[37m 0 \u001b[0m\u001b[0m\u001b[37m 0 \u001b[0m\u001b[0m\u001b[37m 0 \u001b[0m\u001b[0m\u001b[37m 0 \u001b[0m\u001b[1m\u001b[38;2;255;255;255;102m 3 \u001b[0m\u001b[1m\u001b[38;2;255;255;255;102m 3 \u001b[0m\u001b[0m\u001b[37m 0 \u001b[0m\u001b[0m\u001b[37m 0 \u001b[0m\u001b[0m\u001b[37m 0 \u001b[0m\u001b[0m\u001b[37m 0 \u001b[0m\n",
      "15 | \u001b[0m\u001b[37m 0 \u001b[0m\u001b[0m\u001b[37m 0 \u001b[0m\u001b[0m\u001b[37m 0 \u001b[0m\u001b[0m\u001b[37m 0 \u001b[0m\u001b[1m\u001b[38;2;255;255;255;102m 3 \u001b[0m\u001b[1m\u001b[38;2;255;255;255;102m 3 \u001b[0m\u001b[0m\u001b[37m 0 \u001b[0m\u001b[0m\u001b[37m 0 \u001b[0m\u001b[0m\u001b[37m 0 \u001b[0m\u001b[0m\u001b[37m 0 \u001b[0m\n",
      "16 | \u001b[0m\u001b[37m 0 \u001b[0m\u001b[0m\u001b[37m 0 \u001b[0m\u001b[0m\u001b[37m 0 \u001b[0m\u001b[0m\u001b[37m 0 \u001b[0m\u001b[1m\u001b[38;2;255;255;255;46m 6 \u001b[0m\u001b[1m\u001b[38;2;255;255;255;46m 6 \u001b[0m\u001b[0m\u001b[37m 0 \u001b[0m\u001b[0m\u001b[37m 0 \u001b[0m\u001b[0m\u001b[37m 0 \u001b[0m\u001b[0m\u001b[37m 0 \u001b[0m\n",
      "17 | \u001b[0m\u001b[37m 0 \u001b[0m\u001b[0m\u001b[37m 0 \u001b[0m\u001b[0m\u001b[37m 0 \u001b[0m\u001b[1m\u001b[38;2;255;255;255;46m 6 \u001b[0m\u001b[1m\u001b[38;2;255;255;255;46m 6 \u001b[0m\u001b[0m\u001b[37m 0 \u001b[0m\u001b[0m\u001b[37m 0 \u001b[0m\u001b[0m\u001b[37m 0 \u001b[0m\u001b[0m\u001b[37m 0 \u001b[0m\u001b[0m\u001b[37m 0 \u001b[0m\n",
      "\n",
      "\u001b[1m\u001b[38;2;255;0;0m-10pts because 8sec passed without scoring !\u001b[0m\n",
      "  Reward=\u001b[1m\u001b[38;2;255;0;0m-30\u001b[0m\n"
     ]
    },
    {
     "name": "stdout",
     "output_type": "stream",
     "text": [
      "\u001b[1m\u001b[38;2;255;0;0m-10pts because 7sec passed without scoring !\u001b[0m\n",
      "  Reward=\u001b[1m\u001b[38;2;255;0;0m-40\u001b[0m\n",
      "\u001b[1m\u001b[38;2;64;192;64mAdd new tetromino O\u001b[0m\n",
      "Level: 0 | Lines: 0\n",
      "Reward=\u001b[1m\u001b[38;2;255;0;0m-40\u001b[0m\n",
      "      0  1  2  3  4  5  6  7  8  9\n",
      "-----------------------------------\n",
      "00 | \u001b[0m\u001b[37m 0 \u001b[0m\u001b[0m\u001b[37m 0 \u001b[0m\u001b[0m\u001b[37m 0 \u001b[0m\u001b[0m\u001b[37m 0 \u001b[0m\u001b[0m\u001b[37m 0 \u001b[0m\u001b[0m\u001b[37m 0 \u001b[0m\u001b[0m\u001b[37m 0 \u001b[0m\u001b[0m\u001b[37m 0 \u001b[0m\u001b[0m\u001b[37m 0 \u001b[0m\u001b[0m\u001b[37m 0 \u001b[0m\n",
      "01 | \u001b[0m\u001b[37m 0 \u001b[0m\u001b[0m\u001b[37m 0 \u001b[0m\u001b[0m\u001b[37m 0 \u001b[0m\u001b[0m\u001b[37m 0 \u001b[0m\u001b[1m\u001b[38;2;255;255;255;102m 3 \u001b[0m\u001b[1m\u001b[38;2;255;255;255;102m 3 \u001b[0m\u001b[0m\u001b[37m 0 \u001b[0m\u001b[0m\u001b[37m 0 \u001b[0m\u001b[0m\u001b[37m 0 \u001b[0m\u001b[0m\u001b[37m 0 \u001b[0m\n",
      "02 | \u001b[0m\u001b[37m 0 \u001b[0m\u001b[0m\u001b[37m 0 \u001b[0m\u001b[0m\u001b[37m 0 \u001b[0m\u001b[0m\u001b[37m 0 \u001b[0m\u001b[1m\u001b[38;2;255;255;255;102m 3 \u001b[0m\u001b[1m\u001b[38;2;255;255;255;102m 3 \u001b[0m\u001b[0m\u001b[37m 0 \u001b[0m\u001b[0m\u001b[37m 0 \u001b[0m\u001b[0m\u001b[37m 0 \u001b[0m\u001b[0m\u001b[37m 0 \u001b[0m\n",
      "03 | \u001b[0m\u001b[37m 0 \u001b[0m\u001b[0m\u001b[37m 0 \u001b[0m\u001b[0m\u001b[37m 0 \u001b[0m\u001b[0m\u001b[37m 0 \u001b[0m\u001b[0m\u001b[37m 0 \u001b[0m\u001b[0m\u001b[37m 0 \u001b[0m\u001b[0m\u001b[37m 0 \u001b[0m\u001b[0m\u001b[37m 0 \u001b[0m\u001b[0m\u001b[37m 0 \u001b[0m\u001b[0m\u001b[37m 0 \u001b[0m\n",
      "04 | \u001b[0m\u001b[37m 0 \u001b[0m\u001b[0m\u001b[37m 0 \u001b[0m\u001b[0m\u001b[37m 0 \u001b[0m\u001b[0m\u001b[37m 0 \u001b[0m\u001b[0m\u001b[37m 0 \u001b[0m\u001b[0m\u001b[37m 0 \u001b[0m\u001b[0m\u001b[37m 0 \u001b[0m\u001b[0m\u001b[37m 0 \u001b[0m\u001b[0m\u001b[37m 0 \u001b[0m\u001b[0m\u001b[37m 0 \u001b[0m\n",
      "05 | \u001b[0m\u001b[37m 0 \u001b[0m\u001b[0m\u001b[37m 0 \u001b[0m\u001b[0m\u001b[37m 0 \u001b[0m\u001b[0m\u001b[37m 0 \u001b[0m\u001b[0m\u001b[37m 0 \u001b[0m\u001b[0m\u001b[37m 0 \u001b[0m\u001b[0m\u001b[37m 0 \u001b[0m\u001b[0m\u001b[37m 0 \u001b[0m\u001b[0m\u001b[37m 0 \u001b[0m\u001b[0m\u001b[37m 0 \u001b[0m\n",
      "06 | \u001b[0m\u001b[37m 0 \u001b[0m\u001b[0m\u001b[37m 0 \u001b[0m\u001b[0m\u001b[37m 0 \u001b[0m\u001b[0m\u001b[37m 0 \u001b[0m\u001b[0m\u001b[37m 0 \u001b[0m\u001b[0m\u001b[37m 0 \u001b[0m\u001b[0m\u001b[37m 0 \u001b[0m\u001b[0m\u001b[37m 0 \u001b[0m\u001b[0m\u001b[37m 0 \u001b[0m\u001b[0m\u001b[37m 0 \u001b[0m\n",
      "07 | \u001b[0m\u001b[37m 0 \u001b[0m\u001b[0m\u001b[37m 0 \u001b[0m\u001b[0m\u001b[37m 0 \u001b[0m\u001b[0m\u001b[37m 0 \u001b[0m\u001b[0m\u001b[37m 0 \u001b[0m\u001b[0m\u001b[37m 0 \u001b[0m\u001b[0m\u001b[37m 0 \u001b[0m\u001b[0m\u001b[37m 0 \u001b[0m\u001b[0m\u001b[37m 0 \u001b[0m\u001b[0m\u001b[37m 0 \u001b[0m\n",
      "08 | \u001b[0m\u001b[37m 0 \u001b[0m\u001b[0m\u001b[37m 0 \u001b[0m\u001b[0m\u001b[37m 0 \u001b[0m\u001b[0m\u001b[37m 0 \u001b[0m\u001b[0m\u001b[37m 0 \u001b[0m\u001b[0m\u001b[37m 0 \u001b[0m\u001b[0m\u001b[37m 0 \u001b[0m\u001b[0m\u001b[37m 0 \u001b[0m\u001b[0m\u001b[37m 0 \u001b[0m\u001b[0m\u001b[37m 0 \u001b[0m\n",
      "09 | \u001b[0m\u001b[37m 0 \u001b[0m\u001b[0m\u001b[37m 0 \u001b[0m\u001b[0m\u001b[37m 0 \u001b[0m\u001b[0m\u001b[37m 0 \u001b[0m\u001b[0m\u001b[37m 0 \u001b[0m\u001b[0m\u001b[37m 0 \u001b[0m\u001b[0m\u001b[37m 0 \u001b[0m\u001b[0m\u001b[37m 0 \u001b[0m\u001b[0m\u001b[37m 0 \u001b[0m\u001b[0m\u001b[37m 0 \u001b[0m\n",
      "10 | \u001b[0m\u001b[37m 0 \u001b[0m\u001b[0m\u001b[37m 0 \u001b[0m\u001b[0m\u001b[37m 0 \u001b[0m\u001b[0m\u001b[37m 0 \u001b[0m\u001b[0m\u001b[37m 0 \u001b[0m\u001b[0m\u001b[37m 0 \u001b[0m\u001b[0m\u001b[37m 0 \u001b[0m\u001b[0m\u001b[37m 0 \u001b[0m\u001b[0m\u001b[37m 0 \u001b[0m\u001b[0m\u001b[37m 0 \u001b[0m\n",
      "11 | \u001b[0m\u001b[37m 0 \u001b[0m\u001b[0m\u001b[37m 0 \u001b[0m\u001b[0m\u001b[37m 0 \u001b[0m\u001b[0m\u001b[37m 0 \u001b[0m\u001b[0m\u001b[37m 0 \u001b[0m\u001b[0m\u001b[37m 0 \u001b[0m\u001b[0m\u001b[37m 0 \u001b[0m\u001b[0m\u001b[37m 0 \u001b[0m\u001b[0m\u001b[37m 0 \u001b[0m\u001b[0m\u001b[37m 0 \u001b[0m\n",
      "12 | \u001b[0m\u001b[37m 0 \u001b[0m\u001b[0m\u001b[37m 0 \u001b[0m\u001b[0m\u001b[37m 0 \u001b[0m\u001b[1m\u001b[38;2;255;255;255;101m 1 \u001b[0m\u001b[1m\u001b[38;2;255;255;255;101m 1 \u001b[0m\u001b[1m\u001b[38;2;255;255;255;101m 1 \u001b[0m\u001b[0m\u001b[37m 0 \u001b[0m\u001b[0m\u001b[37m 0 \u001b[0m\u001b[0m\u001b[37m 0 \u001b[0m\u001b[0m\u001b[37m 0 \u001b[0m\n",
      "13 | \u001b[0m\u001b[37m 0 \u001b[0m\u001b[0m\u001b[37m 0 \u001b[0m\u001b[0m\u001b[37m 0 \u001b[0m\u001b[0m\u001b[37m 0 \u001b[0m\u001b[0m\u001b[37m 0 \u001b[0m\u001b[1m\u001b[38;2;255;255;255;101m 1 \u001b[0m\u001b[0m\u001b[37m 0 \u001b[0m\u001b[0m\u001b[37m 0 \u001b[0m\u001b[0m\u001b[37m 0 \u001b[0m\u001b[0m\u001b[37m 0 \u001b[0m\n",
      "14 | \u001b[0m\u001b[37m 0 \u001b[0m\u001b[0m\u001b[37m 0 \u001b[0m\u001b[0m\u001b[37m 0 \u001b[0m\u001b[0m\u001b[37m 0 \u001b[0m\u001b[1m\u001b[38;2;255;255;255;102m 3 \u001b[0m\u001b[1m\u001b[38;2;255;255;255;102m 3 \u001b[0m\u001b[0m\u001b[37m 0 \u001b[0m\u001b[0m\u001b[37m 0 \u001b[0m\u001b[0m\u001b[37m 0 \u001b[0m\u001b[0m\u001b[37m 0 \u001b[0m\n",
      "15 | \u001b[0m\u001b[37m 0 \u001b[0m\u001b[0m\u001b[37m 0 \u001b[0m\u001b[0m\u001b[37m 0 \u001b[0m\u001b[0m\u001b[37m 0 \u001b[0m\u001b[1m\u001b[38;2;255;255;255;102m 3 \u001b[0m\u001b[1m\u001b[38;2;255;255;255;102m 3 \u001b[0m\u001b[0m\u001b[37m 0 \u001b[0m\u001b[0m\u001b[37m 0 \u001b[0m\u001b[0m\u001b[37m 0 \u001b[0m\u001b[0m\u001b[37m 0 \u001b[0m\n",
      "16 | \u001b[0m\u001b[37m 0 \u001b[0m\u001b[0m\u001b[37m 0 \u001b[0m\u001b[0m\u001b[37m 0 \u001b[0m\u001b[0m\u001b[37m 0 \u001b[0m\u001b[1m\u001b[38;2;255;255;255;46m 6 \u001b[0m\u001b[1m\u001b[38;2;255;255;255;46m 6 \u001b[0m\u001b[0m\u001b[37m 0 \u001b[0m\u001b[0m\u001b[37m 0 \u001b[0m\u001b[0m\u001b[37m 0 \u001b[0m\u001b[0m\u001b[37m 0 \u001b[0m\n",
      "17 | \u001b[0m\u001b[37m 0 \u001b[0m\u001b[0m\u001b[37m 0 \u001b[0m\u001b[0m\u001b[37m 0 \u001b[0m\u001b[1m\u001b[38;2;255;255;255;46m 6 \u001b[0m\u001b[1m\u001b[38;2;255;255;255;46m 6 \u001b[0m\u001b[0m\u001b[37m 0 \u001b[0m\u001b[0m\u001b[37m 0 \u001b[0m\u001b[0m\u001b[37m 0 \u001b[0m\u001b[0m\u001b[37m 0 \u001b[0m\u001b[0m\u001b[37m 0 \u001b[0m\n",
      "\n",
      "\u001b[1m\u001b[38;2;255;0;0m-10pts because 6sec passed without scoring !\u001b[0m\n",
      "  Reward=\u001b[1m\u001b[38;2;255;0;0m-50\u001b[0m\n",
      "\u001b[1m\u001b[38;2;255;0;0m-10pts because 5sec passed without scoring !\u001b[0m\n",
      "  Reward=\u001b[1m\u001b[38;2;255;0;0m-60\u001b[0m\n",
      "\u001b[1m\u001b[38;2;64;192;64mAdd new tetromino J\u001b[0m\n",
      "Level: 0 | Lines: 0\n",
      "Reward=\u001b[1m\u001b[38;2;255;0;0m-60\u001b[0m\n",
      "      0  1  2  3  4  5  6  7  8  9\n",
      "-----------------------------------\n",
      "00 | \u001b[0m\u001b[37m 0 \u001b[0m\u001b[0m\u001b[37m 0 \u001b[0m\u001b[0m\u001b[37m 0 \u001b[0m\u001b[0m\u001b[37m 0 \u001b[0m\u001b[0m\u001b[37m 0 \u001b[0m\u001b[0m\u001b[37m 0 \u001b[0m\u001b[0m\u001b[37m 0 \u001b[0m\u001b[0m\u001b[37m 0 \u001b[0m\u001b[0m\u001b[37m 0 \u001b[0m\u001b[0m\u001b[37m 0 \u001b[0m\n",
      "01 | \u001b[0m\u001b[37m 0 \u001b[0m\u001b[0m\u001b[37m 0 \u001b[0m\u001b[0m\u001b[37m 0 \u001b[0m\u001b[1m\u001b[38;2;255;255;255;101m 1 \u001b[0m\u001b[1m\u001b[38;2;255;255;255;101m 1 \u001b[0m\u001b[1m\u001b[38;2;255;255;255;101m 1 \u001b[0m\u001b[0m\u001b[37m 0 \u001b[0m\u001b[0m\u001b[37m 0 \u001b[0m\u001b[0m\u001b[37m 0 \u001b[0m\u001b[0m\u001b[37m 0 \u001b[0m\n",
      "02 | \u001b[0m\u001b[37m 0 \u001b[0m\u001b[0m\u001b[37m 0 \u001b[0m\u001b[0m\u001b[37m 0 \u001b[0m\u001b[0m\u001b[37m 0 \u001b[0m\u001b[0m\u001b[37m 0 \u001b[0m\u001b[1m\u001b[38;2;255;255;255;101m 1 \u001b[0m\u001b[0m\u001b[37m 0 \u001b[0m\u001b[0m\u001b[37m 0 \u001b[0m\u001b[0m\u001b[37m 0 \u001b[0m\u001b[0m\u001b[37m 0 \u001b[0m\n",
      "03 | \u001b[0m\u001b[37m 0 \u001b[0m\u001b[0m\u001b[37m 0 \u001b[0m\u001b[0m\u001b[37m 0 \u001b[0m\u001b[0m\u001b[37m 0 \u001b[0m\u001b[0m\u001b[37m 0 \u001b[0m\u001b[0m\u001b[37m 0 \u001b[0m\u001b[0m\u001b[37m 0 \u001b[0m\u001b[0m\u001b[37m 0 \u001b[0m\u001b[0m\u001b[37m 0 \u001b[0m\u001b[0m\u001b[37m 0 \u001b[0m\n",
      "04 | \u001b[0m\u001b[37m 0 \u001b[0m\u001b[0m\u001b[37m 0 \u001b[0m\u001b[0m\u001b[37m 0 \u001b[0m\u001b[0m\u001b[37m 0 \u001b[0m\u001b[0m\u001b[37m 0 \u001b[0m\u001b[0m\u001b[37m 0 \u001b[0m\u001b[0m\u001b[37m 0 \u001b[0m\u001b[0m\u001b[37m 0 \u001b[0m\u001b[0m\u001b[37m 0 \u001b[0m\u001b[0m\u001b[37m 0 \u001b[0m\n",
      "05 | \u001b[0m\u001b[37m 0 \u001b[0m\u001b[0m\u001b[37m 0 \u001b[0m\u001b[0m\u001b[37m 0 \u001b[0m\u001b[0m\u001b[37m 0 \u001b[0m\u001b[0m\u001b[37m 0 \u001b[0m\u001b[0m\u001b[37m 0 \u001b[0m\u001b[0m\u001b[37m 0 \u001b[0m\u001b[0m\u001b[37m 0 \u001b[0m\u001b[0m\u001b[37m 0 \u001b[0m\u001b[0m\u001b[37m 0 \u001b[0m\n",
      "06 | \u001b[0m\u001b[37m 0 \u001b[0m\u001b[0m\u001b[37m 0 \u001b[0m\u001b[0m\u001b[37m 0 \u001b[0m\u001b[0m\u001b[37m 0 \u001b[0m\u001b[0m\u001b[37m 0 \u001b[0m\u001b[0m\u001b[37m 0 \u001b[0m\u001b[0m\u001b[37m 0 \u001b[0m\u001b[0m\u001b[37m 0 \u001b[0m\u001b[0m\u001b[37m 0 \u001b[0m\u001b[0m\u001b[37m 0 \u001b[0m\n",
      "07 | \u001b[0m\u001b[37m 0 \u001b[0m\u001b[0m\u001b[37m 0 \u001b[0m\u001b[0m\u001b[37m 0 \u001b[0m\u001b[0m\u001b[37m 0 \u001b[0m\u001b[0m\u001b[37m 0 \u001b[0m\u001b[0m\u001b[37m 0 \u001b[0m\u001b[0m\u001b[37m 0 \u001b[0m\u001b[0m\u001b[37m 0 \u001b[0m\u001b[0m\u001b[37m 0 \u001b[0m\u001b[0m\u001b[37m 0 \u001b[0m\n",
      "08 | \u001b[0m\u001b[37m 0 \u001b[0m\u001b[0m\u001b[37m 0 \u001b[0m\u001b[0m\u001b[37m 0 \u001b[0m\u001b[0m\u001b[37m 0 \u001b[0m\u001b[0m\u001b[37m 0 \u001b[0m\u001b[0m\u001b[37m 0 \u001b[0m\u001b[0m\u001b[37m 0 \u001b[0m\u001b[0m\u001b[37m 0 \u001b[0m\u001b[0m\u001b[37m 0 \u001b[0m\u001b[0m\u001b[37m 0 \u001b[0m\n",
      "09 | \u001b[0m\u001b[37m 0 \u001b[0m\u001b[0m\u001b[37m 0 \u001b[0m\u001b[0m\u001b[37m 0 \u001b[0m\u001b[0m\u001b[37m 0 \u001b[0m\u001b[0m\u001b[37m 0 \u001b[0m\u001b[0m\u001b[37m 0 \u001b[0m\u001b[0m\u001b[37m 0 \u001b[0m\u001b[0m\u001b[37m 0 \u001b[0m\u001b[0m\u001b[37m 0 \u001b[0m\u001b[0m\u001b[37m 0 \u001b[0m\n",
      "10 | \u001b[0m\u001b[37m 0 \u001b[0m\u001b[0m\u001b[37m 0 \u001b[0m\u001b[0m\u001b[37m 0 \u001b[0m\u001b[0m\u001b[37m 0 \u001b[0m\u001b[1m\u001b[38;2;255;255;255;102m 3 \u001b[0m\u001b[1m\u001b[38;2;255;255;255;102m 3 \u001b[0m\u001b[0m\u001b[37m 0 \u001b[0m\u001b[0m\u001b[37m 0 \u001b[0m\u001b[0m\u001b[37m 0 \u001b[0m\u001b[0m\u001b[37m 0 \u001b[0m\n",
      "11 | \u001b[0m\u001b[37m 0 \u001b[0m\u001b[0m\u001b[37m 0 \u001b[0m\u001b[0m\u001b[37m 0 \u001b[0m\u001b[0m\u001b[37m 0 \u001b[0m\u001b[1m\u001b[38;2;255;255;255;102m 3 \u001b[0m\u001b[1m\u001b[38;2;255;255;255;102m 3 \u001b[0m\u001b[0m\u001b[37m 0 \u001b[0m\u001b[0m\u001b[37m 0 \u001b[0m\u001b[0m\u001b[37m 0 \u001b[0m\u001b[0m\u001b[37m 0 \u001b[0m\n",
      "12 | \u001b[0m\u001b[37m 0 \u001b[0m\u001b[0m\u001b[37m 0 \u001b[0m\u001b[0m\u001b[37m 0 \u001b[0m\u001b[1m\u001b[38;2;255;255;255;101m 1 \u001b[0m\u001b[1m\u001b[38;2;255;255;255;101m 1 \u001b[0m\u001b[1m\u001b[38;2;255;255;255;101m 1 \u001b[0m\u001b[0m\u001b[37m 0 \u001b[0m\u001b[0m\u001b[37m 0 \u001b[0m\u001b[0m\u001b[37m 0 \u001b[0m\u001b[0m\u001b[37m 0 \u001b[0m\n",
      "13 | \u001b[0m\u001b[37m 0 \u001b[0m\u001b[0m\u001b[37m 0 \u001b[0m\u001b[0m\u001b[37m 0 \u001b[0m\u001b[0m\u001b[37m 0 \u001b[0m\u001b[0m\u001b[37m 0 \u001b[0m\u001b[1m\u001b[38;2;255;255;255;101m 1 \u001b[0m\u001b[0m\u001b[37m 0 \u001b[0m\u001b[0m\u001b[37m 0 \u001b[0m\u001b[0m\u001b[37m 0 \u001b[0m\u001b[0m\u001b[37m 0 \u001b[0m\n",
      "14 | \u001b[0m\u001b[37m 0 \u001b[0m\u001b[0m\u001b[37m 0 \u001b[0m\u001b[0m\u001b[37m 0 \u001b[0m\u001b[0m\u001b[37m 0 \u001b[0m\u001b[1m\u001b[38;2;255;255;255;102m 3 \u001b[0m\u001b[1m\u001b[38;2;255;255;255;102m 3 \u001b[0m\u001b[0m\u001b[37m 0 \u001b[0m\u001b[0m\u001b[37m 0 \u001b[0m\u001b[0m\u001b[37m 0 \u001b[0m\u001b[0m\u001b[37m 0 \u001b[0m\n",
      "15 | \u001b[0m\u001b[37m 0 \u001b[0m\u001b[0m\u001b[37m 0 \u001b[0m\u001b[0m\u001b[37m 0 \u001b[0m\u001b[0m\u001b[37m 0 \u001b[0m\u001b[1m\u001b[38;2;255;255;255;102m 3 \u001b[0m\u001b[1m\u001b[38;2;255;255;255;102m 3 \u001b[0m\u001b[0m\u001b[37m 0 \u001b[0m\u001b[0m\u001b[37m 0 \u001b[0m\u001b[0m\u001b[37m 0 \u001b[0m\u001b[0m\u001b[37m 0 \u001b[0m\n",
      "16 | \u001b[0m\u001b[37m 0 \u001b[0m\u001b[0m\u001b[37m 0 \u001b[0m\u001b[0m\u001b[37m 0 \u001b[0m\u001b[0m\u001b[37m 0 \u001b[0m\u001b[1m\u001b[38;2;255;255;255;46m 6 \u001b[0m\u001b[1m\u001b[38;2;255;255;255;46m 6 \u001b[0m\u001b[0m\u001b[37m 0 \u001b[0m\u001b[0m\u001b[37m 0 \u001b[0m\u001b[0m\u001b[37m 0 \u001b[0m\u001b[0m\u001b[37m 0 \u001b[0m\n",
      "17 | \u001b[0m\u001b[37m 0 \u001b[0m\u001b[0m\u001b[37m 0 \u001b[0m\u001b[0m\u001b[37m 0 \u001b[0m\u001b[1m\u001b[38;2;255;255;255;46m 6 \u001b[0m\u001b[1m\u001b[38;2;255;255;255;46m 6 \u001b[0m\u001b[0m\u001b[37m 0 \u001b[0m\u001b[0m\u001b[37m 0 \u001b[0m\u001b[0m\u001b[37m 0 \u001b[0m\u001b[0m\u001b[37m 0 \u001b[0m\u001b[0m\u001b[37m 0 \u001b[0m\n",
      "\n",
      "\u001b[1m\u001b[38;2;255;0;0m-10pts because 4sec passed without scoring !\u001b[0m\n",
      "  Reward=\u001b[1m\u001b[38;2;255;0;0m-70\u001b[0m\n",
      "\u001b[1m\u001b[38;2;255;0;0m-10pts because 3sec passed without scoring !\u001b[0m\n",
      "  Reward=\u001b[1m\u001b[38;2;255;0;0m-80\u001b[0m\n",
      "\u001b[1m\u001b[38;2;64;192;64mAdd new tetromino T\u001b[0m\n",
      "Level: 0 | Lines: 0\n",
      "Reward=\u001b[1m\u001b[38;2;255;0;0m-80\u001b[0m\n",
      "      0  1  2  3  4  5  6  7  8  9\n",
      "-----------------------------------\n",
      "00 | \u001b[0m\u001b[37m 0 \u001b[0m\u001b[0m\u001b[37m 0 \u001b[0m\u001b[0m\u001b[37m 0 \u001b[0m\u001b[0m\u001b[37m 0 \u001b[0m\u001b[0m\u001b[37m 0 \u001b[0m\u001b[0m\u001b[37m 0 \u001b[0m\u001b[0m\u001b[37m 0 \u001b[0m\u001b[0m\u001b[37m 0 \u001b[0m\u001b[0m\u001b[37m 0 \u001b[0m\u001b[0m\u001b[37m 0 \u001b[0m\n",
      "01 | \u001b[0m\u001b[37m 0 \u001b[0m\u001b[0m\u001b[37m 0 \u001b[0m\u001b[0m\u001b[37m 0 \u001b[0m\u001b[1m\u001b[38;2;255;255;255;43m 5 \u001b[0m\u001b[1m\u001b[38;2;255;255;255;43m 5 \u001b[0m\u001b[1m\u001b[38;2;255;255;255;43m 5 \u001b[0m\u001b[0m\u001b[37m 0 \u001b[0m\u001b[0m\u001b[37m 0 \u001b[0m\u001b[0m\u001b[37m 0 \u001b[0m\u001b[0m\u001b[37m 0 \u001b[0m\n",
      "02 | \u001b[0m\u001b[37m 0 \u001b[0m\u001b[0m\u001b[37m 0 \u001b[0m\u001b[0m\u001b[37m 0 \u001b[0m\u001b[0m\u001b[37m 0 \u001b[0m\u001b[1m\u001b[38;2;255;255;255;43m 5 \u001b[0m\u001b[0m\u001b[37m 0 \u001b[0m\u001b[0m\u001b[37m 0 \u001b[0m\u001b[0m\u001b[37m 0 \u001b[0m\u001b[0m\u001b[37m 0 \u001b[0m\u001b[0m\u001b[37m 0 \u001b[0m\n",
      "03 | \u001b[0m\u001b[37m 0 \u001b[0m\u001b[0m\u001b[37m 0 \u001b[0m\u001b[0m\u001b[37m 0 \u001b[0m\u001b[0m\u001b[37m 0 \u001b[0m\u001b[0m\u001b[37m 0 \u001b[0m\u001b[0m\u001b[37m 0 \u001b[0m\u001b[0m\u001b[37m 0 \u001b[0m\u001b[0m\u001b[37m 0 \u001b[0m\u001b[0m\u001b[37m 0 \u001b[0m\u001b[0m\u001b[37m 0 \u001b[0m\n",
      "04 | \u001b[0m\u001b[37m 0 \u001b[0m\u001b[0m\u001b[37m 0 \u001b[0m\u001b[0m\u001b[37m 0 \u001b[0m\u001b[0m\u001b[37m 0 \u001b[0m\u001b[0m\u001b[37m 0 \u001b[0m\u001b[0m\u001b[37m 0 \u001b[0m\u001b[0m\u001b[37m 0 \u001b[0m\u001b[0m\u001b[37m 0 \u001b[0m\u001b[0m\u001b[37m 0 \u001b[0m\u001b[0m\u001b[37m 0 \u001b[0m\n",
      "05 | \u001b[0m\u001b[37m 0 \u001b[0m\u001b[0m\u001b[37m 0 \u001b[0m\u001b[0m\u001b[37m 0 \u001b[0m\u001b[0m\u001b[37m 0 \u001b[0m\u001b[0m\u001b[37m 0 \u001b[0m\u001b[0m\u001b[37m 0 \u001b[0m\u001b[0m\u001b[37m 0 \u001b[0m\u001b[0m\u001b[37m 0 \u001b[0m\u001b[0m\u001b[37m 0 \u001b[0m\u001b[0m\u001b[37m 0 \u001b[0m\n",
      "06 | \u001b[0m\u001b[37m 0 \u001b[0m\u001b[0m\u001b[37m 0 \u001b[0m\u001b[0m\u001b[37m 0 \u001b[0m\u001b[0m\u001b[37m 0 \u001b[0m\u001b[0m\u001b[37m 0 \u001b[0m\u001b[0m\u001b[37m 0 \u001b[0m\u001b[0m\u001b[37m 0 \u001b[0m\u001b[0m\u001b[37m 0 \u001b[0m\u001b[0m\u001b[37m 0 \u001b[0m\u001b[0m\u001b[37m 0 \u001b[0m\n",
      "07 | \u001b[0m\u001b[37m 0 \u001b[0m\u001b[0m\u001b[37m 0 \u001b[0m\u001b[0m\u001b[37m 0 \u001b[0m\u001b[0m\u001b[37m 0 \u001b[0m\u001b[0m\u001b[37m 0 \u001b[0m\u001b[0m\u001b[37m 0 \u001b[0m\u001b[0m\u001b[37m 0 \u001b[0m\u001b[0m\u001b[37m 0 \u001b[0m\u001b[0m\u001b[37m 0 \u001b[0m\u001b[0m\u001b[37m 0 \u001b[0m\n",
      "08 | \u001b[0m\u001b[37m 0 \u001b[0m\u001b[0m\u001b[37m 0 \u001b[0m\u001b[0m\u001b[37m 0 \u001b[0m\u001b[1m\u001b[38;2;255;255;255;101m 1 \u001b[0m\u001b[1m\u001b[38;2;255;255;255;101m 1 \u001b[0m\u001b[1m\u001b[38;2;255;255;255;101m 1 \u001b[0m\u001b[0m\u001b[37m 0 \u001b[0m\u001b[0m\u001b[37m 0 \u001b[0m\u001b[0m\u001b[37m 0 \u001b[0m\u001b[0m\u001b[37m 0 \u001b[0m\n",
      "09 | \u001b[0m\u001b[37m 0 \u001b[0m\u001b[0m\u001b[37m 0 \u001b[0m\u001b[0m\u001b[37m 0 \u001b[0m\u001b[0m\u001b[37m 0 \u001b[0m\u001b[0m\u001b[37m 0 \u001b[0m\u001b[1m\u001b[38;2;255;255;255;101m 1 \u001b[0m\u001b[0m\u001b[37m 0 \u001b[0m\u001b[0m\u001b[37m 0 \u001b[0m\u001b[0m\u001b[37m 0 \u001b[0m\u001b[0m\u001b[37m 0 \u001b[0m\n",
      "10 | \u001b[0m\u001b[37m 0 \u001b[0m\u001b[0m\u001b[37m 0 \u001b[0m\u001b[0m\u001b[37m 0 \u001b[0m\u001b[0m\u001b[37m 0 \u001b[0m\u001b[1m\u001b[38;2;255;255;255;102m 3 \u001b[0m\u001b[1m\u001b[38;2;255;255;255;102m 3 \u001b[0m\u001b[0m\u001b[37m 0 \u001b[0m\u001b[0m\u001b[37m 0 \u001b[0m\u001b[0m\u001b[37m 0 \u001b[0m\u001b[0m\u001b[37m 0 \u001b[0m\n",
      "11 | \u001b[0m\u001b[37m 0 \u001b[0m\u001b[0m\u001b[37m 0 \u001b[0m\u001b[0m\u001b[37m 0 \u001b[0m\u001b[0m\u001b[37m 0 \u001b[0m\u001b[1m\u001b[38;2;255;255;255;102m 3 \u001b[0m\u001b[1m\u001b[38;2;255;255;255;102m 3 \u001b[0m\u001b[0m\u001b[37m 0 \u001b[0m\u001b[0m\u001b[37m 0 \u001b[0m\u001b[0m\u001b[37m 0 \u001b[0m\u001b[0m\u001b[37m 0 \u001b[0m\n",
      "12 | \u001b[0m\u001b[37m 0 \u001b[0m\u001b[0m\u001b[37m 0 \u001b[0m\u001b[0m\u001b[37m 0 \u001b[0m\u001b[1m\u001b[38;2;255;255;255;101m 1 \u001b[0m\u001b[1m\u001b[38;2;255;255;255;101m 1 \u001b[0m\u001b[1m\u001b[38;2;255;255;255;101m 1 \u001b[0m\u001b[0m\u001b[37m 0 \u001b[0m\u001b[0m\u001b[37m 0 \u001b[0m\u001b[0m\u001b[37m 0 \u001b[0m\u001b[0m\u001b[37m 0 \u001b[0m\n",
      "13 | \u001b[0m\u001b[37m 0 \u001b[0m\u001b[0m\u001b[37m 0 \u001b[0m\u001b[0m\u001b[37m 0 \u001b[0m\u001b[0m\u001b[37m 0 \u001b[0m\u001b[0m\u001b[37m 0 \u001b[0m\u001b[1m\u001b[38;2;255;255;255;101m 1 \u001b[0m\u001b[0m\u001b[37m 0 \u001b[0m\u001b[0m\u001b[37m 0 \u001b[0m\u001b[0m\u001b[37m 0 \u001b[0m\u001b[0m\u001b[37m 0 \u001b[0m\n",
      "14 | \u001b[0m\u001b[37m 0 \u001b[0m\u001b[0m\u001b[37m 0 \u001b[0m\u001b[0m\u001b[37m 0 \u001b[0m\u001b[0m\u001b[37m 0 \u001b[0m\u001b[1m\u001b[38;2;255;255;255;102m 3 \u001b[0m\u001b[1m\u001b[38;2;255;255;255;102m 3 \u001b[0m\u001b[0m\u001b[37m 0 \u001b[0m\u001b[0m\u001b[37m 0 \u001b[0m\u001b[0m\u001b[37m 0 \u001b[0m\u001b[0m\u001b[37m 0 \u001b[0m\n",
      "15 | \u001b[0m\u001b[37m 0 \u001b[0m\u001b[0m\u001b[37m 0 \u001b[0m\u001b[0m\u001b[37m 0 \u001b[0m\u001b[0m\u001b[37m 0 \u001b[0m\u001b[1m\u001b[38;2;255;255;255;102m 3 \u001b[0m\u001b[1m\u001b[38;2;255;255;255;102m 3 \u001b[0m\u001b[0m\u001b[37m 0 \u001b[0m\u001b[0m\u001b[37m 0 \u001b[0m\u001b[0m\u001b[37m 0 \u001b[0m\u001b[0m\u001b[37m 0 \u001b[0m\n",
      "16 | \u001b[0m\u001b[37m 0 \u001b[0m\u001b[0m\u001b[37m 0 \u001b[0m\u001b[0m\u001b[37m 0 \u001b[0m\u001b[0m\u001b[37m 0 \u001b[0m\u001b[1m\u001b[38;2;255;255;255;46m 6 \u001b[0m\u001b[1m\u001b[38;2;255;255;255;46m 6 \u001b[0m\u001b[0m\u001b[37m 0 \u001b[0m\u001b[0m\u001b[37m 0 \u001b[0m\u001b[0m\u001b[37m 0 \u001b[0m\u001b[0m\u001b[37m 0 \u001b[0m\n",
      "17 | \u001b[0m\u001b[37m 0 \u001b[0m\u001b[0m\u001b[37m 0 \u001b[0m\u001b[0m\u001b[37m 0 \u001b[0m\u001b[1m\u001b[38;2;255;255;255;46m 6 \u001b[0m\u001b[1m\u001b[38;2;255;255;255;46m 6 \u001b[0m\u001b[0m\u001b[37m 0 \u001b[0m\u001b[0m\u001b[37m 0 \u001b[0m\u001b[0m\u001b[37m 0 \u001b[0m\u001b[0m\u001b[37m 0 \u001b[0m\u001b[0m\u001b[37m 0 \u001b[0m\n",
      "\n"
     ]
    },
    {
     "name": "stdout",
     "output_type": "stream",
     "text": [
      "\u001b[1m\u001b[38;2;255;0;0m-10pts because 2sec passed without scoring !\u001b[0m\n",
      "  Reward=\u001b[1m\u001b[38;2;255;0;0m-90\u001b[0m\n",
      "\u001b[1m\u001b[38;2;255;0;0m-10pts because 1sec passed without scoring !\u001b[0m\n",
      "  Reward=\u001b[1m\u001b[38;2;255;0;0m-100\u001b[0m\n",
      "\u001b[1m\u001b[38;2;255;0;0m-10pts because 1sec passed without scoring !\u001b[0m\n",
      "  Reward=\u001b[1m\u001b[38;2;255;0;0m-110\u001b[0m\n",
      "\u001b[1m\u001b[38;2;255;0;0m-10pts because 1sec passed without scoring !\u001b[0m\n",
      "  Reward=\u001b[1m\u001b[38;2;255;0;0m-120\u001b[0m\n",
      "\u001b[1m\u001b[38;2;255;0;0m-10pts because 1sec passed without scoring !\u001b[0m\n",
      "  Reward=\u001b[1m\u001b[38;2;255;0;0m-130\u001b[0m\n",
      "\u001b[1m\u001b[38;2;64;192;64mAdd new tetromino L\u001b[0m\n",
      "Level: 0 | Lines: 0\n",
      "Reward=\u001b[1m\u001b[38;2;255;0;0m-130\u001b[0m\n",
      "      0  1  2  3  4  5  6  7  8  9\n",
      "-----------------------------------\n",
      "00 | \u001b[0m\u001b[37m 0 \u001b[0m\u001b[0m\u001b[37m 0 \u001b[0m\u001b[0m\u001b[37m 0 \u001b[0m\u001b[0m\u001b[37m 0 \u001b[0m\u001b[0m\u001b[37m 0 \u001b[0m\u001b[0m\u001b[37m 0 \u001b[0m\u001b[0m\u001b[37m 0 \u001b[0m\u001b[0m\u001b[37m 0 \u001b[0m\u001b[0m\u001b[37m 0 \u001b[0m\u001b[0m\u001b[37m 0 \u001b[0m\n",
      "01 | \u001b[0m\u001b[37m 0 \u001b[0m\u001b[0m\u001b[37m 0 \u001b[0m\u001b[0m\u001b[37m 0 \u001b[0m\u001b[1m\u001b[38;2;255;255;255;45m 4 \u001b[0m\u001b[1m\u001b[38;2;255;255;255;45m 4 \u001b[0m\u001b[1m\u001b[38;2;255;255;255;45m 4 \u001b[0m\u001b[0m\u001b[37m 0 \u001b[0m\u001b[0m\u001b[37m 0 \u001b[0m\u001b[0m\u001b[37m 0 \u001b[0m\u001b[0m\u001b[37m 0 \u001b[0m\n",
      "02 | \u001b[0m\u001b[37m 0 \u001b[0m\u001b[0m\u001b[37m 0 \u001b[0m\u001b[0m\u001b[37m 0 \u001b[0m\u001b[1m\u001b[38;2;255;255;255;45m 4 \u001b[0m\u001b[0m\u001b[37m 0 \u001b[0m\u001b[0m\u001b[37m 0 \u001b[0m\u001b[0m\u001b[37m 0 \u001b[0m\u001b[0m\u001b[37m 0 \u001b[0m\u001b[0m\u001b[37m 0 \u001b[0m\u001b[0m\u001b[37m 0 \u001b[0m\n",
      "03 | \u001b[0m\u001b[37m 0 \u001b[0m\u001b[0m\u001b[37m 0 \u001b[0m\u001b[0m\u001b[37m 0 \u001b[0m\u001b[0m\u001b[37m 0 \u001b[0m\u001b[0m\u001b[37m 0 \u001b[0m\u001b[0m\u001b[37m 0 \u001b[0m\u001b[0m\u001b[37m 0 \u001b[0m\u001b[0m\u001b[37m 0 \u001b[0m\u001b[0m\u001b[37m 0 \u001b[0m\u001b[0m\u001b[37m 0 \u001b[0m\n",
      "04 | \u001b[0m\u001b[37m 0 \u001b[0m\u001b[0m\u001b[37m 0 \u001b[0m\u001b[0m\u001b[37m 0 \u001b[0m\u001b[0m\u001b[37m 0 \u001b[0m\u001b[0m\u001b[37m 0 \u001b[0m\u001b[0m\u001b[37m 0 \u001b[0m\u001b[0m\u001b[37m 0 \u001b[0m\u001b[0m\u001b[37m 0 \u001b[0m\u001b[0m\u001b[37m 0 \u001b[0m\u001b[0m\u001b[37m 0 \u001b[0m\n",
      "05 | \u001b[0m\u001b[37m 0 \u001b[0m\u001b[0m\u001b[37m 0 \u001b[0m\u001b[0m\u001b[37m 0 \u001b[0m\u001b[0m\u001b[37m 0 \u001b[0m\u001b[0m\u001b[37m 0 \u001b[0m\u001b[0m\u001b[37m 0 \u001b[0m\u001b[0m\u001b[37m 0 \u001b[0m\u001b[0m\u001b[37m 0 \u001b[0m\u001b[0m\u001b[37m 0 \u001b[0m\u001b[0m\u001b[37m 0 \u001b[0m\n",
      "06 | \u001b[0m\u001b[37m 0 \u001b[0m\u001b[0m\u001b[37m 0 \u001b[0m\u001b[0m\u001b[37m 0 \u001b[0m\u001b[1m\u001b[38;2;255;255;255;43m 5 \u001b[0m\u001b[1m\u001b[38;2;255;255;255;43m 5 \u001b[0m\u001b[1m\u001b[38;2;255;255;255;43m 5 \u001b[0m\u001b[0m\u001b[37m 0 \u001b[0m\u001b[0m\u001b[37m 0 \u001b[0m\u001b[0m\u001b[37m 0 \u001b[0m\u001b[0m\u001b[37m 0 \u001b[0m\n",
      "07 | \u001b[0m\u001b[37m 0 \u001b[0m\u001b[0m\u001b[37m 0 \u001b[0m\u001b[0m\u001b[37m 0 \u001b[0m\u001b[0m\u001b[37m 0 \u001b[0m\u001b[1m\u001b[38;2;255;255;255;43m 5 \u001b[0m\u001b[0m\u001b[37m 0 \u001b[0m\u001b[0m\u001b[37m 0 \u001b[0m\u001b[0m\u001b[37m 0 \u001b[0m\u001b[0m\u001b[37m 0 \u001b[0m\u001b[0m\u001b[37m 0 \u001b[0m\n",
      "08 | \u001b[0m\u001b[37m 0 \u001b[0m\u001b[0m\u001b[37m 0 \u001b[0m\u001b[0m\u001b[37m 0 \u001b[0m\u001b[1m\u001b[38;2;255;255;255;101m 1 \u001b[0m\u001b[1m\u001b[38;2;255;255;255;101m 1 \u001b[0m\u001b[1m\u001b[38;2;255;255;255;101m 1 \u001b[0m\u001b[0m\u001b[37m 0 \u001b[0m\u001b[0m\u001b[37m 0 \u001b[0m\u001b[0m\u001b[37m 0 \u001b[0m\u001b[0m\u001b[37m 0 \u001b[0m\n",
      "09 | \u001b[0m\u001b[37m 0 \u001b[0m\u001b[0m\u001b[37m 0 \u001b[0m\u001b[0m\u001b[37m 0 \u001b[0m\u001b[0m\u001b[37m 0 \u001b[0m\u001b[0m\u001b[37m 0 \u001b[0m\u001b[1m\u001b[38;2;255;255;255;101m 1 \u001b[0m\u001b[0m\u001b[37m 0 \u001b[0m\u001b[0m\u001b[37m 0 \u001b[0m\u001b[0m\u001b[37m 0 \u001b[0m\u001b[0m\u001b[37m 0 \u001b[0m\n",
      "10 | \u001b[0m\u001b[37m 0 \u001b[0m\u001b[0m\u001b[37m 0 \u001b[0m\u001b[0m\u001b[37m 0 \u001b[0m\u001b[0m\u001b[37m 0 \u001b[0m\u001b[1m\u001b[38;2;255;255;255;102m 3 \u001b[0m\u001b[1m\u001b[38;2;255;255;255;102m 3 \u001b[0m\u001b[0m\u001b[37m 0 \u001b[0m\u001b[0m\u001b[37m 0 \u001b[0m\u001b[0m\u001b[37m 0 \u001b[0m\u001b[0m\u001b[37m 0 \u001b[0m\n",
      "11 | \u001b[0m\u001b[37m 0 \u001b[0m\u001b[0m\u001b[37m 0 \u001b[0m\u001b[0m\u001b[37m 0 \u001b[0m\u001b[0m\u001b[37m 0 \u001b[0m\u001b[1m\u001b[38;2;255;255;255;102m 3 \u001b[0m\u001b[1m\u001b[38;2;255;255;255;102m 3 \u001b[0m\u001b[0m\u001b[37m 0 \u001b[0m\u001b[0m\u001b[37m 0 \u001b[0m\u001b[0m\u001b[37m 0 \u001b[0m\u001b[0m\u001b[37m 0 \u001b[0m\n",
      "12 | \u001b[0m\u001b[37m 0 \u001b[0m\u001b[0m\u001b[37m 0 \u001b[0m\u001b[0m\u001b[37m 0 \u001b[0m\u001b[1m\u001b[38;2;255;255;255;101m 1 \u001b[0m\u001b[1m\u001b[38;2;255;255;255;101m 1 \u001b[0m\u001b[1m\u001b[38;2;255;255;255;101m 1 \u001b[0m\u001b[0m\u001b[37m 0 \u001b[0m\u001b[0m\u001b[37m 0 \u001b[0m\u001b[0m\u001b[37m 0 \u001b[0m\u001b[0m\u001b[37m 0 \u001b[0m\n",
      "13 | \u001b[0m\u001b[37m 0 \u001b[0m\u001b[0m\u001b[37m 0 \u001b[0m\u001b[0m\u001b[37m 0 \u001b[0m\u001b[0m\u001b[37m 0 \u001b[0m\u001b[0m\u001b[37m 0 \u001b[0m\u001b[1m\u001b[38;2;255;255;255;101m 1 \u001b[0m\u001b[0m\u001b[37m 0 \u001b[0m\u001b[0m\u001b[37m 0 \u001b[0m\u001b[0m\u001b[37m 0 \u001b[0m\u001b[0m\u001b[37m 0 \u001b[0m\n",
      "14 | \u001b[0m\u001b[37m 0 \u001b[0m\u001b[0m\u001b[37m 0 \u001b[0m\u001b[0m\u001b[37m 0 \u001b[0m\u001b[0m\u001b[37m 0 \u001b[0m\u001b[1m\u001b[38;2;255;255;255;102m 3 \u001b[0m\u001b[1m\u001b[38;2;255;255;255;102m 3 \u001b[0m\u001b[0m\u001b[37m 0 \u001b[0m\u001b[0m\u001b[37m 0 \u001b[0m\u001b[0m\u001b[37m 0 \u001b[0m\u001b[0m\u001b[37m 0 \u001b[0m\n",
      "15 | \u001b[0m\u001b[37m 0 \u001b[0m\u001b[0m\u001b[37m 0 \u001b[0m\u001b[0m\u001b[37m 0 \u001b[0m\u001b[0m\u001b[37m 0 \u001b[0m\u001b[1m\u001b[38;2;255;255;255;102m 3 \u001b[0m\u001b[1m\u001b[38;2;255;255;255;102m 3 \u001b[0m\u001b[0m\u001b[37m 0 \u001b[0m\u001b[0m\u001b[37m 0 \u001b[0m\u001b[0m\u001b[37m 0 \u001b[0m\u001b[0m\u001b[37m 0 \u001b[0m\n",
      "16 | \u001b[0m\u001b[37m 0 \u001b[0m\u001b[0m\u001b[37m 0 \u001b[0m\u001b[0m\u001b[37m 0 \u001b[0m\u001b[0m\u001b[37m 0 \u001b[0m\u001b[1m\u001b[38;2;255;255;255;46m 6 \u001b[0m\u001b[1m\u001b[38;2;255;255;255;46m 6 \u001b[0m\u001b[0m\u001b[37m 0 \u001b[0m\u001b[0m\u001b[37m 0 \u001b[0m\u001b[0m\u001b[37m 0 \u001b[0m\u001b[0m\u001b[37m 0 \u001b[0m\n",
      "17 | \u001b[0m\u001b[37m 0 \u001b[0m\u001b[0m\u001b[37m 0 \u001b[0m\u001b[0m\u001b[37m 0 \u001b[0m\u001b[1m\u001b[38;2;255;255;255;46m 6 \u001b[0m\u001b[1m\u001b[38;2;255;255;255;46m 6 \u001b[0m\u001b[0m\u001b[37m 0 \u001b[0m\u001b[0m\u001b[37m 0 \u001b[0m\u001b[0m\u001b[37m 0 \u001b[0m\u001b[0m\u001b[37m 0 \u001b[0m\u001b[0m\u001b[37m 0 \u001b[0m\n",
      "\n",
      "\u001b[1m\u001b[38;2;255;0;0m-10pts because 1sec passed without scoring !\u001b[0m\n",
      "  Reward=\u001b[1m\u001b[38;2;255;0;0m-140\u001b[0m\n",
      "\u001b[1m\u001b[38;2;255;0;0m-10pts because 1sec passed without scoring !\u001b[0m\n",
      "  Reward=\u001b[1m\u001b[38;2;255;0;0m-150\u001b[0m\n",
      "\u001b[1m\u001b[38;2;255;0;0m-10pts because 1sec passed without scoring !\u001b[0m\n",
      "  Reward=\u001b[1m\u001b[38;2;255;0;0m-160\u001b[0m\n",
      "\u001b[1m\u001b[38;2;255;0;0m-10pts because 1sec passed without scoring !\u001b[0m\n",
      "  Reward=\u001b[1m\u001b[38;2;255;0;0m-170\u001b[0m\n",
      "\u001b[1m\u001b[38;2;64;192;64mAdd new tetromino J\u001b[0m\n",
      "Level: 0 | Lines: 0\n",
      "Reward=\u001b[1m\u001b[38;2;255;0;0m-170\u001b[0m\n",
      "      0  1  2  3  4  5  6  7  8  9\n",
      "-----------------------------------\n",
      "00 | \u001b[0m\u001b[37m 0 \u001b[0m\u001b[0m\u001b[37m 0 \u001b[0m\u001b[0m\u001b[37m 0 \u001b[0m\u001b[0m\u001b[37m 0 \u001b[0m\u001b[0m\u001b[37m 0 \u001b[0m\u001b[0m\u001b[37m 0 \u001b[0m\u001b[0m\u001b[37m 0 \u001b[0m\u001b[0m\u001b[37m 0 \u001b[0m\u001b[0m\u001b[37m 0 \u001b[0m\u001b[0m\u001b[37m 0 \u001b[0m\n",
      "01 | \u001b[0m\u001b[37m 0 \u001b[0m\u001b[0m\u001b[37m 0 \u001b[0m\u001b[0m\u001b[37m 0 \u001b[0m\u001b[1m\u001b[38;2;255;255;255;101m 1 \u001b[0m\u001b[1m\u001b[38;2;255;255;255;101m 1 \u001b[0m\u001b[1m\u001b[38;2;255;255;255;101m 1 \u001b[0m\u001b[0m\u001b[37m 0 \u001b[0m\u001b[0m\u001b[37m 0 \u001b[0m\u001b[0m\u001b[37m 0 \u001b[0m\u001b[0m\u001b[37m 0 \u001b[0m\n",
      "02 | \u001b[0m\u001b[37m 0 \u001b[0m\u001b[0m\u001b[37m 0 \u001b[0m\u001b[0m\u001b[37m 0 \u001b[0m\u001b[0m\u001b[37m 0 \u001b[0m\u001b[0m\u001b[37m 0 \u001b[0m\u001b[1m\u001b[38;2;255;255;255;101m 1 \u001b[0m\u001b[0m\u001b[37m 0 \u001b[0m\u001b[0m\u001b[37m 0 \u001b[0m\u001b[0m\u001b[37m 0 \u001b[0m\u001b[0m\u001b[37m 0 \u001b[0m\n",
      "03 | \u001b[0m\u001b[37m 0 \u001b[0m\u001b[0m\u001b[37m 0 \u001b[0m\u001b[0m\u001b[37m 0 \u001b[0m\u001b[0m\u001b[37m 0 \u001b[0m\u001b[0m\u001b[37m 0 \u001b[0m\u001b[0m\u001b[37m 0 \u001b[0m\u001b[0m\u001b[37m 0 \u001b[0m\u001b[0m\u001b[37m 0 \u001b[0m\u001b[0m\u001b[37m 0 \u001b[0m\u001b[0m\u001b[37m 0 \u001b[0m\n",
      "04 | \u001b[0m\u001b[37m 0 \u001b[0m\u001b[0m\u001b[37m 0 \u001b[0m\u001b[0m\u001b[37m 0 \u001b[0m\u001b[1m\u001b[38;2;255;255;255;45m 4 \u001b[0m\u001b[1m\u001b[38;2;255;255;255;45m 4 \u001b[0m\u001b[1m\u001b[38;2;255;255;255;45m 4 \u001b[0m\u001b[0m\u001b[37m 0 \u001b[0m\u001b[0m\u001b[37m 0 \u001b[0m\u001b[0m\u001b[37m 0 \u001b[0m\u001b[0m\u001b[37m 0 \u001b[0m\n",
      "05 | \u001b[0m\u001b[37m 0 \u001b[0m\u001b[0m\u001b[37m 0 \u001b[0m\u001b[0m\u001b[37m 0 \u001b[0m\u001b[1m\u001b[38;2;255;255;255;45m 4 \u001b[0m\u001b[0m\u001b[37m 0 \u001b[0m\u001b[0m\u001b[37m 0 \u001b[0m\u001b[0m\u001b[37m 0 \u001b[0m\u001b[0m\u001b[37m 0 \u001b[0m\u001b[0m\u001b[37m 0 \u001b[0m\u001b[0m\u001b[37m 0 \u001b[0m\n",
      "06 | \u001b[0m\u001b[37m 0 \u001b[0m\u001b[0m\u001b[37m 0 \u001b[0m\u001b[0m\u001b[37m 0 \u001b[0m\u001b[1m\u001b[38;2;255;255;255;43m 5 \u001b[0m\u001b[1m\u001b[38;2;255;255;255;43m 5 \u001b[0m\u001b[1m\u001b[38;2;255;255;255;43m 5 \u001b[0m\u001b[0m\u001b[37m 0 \u001b[0m\u001b[0m\u001b[37m 0 \u001b[0m\u001b[0m\u001b[37m 0 \u001b[0m\u001b[0m\u001b[37m 0 \u001b[0m\n",
      "07 | \u001b[0m\u001b[37m 0 \u001b[0m\u001b[0m\u001b[37m 0 \u001b[0m\u001b[0m\u001b[37m 0 \u001b[0m\u001b[0m\u001b[37m 0 \u001b[0m\u001b[1m\u001b[38;2;255;255;255;43m 5 \u001b[0m\u001b[0m\u001b[37m 0 \u001b[0m\u001b[0m\u001b[37m 0 \u001b[0m\u001b[0m\u001b[37m 0 \u001b[0m\u001b[0m\u001b[37m 0 \u001b[0m\u001b[0m\u001b[37m 0 \u001b[0m\n",
      "08 | \u001b[0m\u001b[37m 0 \u001b[0m\u001b[0m\u001b[37m 0 \u001b[0m\u001b[0m\u001b[37m 0 \u001b[0m\u001b[1m\u001b[38;2;255;255;255;101m 1 \u001b[0m\u001b[1m\u001b[38;2;255;255;255;101m 1 \u001b[0m\u001b[1m\u001b[38;2;255;255;255;101m 1 \u001b[0m\u001b[0m\u001b[37m 0 \u001b[0m\u001b[0m\u001b[37m 0 \u001b[0m\u001b[0m\u001b[37m 0 \u001b[0m\u001b[0m\u001b[37m 0 \u001b[0m\n",
      "09 | \u001b[0m\u001b[37m 0 \u001b[0m\u001b[0m\u001b[37m 0 \u001b[0m\u001b[0m\u001b[37m 0 \u001b[0m\u001b[0m\u001b[37m 0 \u001b[0m\u001b[0m\u001b[37m 0 \u001b[0m\u001b[1m\u001b[38;2;255;255;255;101m 1 \u001b[0m\u001b[0m\u001b[37m 0 \u001b[0m\u001b[0m\u001b[37m 0 \u001b[0m\u001b[0m\u001b[37m 0 \u001b[0m\u001b[0m\u001b[37m 0 \u001b[0m\n",
      "10 | \u001b[0m\u001b[37m 0 \u001b[0m\u001b[0m\u001b[37m 0 \u001b[0m\u001b[0m\u001b[37m 0 \u001b[0m\u001b[0m\u001b[37m 0 \u001b[0m\u001b[1m\u001b[38;2;255;255;255;102m 3 \u001b[0m\u001b[1m\u001b[38;2;255;255;255;102m 3 \u001b[0m\u001b[0m\u001b[37m 0 \u001b[0m\u001b[0m\u001b[37m 0 \u001b[0m\u001b[0m\u001b[37m 0 \u001b[0m\u001b[0m\u001b[37m 0 \u001b[0m\n",
      "11 | \u001b[0m\u001b[37m 0 \u001b[0m\u001b[0m\u001b[37m 0 \u001b[0m\u001b[0m\u001b[37m 0 \u001b[0m\u001b[0m\u001b[37m 0 \u001b[0m\u001b[1m\u001b[38;2;255;255;255;102m 3 \u001b[0m\u001b[1m\u001b[38;2;255;255;255;102m 3 \u001b[0m\u001b[0m\u001b[37m 0 \u001b[0m\u001b[0m\u001b[37m 0 \u001b[0m\u001b[0m\u001b[37m 0 \u001b[0m\u001b[0m\u001b[37m 0 \u001b[0m\n",
      "12 | \u001b[0m\u001b[37m 0 \u001b[0m\u001b[0m\u001b[37m 0 \u001b[0m\u001b[0m\u001b[37m 0 \u001b[0m\u001b[1m\u001b[38;2;255;255;255;101m 1 \u001b[0m\u001b[1m\u001b[38;2;255;255;255;101m 1 \u001b[0m\u001b[1m\u001b[38;2;255;255;255;101m 1 \u001b[0m\u001b[0m\u001b[37m 0 \u001b[0m\u001b[0m\u001b[37m 0 \u001b[0m\u001b[0m\u001b[37m 0 \u001b[0m\u001b[0m\u001b[37m 0 \u001b[0m\n",
      "13 | \u001b[0m\u001b[37m 0 \u001b[0m\u001b[0m\u001b[37m 0 \u001b[0m\u001b[0m\u001b[37m 0 \u001b[0m\u001b[0m\u001b[37m 0 \u001b[0m\u001b[0m\u001b[37m 0 \u001b[0m\u001b[1m\u001b[38;2;255;255;255;101m 1 \u001b[0m\u001b[0m\u001b[37m 0 \u001b[0m\u001b[0m\u001b[37m 0 \u001b[0m\u001b[0m\u001b[37m 0 \u001b[0m\u001b[0m\u001b[37m 0 \u001b[0m\n",
      "14 | \u001b[0m\u001b[37m 0 \u001b[0m\u001b[0m\u001b[37m 0 \u001b[0m\u001b[0m\u001b[37m 0 \u001b[0m\u001b[0m\u001b[37m 0 \u001b[0m\u001b[1m\u001b[38;2;255;255;255;102m 3 \u001b[0m\u001b[1m\u001b[38;2;255;255;255;102m 3 \u001b[0m\u001b[0m\u001b[37m 0 \u001b[0m\u001b[0m\u001b[37m 0 \u001b[0m\u001b[0m\u001b[37m 0 \u001b[0m\u001b[0m\u001b[37m 0 \u001b[0m\n",
      "15 | \u001b[0m\u001b[37m 0 \u001b[0m\u001b[0m\u001b[37m 0 \u001b[0m\u001b[0m\u001b[37m 0 \u001b[0m\u001b[0m\u001b[37m 0 \u001b[0m\u001b[1m\u001b[38;2;255;255;255;102m 3 \u001b[0m\u001b[1m\u001b[38;2;255;255;255;102m 3 \u001b[0m\u001b[0m\u001b[37m 0 \u001b[0m\u001b[0m\u001b[37m 0 \u001b[0m\u001b[0m\u001b[37m 0 \u001b[0m\u001b[0m\u001b[37m 0 \u001b[0m\n",
      "16 | \u001b[0m\u001b[37m 0 \u001b[0m\u001b[0m\u001b[37m 0 \u001b[0m\u001b[0m\u001b[37m 0 \u001b[0m\u001b[0m\u001b[37m 0 \u001b[0m\u001b[1m\u001b[38;2;255;255;255;46m 6 \u001b[0m\u001b[1m\u001b[38;2;255;255;255;46m 6 \u001b[0m\u001b[0m\u001b[37m 0 \u001b[0m\u001b[0m\u001b[37m 0 \u001b[0m\u001b[0m\u001b[37m 0 \u001b[0m\u001b[0m\u001b[37m 0 \u001b[0m\n",
      "17 | \u001b[0m\u001b[37m 0 \u001b[0m\u001b[0m\u001b[37m 0 \u001b[0m\u001b[0m\u001b[37m 0 \u001b[0m\u001b[1m\u001b[38;2;255;255;255;46m 6 \u001b[0m\u001b[1m\u001b[38;2;255;255;255;46m 6 \u001b[0m\u001b[0m\u001b[37m 0 \u001b[0m\u001b[0m\u001b[37m 0 \u001b[0m\u001b[0m\u001b[37m 0 \u001b[0m\u001b[0m\u001b[37m 0 \u001b[0m\u001b[0m\u001b[37m 0 \u001b[0m\n",
      "\n"
     ]
    },
    {
     "name": "stdout",
     "output_type": "stream",
     "text": [
      "\u001b[1m\u001b[38;2;255;0;0m-10pts because 1sec passed without scoring !\u001b[0m\n",
      "  Reward=\u001b[1m\u001b[38;2;255;0;0m-180\u001b[0m\n",
      "\u001b[1m\u001b[38;2;64;192;64mAdd new tetromino I\u001b[0m\n",
      "Level: 0 | Lines: 0\n",
      "Reward=\u001b[1m\u001b[38;2;255;0;0m-180\u001b[0m\n",
      "      0  1  2  3  4  5  6  7  8  9\n",
      "-----------------------------------\n",
      "00 | \u001b[0m\u001b[37m 0 \u001b[0m\u001b[0m\u001b[37m 0 \u001b[0m\u001b[0m\u001b[37m 0 \u001b[0m\u001b[0m\u001b[37m 0 \u001b[0m\u001b[0m\u001b[37m 0 \u001b[0m\u001b[0m\u001b[37m 0 \u001b[0m\u001b[0m\u001b[37m 0 \u001b[0m\u001b[0m\u001b[37m 0 \u001b[0m\u001b[0m\u001b[37m 0 \u001b[0m\u001b[0m\u001b[37m 0 \u001b[0m\n",
      "01 | \u001b[0m\u001b[37m 0 \u001b[0m\u001b[0m\u001b[37m 0 \u001b[0m\u001b[0m\u001b[37m 0 \u001b[0m\u001b[1m\u001b[38;2;255;255;255;100m 7 \u001b[0m\u001b[1m\u001b[38;2;255;255;255;100m 7 \u001b[0m\u001b[1m\u001b[38;2;255;255;255;100m 7 \u001b[0m\u001b[1m\u001b[38;2;255;255;255;100m 7 \u001b[0m\u001b[0m\u001b[37m 0 \u001b[0m\u001b[0m\u001b[37m 0 \u001b[0m\u001b[0m\u001b[37m 0 \u001b[0m\n",
      "02 | \u001b[0m\u001b[37m 0 \u001b[0m\u001b[0m\u001b[37m 0 \u001b[0m\u001b[0m\u001b[37m 0 \u001b[0m\u001b[1m\u001b[38;2;255;255;255;101m 1 \u001b[0m\u001b[1m\u001b[38;2;255;255;255;101m 1 \u001b[0m\u001b[1m\u001b[38;2;255;255;255;101m 1 \u001b[0m\u001b[0m\u001b[37m 0 \u001b[0m\u001b[0m\u001b[37m 0 \u001b[0m\u001b[0m\u001b[37m 0 \u001b[0m\u001b[0m\u001b[37m 0 \u001b[0m\n",
      "03 | \u001b[0m\u001b[37m 0 \u001b[0m\u001b[0m\u001b[37m 0 \u001b[0m\u001b[0m\u001b[37m 0 \u001b[0m\u001b[0m\u001b[37m 0 \u001b[0m\u001b[0m\u001b[37m 0 \u001b[0m\u001b[1m\u001b[38;2;255;255;255;101m 1 \u001b[0m\u001b[0m\u001b[37m 0 \u001b[0m\u001b[0m\u001b[37m 0 \u001b[0m\u001b[0m\u001b[37m 0 \u001b[0m\u001b[0m\u001b[37m 0 \u001b[0m\n",
      "04 | \u001b[0m\u001b[37m 0 \u001b[0m\u001b[0m\u001b[37m 0 \u001b[0m\u001b[0m\u001b[37m 0 \u001b[0m\u001b[1m\u001b[38;2;255;255;255;45m 4 \u001b[0m\u001b[1m\u001b[38;2;255;255;255;45m 4 \u001b[0m\u001b[1m\u001b[38;2;255;255;255;45m 4 \u001b[0m\u001b[0m\u001b[37m 0 \u001b[0m\u001b[0m\u001b[37m 0 \u001b[0m\u001b[0m\u001b[37m 0 \u001b[0m\u001b[0m\u001b[37m 0 \u001b[0m\n",
      "05 | \u001b[0m\u001b[37m 0 \u001b[0m\u001b[0m\u001b[37m 0 \u001b[0m\u001b[0m\u001b[37m 0 \u001b[0m\u001b[1m\u001b[38;2;255;255;255;45m 4 \u001b[0m\u001b[0m\u001b[37m 0 \u001b[0m\u001b[0m\u001b[37m 0 \u001b[0m\u001b[0m\u001b[37m 0 \u001b[0m\u001b[0m\u001b[37m 0 \u001b[0m\u001b[0m\u001b[37m 0 \u001b[0m\u001b[0m\u001b[37m 0 \u001b[0m\n",
      "06 | \u001b[0m\u001b[37m 0 \u001b[0m\u001b[0m\u001b[37m 0 \u001b[0m\u001b[0m\u001b[37m 0 \u001b[0m\u001b[1m\u001b[38;2;255;255;255;43m 5 \u001b[0m\u001b[1m\u001b[38;2;255;255;255;43m 5 \u001b[0m\u001b[1m\u001b[38;2;255;255;255;43m 5 \u001b[0m\u001b[0m\u001b[37m 0 \u001b[0m\u001b[0m\u001b[37m 0 \u001b[0m\u001b[0m\u001b[37m 0 \u001b[0m\u001b[0m\u001b[37m 0 \u001b[0m\n",
      "07 | \u001b[0m\u001b[37m 0 \u001b[0m\u001b[0m\u001b[37m 0 \u001b[0m\u001b[0m\u001b[37m 0 \u001b[0m\u001b[0m\u001b[37m 0 \u001b[0m\u001b[1m\u001b[38;2;255;255;255;43m 5 \u001b[0m\u001b[0m\u001b[37m 0 \u001b[0m\u001b[0m\u001b[37m 0 \u001b[0m\u001b[0m\u001b[37m 0 \u001b[0m\u001b[0m\u001b[37m 0 \u001b[0m\u001b[0m\u001b[37m 0 \u001b[0m\n",
      "08 | \u001b[0m\u001b[37m 0 \u001b[0m\u001b[0m\u001b[37m 0 \u001b[0m\u001b[0m\u001b[37m 0 \u001b[0m\u001b[1m\u001b[38;2;255;255;255;101m 1 \u001b[0m\u001b[1m\u001b[38;2;255;255;255;101m 1 \u001b[0m\u001b[1m\u001b[38;2;255;255;255;101m 1 \u001b[0m\u001b[0m\u001b[37m 0 \u001b[0m\u001b[0m\u001b[37m 0 \u001b[0m\u001b[0m\u001b[37m 0 \u001b[0m\u001b[0m\u001b[37m 0 \u001b[0m\n",
      "09 | \u001b[0m\u001b[37m 0 \u001b[0m\u001b[0m\u001b[37m 0 \u001b[0m\u001b[0m\u001b[37m 0 \u001b[0m\u001b[0m\u001b[37m 0 \u001b[0m\u001b[0m\u001b[37m 0 \u001b[0m\u001b[1m\u001b[38;2;255;255;255;101m 1 \u001b[0m\u001b[0m\u001b[37m 0 \u001b[0m\u001b[0m\u001b[37m 0 \u001b[0m\u001b[0m\u001b[37m 0 \u001b[0m\u001b[0m\u001b[37m 0 \u001b[0m\n",
      "10 | \u001b[0m\u001b[37m 0 \u001b[0m\u001b[0m\u001b[37m 0 \u001b[0m\u001b[0m\u001b[37m 0 \u001b[0m\u001b[0m\u001b[37m 0 \u001b[0m\u001b[1m\u001b[38;2;255;255;255;102m 3 \u001b[0m\u001b[1m\u001b[38;2;255;255;255;102m 3 \u001b[0m\u001b[0m\u001b[37m 0 \u001b[0m\u001b[0m\u001b[37m 0 \u001b[0m\u001b[0m\u001b[37m 0 \u001b[0m\u001b[0m\u001b[37m 0 \u001b[0m\n",
      "11 | \u001b[0m\u001b[37m 0 \u001b[0m\u001b[0m\u001b[37m 0 \u001b[0m\u001b[0m\u001b[37m 0 \u001b[0m\u001b[0m\u001b[37m 0 \u001b[0m\u001b[1m\u001b[38;2;255;255;255;102m 3 \u001b[0m\u001b[1m\u001b[38;2;255;255;255;102m 3 \u001b[0m\u001b[0m\u001b[37m 0 \u001b[0m\u001b[0m\u001b[37m 0 \u001b[0m\u001b[0m\u001b[37m 0 \u001b[0m\u001b[0m\u001b[37m 0 \u001b[0m\n",
      "12 | \u001b[0m\u001b[37m 0 \u001b[0m\u001b[0m\u001b[37m 0 \u001b[0m\u001b[0m\u001b[37m 0 \u001b[0m\u001b[1m\u001b[38;2;255;255;255;101m 1 \u001b[0m\u001b[1m\u001b[38;2;255;255;255;101m 1 \u001b[0m\u001b[1m\u001b[38;2;255;255;255;101m 1 \u001b[0m\u001b[0m\u001b[37m 0 \u001b[0m\u001b[0m\u001b[37m 0 \u001b[0m\u001b[0m\u001b[37m 0 \u001b[0m\u001b[0m\u001b[37m 0 \u001b[0m\n",
      "13 | \u001b[0m\u001b[37m 0 \u001b[0m\u001b[0m\u001b[37m 0 \u001b[0m\u001b[0m\u001b[37m 0 \u001b[0m\u001b[0m\u001b[37m 0 \u001b[0m\u001b[0m\u001b[37m 0 \u001b[0m\u001b[1m\u001b[38;2;255;255;255;101m 1 \u001b[0m\u001b[0m\u001b[37m 0 \u001b[0m\u001b[0m\u001b[37m 0 \u001b[0m\u001b[0m\u001b[37m 0 \u001b[0m\u001b[0m\u001b[37m 0 \u001b[0m\n",
      "14 | \u001b[0m\u001b[37m 0 \u001b[0m\u001b[0m\u001b[37m 0 \u001b[0m\u001b[0m\u001b[37m 0 \u001b[0m\u001b[0m\u001b[37m 0 \u001b[0m\u001b[1m\u001b[38;2;255;255;255;102m 3 \u001b[0m\u001b[1m\u001b[38;2;255;255;255;102m 3 \u001b[0m\u001b[0m\u001b[37m 0 \u001b[0m\u001b[0m\u001b[37m 0 \u001b[0m\u001b[0m\u001b[37m 0 \u001b[0m\u001b[0m\u001b[37m 0 \u001b[0m\n",
      "15 | \u001b[0m\u001b[37m 0 \u001b[0m\u001b[0m\u001b[37m 0 \u001b[0m\u001b[0m\u001b[37m 0 \u001b[0m\u001b[0m\u001b[37m 0 \u001b[0m\u001b[1m\u001b[38;2;255;255;255;102m 3 \u001b[0m\u001b[1m\u001b[38;2;255;255;255;102m 3 \u001b[0m\u001b[0m\u001b[37m 0 \u001b[0m\u001b[0m\u001b[37m 0 \u001b[0m\u001b[0m\u001b[37m 0 \u001b[0m\u001b[0m\u001b[37m 0 \u001b[0m\n",
      "16 | \u001b[0m\u001b[37m 0 \u001b[0m\u001b[0m\u001b[37m 0 \u001b[0m\u001b[0m\u001b[37m 0 \u001b[0m\u001b[0m\u001b[37m 0 \u001b[0m\u001b[1m\u001b[38;2;255;255;255;46m 6 \u001b[0m\u001b[1m\u001b[38;2;255;255;255;46m 6 \u001b[0m\u001b[0m\u001b[37m 0 \u001b[0m\u001b[0m\u001b[37m 0 \u001b[0m\u001b[0m\u001b[37m 0 \u001b[0m\u001b[0m\u001b[37m 0 \u001b[0m\n",
      "17 | \u001b[0m\u001b[37m 0 \u001b[0m\u001b[0m\u001b[37m 0 \u001b[0m\u001b[0m\u001b[37m 0 \u001b[0m\u001b[1m\u001b[38;2;255;255;255;46m 6 \u001b[0m\u001b[1m\u001b[38;2;255;255;255;46m 6 \u001b[0m\u001b[0m\u001b[37m 0 \u001b[0m\u001b[0m\u001b[37m 0 \u001b[0m\u001b[0m\u001b[37m 0 \u001b[0m\u001b[0m\u001b[37m 0 \u001b[0m\u001b[0m\u001b[37m 0 \u001b[0m\n",
      "\n",
      "\u001b[1m\u001b[38;2;255;0;0m-10pts because 1sec passed without scoring !\u001b[0m\n",
      "  Reward=\u001b[1m\u001b[38;2;255;0;0m-190\u001b[0m\n",
      "\u001b[1m\u001b[38;2;64;192;64mAdd new tetromino Z\u001b[0m\n",
      "Level: 0 | Lines: 0\n",
      "Reward=\u001b[1m\u001b[38;2;255;0;0m-190\u001b[0m\n",
      "      0  1  2  3  4  5  6  7  8  9\n",
      "-----------------------------------\n",
      "00 | \u001b[0m\u001b[37m 0 \u001b[0m\u001b[0m\u001b[37m 0 \u001b[0m\u001b[0m\u001b[37m 0 \u001b[0m\u001b[0m\u001b[37m 0 \u001b[0m\u001b[0m\u001b[37m 0 \u001b[0m\u001b[0m\u001b[37m 0 \u001b[0m\u001b[0m\u001b[37m 0 \u001b[0m\u001b[0m\u001b[37m 0 \u001b[0m\u001b[0m\u001b[37m 0 \u001b[0m\u001b[0m\u001b[37m 0 \u001b[0m\n",
      "01 | \u001b[0m\u001b[37m 0 \u001b[0m\u001b[0m\u001b[37m 0 \u001b[0m\u001b[0m\u001b[37m 0 \u001b[0m\u001b[1m\u001b[38;2;255;255;255;104m 2 \u001b[0m\u001b[1m\u001b[38;2;255;255;255;104m 2 \u001b[0m\u001b[1m\u001b[38;2;255;255;255;100m 7 \u001b[0m\u001b[1m\u001b[38;2;255;255;255;100m 7 \u001b[0m\u001b[0m\u001b[37m 0 \u001b[0m\u001b[0m\u001b[37m 0 \u001b[0m\u001b[0m\u001b[37m 0 \u001b[0m\n",
      "02 | \u001b[0m\u001b[37m 0 \u001b[0m\u001b[0m\u001b[37m 0 \u001b[0m\u001b[0m\u001b[37m 0 \u001b[0m\u001b[1m\u001b[38;2;255;255;255;101m 1 \u001b[0m\u001b[1m\u001b[38;2;255;255;255;104m 2 \u001b[0m\u001b[1m\u001b[38;2;255;255;255;104m 2 \u001b[0m\u001b[0m\u001b[37m 0 \u001b[0m\u001b[0m\u001b[37m 0 \u001b[0m\u001b[0m\u001b[37m 0 \u001b[0m\u001b[0m\u001b[37m 0 \u001b[0m\n",
      "03 | \u001b[0m\u001b[37m 0 \u001b[0m\u001b[0m\u001b[37m 0 \u001b[0m\u001b[0m\u001b[37m 0 \u001b[0m\u001b[0m\u001b[37m 0 \u001b[0m\u001b[0m\u001b[37m 0 \u001b[0m\u001b[1m\u001b[38;2;255;255;255;101m 1 \u001b[0m\u001b[0m\u001b[37m 0 \u001b[0m\u001b[0m\u001b[37m 0 \u001b[0m\u001b[0m\u001b[37m 0 \u001b[0m\u001b[0m\u001b[37m 0 \u001b[0m\n",
      "04 | \u001b[0m\u001b[37m 0 \u001b[0m\u001b[0m\u001b[37m 0 \u001b[0m\u001b[0m\u001b[37m 0 \u001b[0m\u001b[1m\u001b[38;2;255;255;255;45m 4 \u001b[0m\u001b[1m\u001b[38;2;255;255;255;45m 4 \u001b[0m\u001b[1m\u001b[38;2;255;255;255;45m 4 \u001b[0m\u001b[0m\u001b[37m 0 \u001b[0m\u001b[0m\u001b[37m 0 \u001b[0m\u001b[0m\u001b[37m 0 \u001b[0m\u001b[0m\u001b[37m 0 \u001b[0m\n",
      "05 | \u001b[0m\u001b[37m 0 \u001b[0m\u001b[0m\u001b[37m 0 \u001b[0m\u001b[0m\u001b[37m 0 \u001b[0m\u001b[1m\u001b[38;2;255;255;255;45m 4 \u001b[0m\u001b[0m\u001b[37m 0 \u001b[0m\u001b[0m\u001b[37m 0 \u001b[0m\u001b[0m\u001b[37m 0 \u001b[0m\u001b[0m\u001b[37m 0 \u001b[0m\u001b[0m\u001b[37m 0 \u001b[0m\u001b[0m\u001b[37m 0 \u001b[0m\n",
      "06 | \u001b[0m\u001b[37m 0 \u001b[0m\u001b[0m\u001b[37m 0 \u001b[0m\u001b[0m\u001b[37m 0 \u001b[0m\u001b[1m\u001b[38;2;255;255;255;43m 5 \u001b[0m\u001b[1m\u001b[38;2;255;255;255;43m 5 \u001b[0m\u001b[1m\u001b[38;2;255;255;255;43m 5 \u001b[0m\u001b[0m\u001b[37m 0 \u001b[0m\u001b[0m\u001b[37m 0 \u001b[0m\u001b[0m\u001b[37m 0 \u001b[0m\u001b[0m\u001b[37m 0 \u001b[0m\n",
      "07 | \u001b[0m\u001b[37m 0 \u001b[0m\u001b[0m\u001b[37m 0 \u001b[0m\u001b[0m\u001b[37m 0 \u001b[0m\u001b[0m\u001b[37m 0 \u001b[0m\u001b[1m\u001b[38;2;255;255;255;43m 5 \u001b[0m\u001b[0m\u001b[37m 0 \u001b[0m\u001b[0m\u001b[37m 0 \u001b[0m\u001b[0m\u001b[37m 0 \u001b[0m\u001b[0m\u001b[37m 0 \u001b[0m\u001b[0m\u001b[37m 0 \u001b[0m\n",
      "08 | \u001b[0m\u001b[37m 0 \u001b[0m\u001b[0m\u001b[37m 0 \u001b[0m\u001b[0m\u001b[37m 0 \u001b[0m\u001b[1m\u001b[38;2;255;255;255;101m 1 \u001b[0m\u001b[1m\u001b[38;2;255;255;255;101m 1 \u001b[0m\u001b[1m\u001b[38;2;255;255;255;101m 1 \u001b[0m\u001b[0m\u001b[37m 0 \u001b[0m\u001b[0m\u001b[37m 0 \u001b[0m\u001b[0m\u001b[37m 0 \u001b[0m\u001b[0m\u001b[37m 0 \u001b[0m\n",
      "09 | \u001b[0m\u001b[37m 0 \u001b[0m\u001b[0m\u001b[37m 0 \u001b[0m\u001b[0m\u001b[37m 0 \u001b[0m\u001b[0m\u001b[37m 0 \u001b[0m\u001b[0m\u001b[37m 0 \u001b[0m\u001b[1m\u001b[38;2;255;255;255;101m 1 \u001b[0m\u001b[0m\u001b[37m 0 \u001b[0m\u001b[0m\u001b[37m 0 \u001b[0m\u001b[0m\u001b[37m 0 \u001b[0m\u001b[0m\u001b[37m 0 \u001b[0m\n",
      "10 | \u001b[0m\u001b[37m 0 \u001b[0m\u001b[0m\u001b[37m 0 \u001b[0m\u001b[0m\u001b[37m 0 \u001b[0m\u001b[0m\u001b[37m 0 \u001b[0m\u001b[1m\u001b[38;2;255;255;255;102m 3 \u001b[0m\u001b[1m\u001b[38;2;255;255;255;102m 3 \u001b[0m\u001b[0m\u001b[37m 0 \u001b[0m\u001b[0m\u001b[37m 0 \u001b[0m\u001b[0m\u001b[37m 0 \u001b[0m\u001b[0m\u001b[37m 0 \u001b[0m\n",
      "11 | \u001b[0m\u001b[37m 0 \u001b[0m\u001b[0m\u001b[37m 0 \u001b[0m\u001b[0m\u001b[37m 0 \u001b[0m\u001b[0m\u001b[37m 0 \u001b[0m\u001b[1m\u001b[38;2;255;255;255;102m 3 \u001b[0m\u001b[1m\u001b[38;2;255;255;255;102m 3 \u001b[0m\u001b[0m\u001b[37m 0 \u001b[0m\u001b[0m\u001b[37m 0 \u001b[0m\u001b[0m\u001b[37m 0 \u001b[0m\u001b[0m\u001b[37m 0 \u001b[0m\n",
      "12 | \u001b[0m\u001b[37m 0 \u001b[0m\u001b[0m\u001b[37m 0 \u001b[0m\u001b[0m\u001b[37m 0 \u001b[0m\u001b[1m\u001b[38;2;255;255;255;101m 1 \u001b[0m\u001b[1m\u001b[38;2;255;255;255;101m 1 \u001b[0m\u001b[1m\u001b[38;2;255;255;255;101m 1 \u001b[0m\u001b[0m\u001b[37m 0 \u001b[0m\u001b[0m\u001b[37m 0 \u001b[0m\u001b[0m\u001b[37m 0 \u001b[0m\u001b[0m\u001b[37m 0 \u001b[0m\n",
      "13 | \u001b[0m\u001b[37m 0 \u001b[0m\u001b[0m\u001b[37m 0 \u001b[0m\u001b[0m\u001b[37m 0 \u001b[0m\u001b[0m\u001b[37m 0 \u001b[0m\u001b[0m\u001b[37m 0 \u001b[0m\u001b[1m\u001b[38;2;255;255;255;101m 1 \u001b[0m\u001b[0m\u001b[37m 0 \u001b[0m\u001b[0m\u001b[37m 0 \u001b[0m\u001b[0m\u001b[37m 0 \u001b[0m\u001b[0m\u001b[37m 0 \u001b[0m\n",
      "14 | \u001b[0m\u001b[37m 0 \u001b[0m\u001b[0m\u001b[37m 0 \u001b[0m\u001b[0m\u001b[37m 0 \u001b[0m\u001b[0m\u001b[37m 0 \u001b[0m\u001b[1m\u001b[38;2;255;255;255;102m 3 \u001b[0m\u001b[1m\u001b[38;2;255;255;255;102m 3 \u001b[0m\u001b[0m\u001b[37m 0 \u001b[0m\u001b[0m\u001b[37m 0 \u001b[0m\u001b[0m\u001b[37m 0 \u001b[0m\u001b[0m\u001b[37m 0 \u001b[0m\n",
      "15 | \u001b[0m\u001b[37m 0 \u001b[0m\u001b[0m\u001b[37m 0 \u001b[0m\u001b[0m\u001b[37m 0 \u001b[0m\u001b[0m\u001b[37m 0 \u001b[0m\u001b[1m\u001b[38;2;255;255;255;102m 3 \u001b[0m\u001b[1m\u001b[38;2;255;255;255;102m 3 \u001b[0m\u001b[0m\u001b[37m 0 \u001b[0m\u001b[0m\u001b[37m 0 \u001b[0m\u001b[0m\u001b[37m 0 \u001b[0m\u001b[0m\u001b[37m 0 \u001b[0m\n",
      "16 | \u001b[0m\u001b[37m 0 \u001b[0m\u001b[0m\u001b[37m 0 \u001b[0m\u001b[0m\u001b[37m 0 \u001b[0m\u001b[0m\u001b[37m 0 \u001b[0m\u001b[1m\u001b[38;2;255;255;255;46m 6 \u001b[0m\u001b[1m\u001b[38;2;255;255;255;46m 6 \u001b[0m\u001b[0m\u001b[37m 0 \u001b[0m\u001b[0m\u001b[37m 0 \u001b[0m\u001b[0m\u001b[37m 0 \u001b[0m\u001b[0m\u001b[37m 0 \u001b[0m\n",
      "17 | \u001b[0m\u001b[37m 0 \u001b[0m\u001b[0m\u001b[37m 0 \u001b[0m\u001b[0m\u001b[37m 0 \u001b[0m\u001b[1m\u001b[38;2;255;255;255;46m 6 \u001b[0m\u001b[1m\u001b[38;2;255;255;255;46m 6 \u001b[0m\u001b[0m\u001b[37m 0 \u001b[0m\u001b[0m\u001b[37m 0 \u001b[0m\u001b[0m\u001b[37m 0 \u001b[0m\u001b[0m\u001b[37m 0 \u001b[0m\u001b[0m\u001b[37m 0 \u001b[0m\n",
      "\n",
      "\u001b[1m\u001b[38;2;255;0;0m-10pts because 1sec passed without scoring !\u001b[0m\n",
      "  Reward=\u001b[1m\u001b[38;2;255;0;0m-200\u001b[0m\n",
      "\u001b[1m\u001b[38;2;255;0;0mGAME OVER\u001b[0m\n",
      "Game Infos:                \n",
      "-Total Rewards:\u001b[1m\u001b[38;2;255;0;0m-200\u001b[0m                \n",
      "-Game Score:\u001b[1m\u001b[38;2;255;0;0m0\u001b[0m                \n",
      "-Lines:\u001b[1m\u001b[38;2;255;0;0m0\u001b[0m                \n",
      "-Time:01:05.913                \n",
      "-Tetrominos used:14\n"
     ]
    }
   ],
   "source": [
    "pyboy = PyBoy(rom_path)\n",
    "\n",
    "pyboy.set_emulation_speed(game_speed)\n",
    "\n",
    "if skip_title_screen:\n",
    "    # Skip Title Screen and go directly in game\n",
    "    tetris = pyboy.game_wrapper\n",
    "    tetris.game_area_mapping(tetris.mapping_compressed, 0)\n",
    "    tetris.start_game(timer_div=game_random_seed)\n",
    "    pyboy.tick()\n",
    "\n",
    "# \\ Start values: /\n",
    "#  ---------------\n",
    "tetromino = tetris.next_tetromino()\n",
    "score = 0\n",
    "reward = 0\n",
    "start_time = time.time() # not used\n",
    "play_time = 0\n",
    "fps = 0\n",
    "last_time_fps = time.time()\n",
    "time_scale = 1\n",
    "delta_time = 0\n",
    "last_second = 0\n",
    "time_without_scoring = 0\n",
    "no_scoring_timer_decr = no_scoring_timer\n",
    "last_lines = 0\n",
    "last_levels = 0\n",
    "last_spawner_area = np.zeros((2, 4), dtype='int8') # Ths spawner area is an area of shape (2, 4) on top of the game area\n",
    "\n",
    "while pyboy.tick():\n",
    "    # TODO: Does rewind action (input ',') affect correctly delta_time, fps and time_scale? Allow RL model to use this action?\n",
    "    delta_time = time.time() - last_time_fps\n",
    "    fps = round(1 / delta_time, 0)\n",
    "    time_scale = fps / normal_fps\n",
    "\n",
    "    play_time += delta_time * time_scale\n",
    "    time_without_scoring += delta_time * time_scale\n",
    "\n",
    "    spawner_area = tetris.game_area()[1:3,3:7]\n",
    "\n",
    "    # 1sec passed (on current game speed)\n",
    "    if last_second + 1 < play_time:\n",
    "        if print_fps:\n",
    "            print(f'FPS: {fps}')\n",
    "        last_second += 1\n",
    "\n",
    "    # TODO: if current_screen == 'in_game': > detect with a CNN model, to predict current_screen value\n",
    "    # > all our code below\n",
    "    # else:\n",
    "    # > reward penalty\n",
    "\n",
    "    # Check time without scoring (for penalty)\n",
    "    if time_without_scoring > no_scoring_timer_decr:\n",
    "        reward += no_scoring_penalty\n",
    "        print(cstr_with_arg(f'{no_scoring_penalty}pts because {no_scoring_timer_decr}sec passed without scoring !', 'pure red', True))\n",
    "        print(f\"  Reward={cstr_with_arg(reward, 'pure green' if reward > 0 else 'pure red', True)}\")\n",
    "        time_without_scoring = 0\n",
    "        no_scoring_timer_decr = 1 if no_scoring_timer_decr - 1 < 1 else no_scoring_timer_decr - 1\n",
    "\n",
    "    # Check when a new tetromino spawn\n",
    "    if not np.array_equal(last_spawner_area, spawner_area):\n",
    "        unique = np.unique(last_spawner_area, return_counts=True)\n",
    "        count_last = {value:count for value, count in zip(unique[0], unique[1])}\n",
    "\n",
    "        unique = np.unique(spawner_area, return_counts=True)\n",
    "        count_curr = {value:count for value, count in zip(unique[0], unique[1])}\n",
    "\n",
    "        for t_id in range(1, 8):\n",
    "            if count_curr.get(t_id, 0) - count_last.get(t_id, 0) == 4:\n",
    "                print(cstr_with_arg(f'Add new tetromino {get_tetromino_form(t_id)}', 'pure green', True))\n",
    "                nb_tetromino_used_at_game_over += 1\n",
    "                if print_spawner:\n",
    "                    print(better_game_area(spawner_area, False))\n",
    "\n",
    "                adding_score = (tetris.score - score) * base_scoring_multiplier\n",
    "                reward += adding_score if adding_score > 0 else 0\n",
    "                print(f'Level: {tetris.level} | Lines: {tetris.lines}')\n",
    "                if tetris.lines > last_lines:\n",
    "                    print(f\"{cstr_with_arg(f'{tetris.lines - last_lines} line(s)!', 'pure green', True)}\")\n",
    "                    last_lines = tetris.lines\n",
    "                if tetris.level > last_levels:\n",
    "                    print(f\"{cstr_with_arg('Level up!', 'pure green', True)}\")\n",
    "                    last_levels = tetris.level\n",
    "                if adding_score > 0:\n",
    "                    print(f\"{cstr_with_arg(f'+{tetris.score - score} pt(s) with Tetromino {tetromino}', 'pure green', True)}\")\n",
    "                    time_without_scoring = 0\n",
    "                    no_scoring_timer_decr = no_scoring_timer\n",
    "                print(f\"Reward={cstr_with_arg(reward, 'pure green' if reward > 0 else 'pure red', True)}\")\n",
    "                if print_game_area:\n",
    "                    print(better_game_area(tetris.game_area()))\n",
    "\n",
    "                score = tetris.score\n",
    "                tetromino = get_tetromino_form(t_id)\n",
    "\n",
    "                break\n",
    "\n",
    "    # Check Game Over\n",
    "    if 8 in tetris.game_area() or (tetris.lines >= 100 and auto_restart_at_100_lines):\n",
    "        game_over(play_time, reward, tetris.score, tetris.lines, nb_tetromino_used_at_game_over)\n",
    "        if auto_restart_at_game_over:\n",
    "            tetris.reset_game()\n",
    "            # reset values\n",
    "            reward, start_time, play_time, tetromino, last_second, time_without_scoring, no_scoring_timer_decr, \\\n",
    "            last_lines, last_levels, last_spawner_area, nb_tetromino_used_at_game_over = reset_values()\n",
    "\n",
    "    last_spawner_area = spawner_area\n",
    "    last_time_fps = time.time()\n",
    "\n",
    "pyboy.stop()"
   ]
  },
  {
   "cell_type": "code",
   "execution_count": 87,
   "id": "f555b1c5",
   "metadata": {},
   "outputs": [],
   "source": [
    "# Close the game windows if the previous cell crashes\n",
    "pyboy.stop()"
   ]
  },
  {
   "cell_type": "markdown",
   "id": "0c3aed82",
   "metadata": {},
   "source": [
    "## Learning Models"
   ]
  },
  {
   "cell_type": "markdown",
   "id": "85b76f0f",
   "metadata": {},
   "source": [
    "### CNN Model (predict screen type)"
   ]
  },
  {
   "cell_type": "markdown",
   "id": "9c7787af",
   "metadata": {},
   "source": [
    "Learn all screens type (Title Screen, Pause, In Game, Game Over, Learderboard, etc.), and predict current screen type to run all our code only on the \"In Game\" screen, and allowing us to automatically restart the game when Game Over is reached."
   ]
  },
  {
   "cell_type": "code",
   "execution_count": null,
   "id": "80b9ed09",
   "metadata": {},
   "outputs": [],
   "source": [
    "# TODO"
   ]
  },
  {
   "cell_type": "markdown",
   "id": "8e271c8a",
   "metadata": {},
   "source": [
    "### RL Model (perform to the WR!)"
   ]
  },
  {
   "cell_type": "markdown",
   "id": "27ed2229",
   "metadata": {},
   "source": [
    "Tetris (GameBoy 1989) speedruns : https://www.speedrun.com/fr-FR/tetrisgb?h=100_Lines_Level_0_Start&x=z277yr42\n",
    "> World Record \"100 Lines, Level 0 Start\" to beat: 4min 24sec 133ms..."
   ]
  },
  {
   "cell_type": "markdown",
   "id": "e61c74e5",
   "metadata": {},
   "source": [
    "<pre>Rewards:\n",
    "-X*scoring\n",
    "\n",
    "Penalties:\n",
    "-Xsec without scoring\n",
    "-Not in the \"In Game\" screen</pre>"
   ]
  },
  {
   "cell_type": "markdown",
   "id": "2e554f14",
   "metadata": {},
   "source": [
    "Video of Reinforcement Learning on Pokemon Red (GameBoy, emulated on PyBoy): https://www.youtube.com/watch?v=DcYLT37ImBY\n",
    "> And project github: https://github.com/PWhiddy/PokemonRedExperiments"
   ]
  },
  {
   "cell_type": "markdown",
   "id": "861a30d8",
   "metadata": {},
   "source": [
    "Custom environment (PyBoy) inherited from Gymnasium: https://rotational.io/blog/reinforcement-learning-automation-and-tetris/\n",
    "> To be able to use it with PPO model"
   ]
  },
  {
   "cell_type": "markdown",
   "id": "d06852d2",
   "metadata": {},
   "source": [
    "Proximal Policy Optimization (PPO) model documentation: https://stable-baselines3.readthedocs.io/en/master/modules/ppo.html"
   ]
  },
  {
   "cell_type": "code",
   "execution_count": null,
   "id": "dd580560",
   "metadata": {},
   "outputs": [],
   "source": [
    "# TODO"
   ]
  }
 ],
 "metadata": {
  "kernelspec": {
   "display_name": "Python 3 (ipykernel)",
   "language": "python",
   "name": "python3"
  },
  "language_info": {
   "codemirror_mode": {
    "name": "ipython",
    "version": 3
   },
   "file_extension": ".py",
   "mimetype": "text/x-python",
   "name": "python",
   "nbconvert_exporter": "python",
   "pygments_lexer": "ipython3",
   "version": "3.10.6"
  },
  "toc": {
   "base_numbering": 1,
   "nav_menu": {},
   "number_sections": true,
   "sideBar": true,
   "skip_h1_title": false,
   "title_cell": "Table of Contents",
   "title_sidebar": "Contents",
   "toc_cell": false,
   "toc_position": {},
   "toc_section_display": true,
   "toc_window_display": false
  }
 },
 "nbformat": 4,
 "nbformat_minor": 5
}

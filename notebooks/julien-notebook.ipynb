{
 "cells": [
  {
   "cell_type": "markdown",
   "metadata": {},
   "source": [
    "### Comment constuire nos Classes (brouillon)"
   ]
  },
  {
   "cell_type": "markdown",
   "metadata": {},
   "source": [
    "### Classe `Env`\n",
    "1. Les états\n",
    "2. Les actions possibles\n",
    "3. Les récompenses\n",
    "4. Fin de l’epoch (épisode)\n",
    "5. Reset\n",
    "6. Visualisation\n",
    "7. Interaction avec Gym\n",
    "\n",
    "### Classe `Agent`\n",
    "1. Policy\n",
    "2. Méthode d’apprentissage\n",
    "3. Mémoire d’expérience\n",
    "4. Interaction avec l’environnement\n",
    "5. Paramètres et hyperparamètres\n",
    "6. Sauvegarde\n",
    "7. Entraînement"
   ]
  },
  {
<<<<<<< Updated upstream
=======
   "cell_type": "code",
   "execution_count": 1,
   "metadata": {},
   "outputs": [
    {
     "name": "stderr",
     "output_type": "stream",
     "text": [
      "UserWarning: Using SDL2 binaries from pysdl2-dll 2.30.2\n"
     ]
    }
   ],
   "source": [
    "#Import\n",
    "from pyboy import PyBoy\n",
    "from pyboy.utils import WindowEvent\n",
    "import time\n",
    "import numpy as np\n",
    "import gymnasium as gym\n",
    "from stable_baselines3 import PPO\n",
    "from stable_baselines3.common.vec_env import DummyVecEnv\n",
    "import pandas as np\n",
    "import matplotlib.pyplot as plt"
   ]
  },
  {
   "cell_type": "code",
   "execution_count": 2,
   "metadata": {},
   "outputs": [],
   "source": [
    "#pass pour démarrer le jeu\n",
    "rom_path = '/Users/julienbellande/Desktop/tetris.gb'"
   ]
  },
  {
   "cell_type": "code",
   "execution_count": 3,
   "metadata": {},
   "outputs": [],
   "source": [
    "class TetrisEnv() :\n",
    "\n",
    "    def __init__(self, rom_path):\n",
    "        self.pyboy = PyBoy(rom_path)\n",
    "        self.pyboy.set_emulation_speed(0)\n",
    "        tetris = self.pyboy.game_wrapper\n",
    "        tetris.game_area_mapping(tetris.mapping_compressed, 0)\n",
    "        tetris.start_game()\n",
    "        self.pyboy.tick()\n",
    "\n",
    "    def state():\n",
    "        pass\n",
    "\n",
    "    def actions(self):\n",
    "\n",
    "        pass\n",
    "\n",
    "    def rewards():\n",
    "        pass\n",
    "\n",
    "    def reset(self):\n",
    "        pass\n",
    "\n",
    "\n",
    "    def interact():\n",
    "        pass\n",
    "\n",
    "    def plot_result():\n",
    "        pass"
   ]
  },
  {
   "cell_type": "code",
   "execution_count": 4,
   "metadata": {},
   "outputs": [
    {
     "ename": "FileNotFoundError",
     "evalue": "ROM file /Users/julienbellande/Desktop/tetris.gb was not found!",
     "output_type": "error",
     "traceback": [
      "\u001b[0;31m---------------------------------------------------------------------------\u001b[0m",
      "\u001b[0;31mFileNotFoundError\u001b[0m                         Traceback (most recent call last)",
      "Cell \u001b[0;32mIn[4], line 1\u001b[0m\n\u001b[0;32m----> 1\u001b[0m env \u001b[38;5;241m=\u001b[39m \u001b[43mTetrisEnv\u001b[49m\u001b[43m(\u001b[49m\u001b[43mrom_path\u001b[49m\u001b[43m)\u001b[49m\n\u001b[1;32m      3\u001b[0m \u001b[38;5;28;01mwhile\u001b[39;00m env\u001b[38;5;241m.\u001b[39mpyboy\u001b[38;5;241m.\u001b[39mtick():\n\u001b[1;32m      4\u001b[0m     \u001b[38;5;28;01mpass\u001b[39;00m\n",
      "Cell \u001b[0;32mIn[3], line 4\u001b[0m, in \u001b[0;36mTetrisEnv.__init__\u001b[0;34m(self, rom_path)\u001b[0m\n\u001b[1;32m      3\u001b[0m \u001b[38;5;28;01mdef\u001b[39;00m \u001b[38;5;21m__init__\u001b[39m(\u001b[38;5;28mself\u001b[39m, rom_path):\n\u001b[0;32m----> 4\u001b[0m     \u001b[38;5;28mself\u001b[39m\u001b[38;5;241m.\u001b[39mpyboy \u001b[38;5;241m=\u001b[39m \u001b[43mPyBoy\u001b[49m\u001b[43m(\u001b[49m\u001b[43mrom_path\u001b[49m\u001b[43m)\u001b[49m\n\u001b[1;32m      5\u001b[0m     \u001b[38;5;28mself\u001b[39m\u001b[38;5;241m.\u001b[39mpyboy\u001b[38;5;241m.\u001b[39mset_emulation_speed(\u001b[38;5;241m0\u001b[39m)\n\u001b[1;32m      6\u001b[0m     tetris \u001b[38;5;241m=\u001b[39m \u001b[38;5;28mself\u001b[39m\u001b[38;5;241m.\u001b[39mpyboy\u001b[38;5;241m.\u001b[39mgame_wrapper\n",
      "File \u001b[0;32m~/.pyenv/versions/3.10.6/envs/IA-Tetris/lib/python3.10/site-packages/pyboy/pyboy.py:126\u001b[0m, in \u001b[0;36mpyboy.pyboy.PyBoy.__init__\u001b[0;34m()\u001b[0m\n",
      "\u001b[0;31mFileNotFoundError\u001b[0m: ROM file /Users/julienbellande/Desktop/tetris.gb was not found!"
     ]
    }
   ],
   "source": [
    "env = TetrisEnv(rom_path)\n",
    "\n",
    "while env.pyboy.tick():\n",
    "    pass"
   ]
  },
  {
>>>>>>> Stashed changes
   "cell_type": "markdown",
   "metadata": {},
   "source": []
  }
 ],
 "metadata": {
  "kernelspec": {
   "display_name": "IA-Tetris",
   "language": "python",
   "name": "python3"
  },
  "language_info": {
   "codemirror_mode": {
    "name": "ipython",
    "version": 3
   },
   "file_extension": ".py",
   "mimetype": "text/x-python",
   "name": "python",
   "nbconvert_exporter": "python",
   "pygments_lexer": "ipython3",
   "version": "3.10.6"
  }
 },
 "nbformat": 4,
 "nbformat_minor": 2
}

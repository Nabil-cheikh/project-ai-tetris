{
 "cells": [
  {
   "cell_type": "markdown",
   "metadata": {},
   "source": [
    "### Comment constuire nos Classes (brouillon)"
   ]
  },
  {
   "cell_type": "markdown",
   "metadata": {},
   "source": [
    "### Classe `Env`\n",
    "1. Les états\n",
    "2. Les actions possibles\n",
    "3. Les récompenses\n",
    "4. Fin de l’epoch (épisode)\n",
    "5. Reset\n",
    "6. Visualisation\n",
    "7. Interaction avec Gym\n",
    "\n",
    "### Classe `Agent`\n",
    "1. Policy\n",
    "2. Méthode d’apprentissage\n",
    "3. Mémoire d’expérience\n",
    "4. Interaction avec l’environnement\n",
    "5. Paramètres et hyperparamètres\n",
    "6. Sauvegarde\n",
    "7. Entraînement"
   ]
  },
  {
   "cell_type": "code",
   "execution_count": 6,
   "metadata": {},
   "outputs": [
    {
     "ename": "ModuleNotFoundError",
     "evalue": "No module named 'IA_Tetris'",
     "output_type": "error",
     "traceback": [
      "\u001b[0;31m---------------------------------------------------------------------------\u001b[0m",
      "\u001b[0;31mModuleNotFoundError\u001b[0m                       Traceback (most recent call last)",
      "Cell \u001b[0;32mIn[6], line 11\u001b[0m\n\u001b[1;32m      9\u001b[0m \u001b[38;5;28;01mimport\u001b[39;00m \u001b[38;5;21;01mmatplotlib\u001b[39;00m\u001b[38;5;21;01m.\u001b[39;00m\u001b[38;5;21;01mpyplot\u001b[39;00m \u001b[38;5;28;01mas\u001b[39;00m \u001b[38;5;21;01mplt\u001b[39;00m\n\u001b[1;32m     10\u001b[0m \u001b[38;5;28;01mfrom\u001b[39;00m \u001b[38;5;21;01mpyboy\u001b[39;00m\u001b[38;5;21;01m.\u001b[39;00m\u001b[38;5;21;01mplugins\u001b[39;00m\u001b[38;5;21;01m.\u001b[39;00m\u001b[38;5;21;01mgame_wrapper_tetris\u001b[39;00m \u001b[38;5;28;01mimport\u001b[39;00m GameWrapperTetris\n\u001b[0;32m---> 11\u001b[0m \u001b[38;5;28;01mfrom\u001b[39;00m \u001b[38;5;21;01mIA_Tetris\u001b[39;00m\u001b[38;5;21;01m.\u001b[39;00m\u001b[38;5;21;01mparams\u001b[39;00m \u001b[38;5;28;01mimport\u001b[39;00m \u001b[38;5;241m*\u001b[39m\n\u001b[1;32m     13\u001b[0m \u001b[38;5;66;03m#path pour démarrer le jeu\u001b[39;00m\n\u001b[1;32m     14\u001b[0m rom_path \u001b[38;5;241m=\u001b[39m ROM_PATH\n",
      "\u001b[0;31mModuleNotFoundError\u001b[0m: No module named 'IA_Tetris'"
     ]
    }
   ],
   "source": [
    "from pyboy import PyBoy\n",
    "from pyboy.utils import WindowEvent\n",
    "import time\n",
    "import numpy as np\n",
    "import gymnasium as gym\n",
    "from stable_baselines3 import PPO\n",
    "from stable_baselines3.common.vec_env import DummyVecEnv\n",
    "import pandas as np\n",
    "import matplotlib.pyplot as plt\n",
    "from pyboy.plugins.game_wrapper_tetris import GameWrapperTetris\n",
    "from IA_Tetris.params import *\n",
    "\n",
    "#path pour démarrer le jeu\n",
    "rom_path = ROM_PATH\n",
    "\n",
    "class TetrisEnv() :\n",
    "\n",
    "    def __init__(self, rom_path):\n",
    "        self.pyboy = PyBoy(rom_path)\n",
    "        self.tetris = GameWrapperTetris()\n",
    "        self.tetris.game_area_mapping(self.tetris.mapping_compressed, 0)\n",
    "        self.tetris.start_game()\n",
    "        self.pyboy.tick()\n",
    "\n",
    "    def state(self):\n",
    "        game_area = self.tetris.game_area()\n",
    "        return game_area\n",
    "\n",
    "    def game_over(self):\n",
    "        self.tetris.game_over()\n",
    "\n",
    "    def actions(self, action):\n",
    "        if action == 0:\n",
    "            self.pyboy.send_input(WindowEvent.PRESS_ARROW_LEFT)\n",
    "        elif action == 1:\n",
    "            self.pyboy.send_input(WindowEvent.PRESS_ARROW_RIGHT)\n",
    "        elif action == 2:\n",
    "            self.pyboy.send_input(WindowEvent.PRESS_ARROW_DOWN)\n",
    "        elif action == 3:\n",
    "            self.pyboy.send_input(WindowEvent.PRESS_BUTTON_A)\n",
    "        elif action == 4:\n",
    "            self.pyboy.send_input(WindowEvent.PRESS_BUTTON_B)\n",
    "        self.pyboy.tick()\n",
    "\n",
    "    def lines_rewards(self):\n",
    "        rewards = self.tetris.lines*500\n",
    "        return rewards\n",
    "\n",
    "    def heigh_rewards(self):\n",
    "        rewards += 0\n",
    "        for i in self.tetris.game_area():\n",
    "            if i == 47:\n",
    "                rewards = 47*1\n",
    "        for i in self.tetris.game_area():\n",
    "            if i != 47:\n",
    "                rewards = -100\n",
    "        return rewards\n",
    "\n",
    "    def score_rewards(self):\n",
    "        rewards = self.tetris.score*1\n",
    "        return rewards\n",
    "\n",
    "    def hole_rewards(self):\n",
    "        rows, cols = self.tetris.game_area()\n",
    "        hole = 0\n",
    "        for i in range(1, rows - 1):\n",
    "            for j in range(1, cols - 1):\n",
    "                if self.tetris.game_area()[i, j] == 47:\n",
    "                    hole_exemple= [self.tetris.game_area()[i-1, j-1],\n",
    "                                self.tetris.game_area()[i-1, j],\n",
    "                                self.tetris.game_area()[i-1, j+1],\n",
    "                                self.tetris.game_area()[i, j-1],\n",
    "                                self.tetris.game_area()[i, j+1],\n",
    "                                self.tetris.game_area()[i+1, j-1],\n",
    "                                self.tetris.game_area()[i+1, j],\n",
    "                                self.tetris.game_area()[i+1, j+1]]\n",
    "\n",
    "                    if all(h != 47 for h in hole_exemple):\n",
    "                        hole += 1\n",
    "        rewards = hole*500\n",
    "        return rewards\n",
    "\n",
    "\n",
    "\n",
    "    def reset(self):\n",
    "        self.tetris.reset_game()\n",
    "\n",
    "\n",
    "    def close(self):\n",
    "        self.pyboy.stop()\n",
    "\n",
    "\n",
    "# dans le main\n"
   ]
  },
  {
   "cell_type": "code",
   "execution_count": 7,
   "metadata": {},
   "outputs": [
    {
     "ename": "NameError",
     "evalue": "name 'TetrisEnv' is not defined",
     "output_type": "error",
     "traceback": [
      "\u001b[0;31m---------------------------------------------------------------------------\u001b[0m",
      "\u001b[0;31mNameError\u001b[0m                                 Traceback (most recent call last)",
      "Cell \u001b[0;32mIn[7], line 1\u001b[0m\n\u001b[0;32m----> 1\u001b[0m env \u001b[38;5;241m=\u001b[39m \u001b[43mTetrisEnv\u001b[49m(rom_path)\n\u001b[1;32m      2\u001b[0m \u001b[38;5;28;01mwhile\u001b[39;00m env\u001b[38;5;241m.\u001b[39mpyboy\u001b[38;5;241m.\u001b[39mtick():\n\u001b[1;32m      3\u001b[0m     \u001b[38;5;28;01mpass\u001b[39;00m\n",
      "\u001b[0;31mNameError\u001b[0m: name 'TetrisEnv' is not defined"
     ]
    }
   ],
   "source": [
    "env = TetrisEnv(rom_path)\n",
    "while env.pyboy.tick():\n",
    "    pass"
   ]
  },
  {
   "cell_type": "markdown",
   "metadata": {},
   "source": []
  }
 ],
 "metadata": {
  "kernelspec": {
   "display_name": "IA-Tetris",
   "language": "python",
   "name": "python3"
  },
  "language_info": {
   "codemirror_mode": {
    "name": "ipython",
    "version": 3
   },
   "file_extension": ".py",
   "mimetype": "text/x-python",
   "name": "python",
   "nbconvert_exporter": "python",
   "pygments_lexer": "ipython3",
   "version": "3.10.6"
  }
 },
 "nbformat": 4,
 "nbformat_minor": 2
}

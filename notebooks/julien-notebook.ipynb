{
 "cells": [
  {
   "cell_type": "markdown",
   "metadata": {},
   "source": [
    "### Comment constuire nos Classes (brouillon)"
   ]
  },
  {
   "cell_type": "markdown",
   "metadata": {},
   "source": [
    "### Classe `Env`\n",
    "1. Les états\n",
    "2. Les actions possibles\n",
    "3. Les récompenses\n",
    "4. Fin de l’epoch (épisode)\n",
    "5. Reset\n",
    "6. Visualisation\n",
    "7. Interaction avec Gym\n",
    "\n",
    "### Classe `Agent`\n",
    "1. Policy\n",
    "2. Méthode d’apprentissage\n",
    "3. Mémoire d’expérience\n",
    "4. Interaction avec l’environnement\n",
    "5. Paramètres et hyperparamètres\n",
    "6. Sauvegarde\n",
    "7. Entraînement"
   ]
  },
  {
   "cell_type": "code",
   "execution_count": 12,
   "metadata": {},
   "outputs": [],
   "source": [
    "#Import\n",
    "from pyboy import PyBoy\n",
    "from pyboy.utils import WindowEvent\n",
    "import time\n",
    "import numpy as np\n",
    "import gymnasium as gym\n",
    "from stable_baselines3 import PPO\n",
    "from stable_baselines3.common.vec_env import DummyVecEnv\n",
    "import pandas as np\n",
    "import matplotlib.pyplot as plt"
   ]
  },
  {
   "cell_type": "code",
   "execution_count": 13,
   "metadata": {},
   "outputs": [],
   "source": [
    "#pass pour démarrer le jeu\n",
    "rom_path = '/Users/julienbellande/Desktop/tetris.gb'"
   ]
  },
  {
   "cell_type": "code",
   "execution_count": 14,
   "metadata": {},
   "outputs": [],
   "source": [
    "class TetrisEnv() :\n",
    "\n",
    "    def __init__(self, rom_path):\n",
    "        self.pyboy = PyBoy(rom_path)\n",
    "        self.pyboy.set_emulation_speed(0)\n",
    "        tetris = self.pyboy.game_wrapper\n",
    "        tetris.game_area_mapping(tetris.mapping_compressed, 0)\n",
    "        tetris.start_game()\n",
    "        self.pyboy.tick()\n",
    "\n",
    "    def state():\n",
    "        pass\n",
    "\n",
    "    def actions(self):\n",
    "\n",
    "        pass\n",
    "\n",
    "    def rewards():\n",
    "        pass\n",
    "\n",
    "    def reset(self):\n",
    "        pass\n",
    "\n",
    "\n",
    "    def interact():\n",
    "        pass\n",
    "\n",
    "    def plot_result():\n",
    "        pass"
   ]
  },
  {
   "cell_type": "code",
   "execution_count": 15,
   "metadata": {},
   "outputs": [],
   "source": [
    "env = TetrisEnv(rom_path)\n",
    "\n",
    "while env.pyboy.tick():\n",
    "    pass"
   ]
  },
  {
   "cell_type": "markdown",
   "metadata": {},
   "source": []
  }
 ],
 "metadata": {
  "kernelspec": {
   "display_name": "IA-Tetris",
   "language": "python",
   "name": "python3"
  },
  "language_info": {
   "codemirror_mode": {
    "name": "ipython",
    "version": 3
   },
   "file_extension": ".py",
   "mimetype": "text/x-python",
   "name": "python",
   "nbconvert_exporter": "python",
   "pygments_lexer": "ipython3",
   "version": "3.10.6"
  }
 },
 "nbformat": 4,
 "nbformat_minor": 2
}

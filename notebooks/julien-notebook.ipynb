{
 "cells": [
  {
   "cell_type": "markdown",
   "metadata": {},
   "source": [
    "### Comment constuire nos Classes (brouillon)"
   ]
  },
  {
   "cell_type": "markdown",
   "metadata": {},
   "source": [
    "### Classe `Env`\n",
    "1. Les états\n",
    "2. Les actions possibles\n",
    "3. Les récompenses\n",
    "4. Fin de l’epoch (épisode)\n",
    "5. Reset\n",
    "6. Visualisation\n",
    "7. Interaction avec Gym\n",
    "\n",
    "### Classe `Agent`\n",
    "1. Policy\n",
    "2. Méthode d’apprentissage\n",
    "3. Mémoire d’expérience\n",
    "4. Interaction avec l’environnement\n",
    "5. Paramètres et hyperparamètres\n",
    "6. Sauvegarde\n",
    "7. Entraînement"
   ]
  },
  {
   "cell_type": "markdown",
   "metadata": {},
   "source": []
  }
 ],
 "metadata": {
  "kernelspec": {
   "display_name": "IA-Tetris",
   "language": "python",
   "name": "python3"
  },
  "language_info": {
   "codemirror_mode": {
    "name": "ipython",
    "version": 3
   },
   "file_extension": ".py",
   "mimetype": "text/x-python",
   "name": "python",
   "nbconvert_exporter": "python",
   "pygments_lexer": "ipython3",
   "version": "3.10.6"
  }
 },
 "nbformat": 4,
 "nbformat_minor": 2
}
